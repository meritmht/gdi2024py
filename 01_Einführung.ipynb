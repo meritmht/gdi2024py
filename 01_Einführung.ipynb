{
 "cells": [
  {
   "cell_type": "markdown",
   "metadata": {},
   "source": [
    "# Einstieg in Python"
   ]
  },
  {
   "cell_type": "markdown",
   "metadata": {},
   "source": [
    "Python wurde in den späten 1980er Jahren als Lehr- und Skriptsprache entwickelt. Seitdem hat sich Python zu einem unverzichtbaren Werkzeug für viele Programmierer, Ingenieure, Forscher und Data Scientists in Wissenschaft und Industrie entwickelt. \n",
    "\n",
    "Python lässt sich in sehr vielen Bereichen sinnvoll einsetzen, z.B.\n",
    "- **Webentwicklung** auf Serverseite mit Frameworks wie Django, Flask, FastAPI, etc.,\n",
    "- **Datenanalyse und -wissenschaft**: Python ist in der Wissenschaftsgemeinschaft sehr beliebt, vor allem wegen Bibliotheken wie NumPy, Pandas, [Polars](https://pola.rs/), Matplotlib, plotly u.v.a, die die Datenanalyse und die Visualisierung vereinfachen.\n",
    "- **Künstliche Intelligenz und maschinelles Lernen**: Python ist eine der führenden Sprachen im Bereich der künstlichen Intelligenz, mit Bibliotheken wie Scikit-Learn, TensorFlow, Keras und PyTorch, die Forschung und Entwicklung in diesem Bereich unterstützen.\n",
    "- **Automatisierung und Scripting**: Python-Skripte sind ideal für die Automatisierung wiederkehrender Aufgaben und Prozesse auf Computern.\n",
    "- **Softwareentwicklung**: Python wird auch für die Entwicklung von Desktop- und Geschäftsanwendungen verwendet. Es wird wegen seiner Lesbarkeit und Effizienz geschätzt. [Odoo](https://www.odoo.com) ist bspw. ein Open Source ERP und CRM-System, das in Python geschrieben ist und mit Python auf eigene Bedürfnisse angepasst werden kann.\n",
    "\n",
    "\n",
    "Der Reiz von Python liegt in seiner Einfachheit und Schönheit sowie in der Bequemlichkeit des großen Ökosystems. So existieren viele domänenspezifische Werkzeuge, die darauf aufbauen.\n",
    "\n",
    "#### IPython / Jupyter Notebook\n",
    "\n",
    "IPython/Jupyter bietet uns ein erweitertes Terminal und eine interaktive Notebook-Umgebung, die für explorative Analysen sowie für die Erstellung interaktiver, ausführbarer Dokumente nützlich ist.\n",
    "\n",
    "Ein Jupyter-Notebook ist ein Dokument, welches aus mehreren Zellen besteht. Jede Zelle kann entweder Text enthalten ([Markdown](https://www.markdownguide.org/)) oder Python-Code, der dann gezielt interaktiv ausgeführt werden kann. Implementiert sind diese Notebooks (Dateiendung `.ipynb`) als [JSON](https://www.json.org/)-Dokumente.\n",
    "\n",
    "Jupyter-Notebooks unterstützen das [Literate Programming](https://de.wikipedia.org/wiki/Literate_Programming), bei dem Code und Dokumentation vermischt werden, indem der Code in eine narrative Sprache eingebettet wird, welche die Leser durch die Logik und die Entscheidungen des Programms führt. Dies unterscheidet sich von der traditionellen Kommentierung, bei der Kommentare meist nur kurze Erläuterungen oder Beschreibungen des Codes sind. Gerade beim Einstieg in die Programmiersprache eröffnet das viele Möglichkeiten, sich aktiv mit Inhalten auseinanderzusetzen und sie sich zu eigen zu machen. Machen Sie regen Gebrauch davon! Ergänzen Sie die Textzellen mit Ihren eigenen Gedanken, um Inhalte noch besser zu verstehen!\n",
    "\n",
    "#### Unser Einstieg in Python\n",
    "\n",
    "Wir können bereits auf erste Programmiererfahrungen in Java zurückgreifen. Das ist uns beim Python-Einstieg behilflich, so dass wir uns auf Unterschiede und Gemeinsamkeiten der Programmiersprachen fokussieren können, ohne jedes Grundkonzept noch einmal komplett erklären zu müssen.\n",
    "\n",
    "Dies wird also eine eher zügige Tour durch die grundlegende Syntax und Semantik von Python, integrierte Datentypen und -strukturen, Funktionsdefinitionen, Kontrollflussstrukuren und weitere Aspekte der Sprache. Sie erhalten die Gelegenheit, Ihre erlernten Fähigkeiten in kleinen Aufgaben zu überprüfen.\n",
    "\n",
    "Dieser Einstieg soll uns letztlich dazu dienen, dass wir die theoretischen Konzepte der Veranstaltung praktisch anwenden können. Insbesondere wollen wir Python nutzen, um in die Datenstrukturen und Algorithmen einzusteigen, um Konzepte wir Komplexität und Berechenbarkeit pragmatisch und praktisch zu erkunden.\n",
    "\n",
    "#### Entwicklungsumgebung (CodeSpaces oder lokales Setup)\n",
    "\n",
    "Für alle, die einfach loslegen wollen, empfiehlt sich die Nutzung der **[GitHub Codespaces](https://github.com/features/codespaces)** und dieses Projekts. Dann sind es tatsächlich nur 2 Klicks oder Taps.\n",
    "\n",
    "Wer ein lokales Setup mit einer identischen Konfiguration nutzen mag, der benötigt:\n",
    "- ein Notebook oder einen Desktop-PC,\n",
    "- eine Installation von [Visual Studio Code](), oft abgekürzt als VS Code mit der [Dev Containers]() Erweiterung,\n",
    "- eine Installation von [Docker]() oder [Podman](),\n",
    "- eine Installation von [Git]().\n",
    "Sprechen Sie gern Ihren Dozenten an, falls Sie Unterstützung beim Setup wünschen.\n",
    "\n",
    "Für alle, die es interessiert. Wir nutzen einen sogenannten [Entwicklungscontainer](https://containers.dev/), welcher alle Abhängigkeiten unserer Entwicklungsumgebung beinhaltet und kapselt. In diesem Container nutzen wir [pyenv](https://github.com/pyenv/pyenv) für die Verwaltung von Python-Versionen und [Poetry](https://python-poetry.org/) für das Management von Abhängigkeiten (Bibliotheken, Packages, etc.).\n",
    "\n",
    "Alternativ lässt sich Python natürlich auch direkt auf Ihrem Betriebssystem installieren, direkt oder mit Hilfe von Python-Distributionen wie Anaconda oder Miniconda. Rechnen Sie in diesem Fall mit mehr Aufwand für die Installation und zusätzliche Schritte, die von unserem gemeinsamen Vorgehen in der Veranstaltung abweichen können.\n",
    "\n",
    "##### Python-Version\n",
    "\n",
    "Wir nutzen für unseren Einstieg eine aktuelle Version von Python: 3.12. Gegenüber der Version 2 gibt es einige grundlegende Veränderungen!\n",
    "\n",
    "##### Hello, Python!\n",
    "\n",
    "Lassen Sie uns direkt starten, mit einem Klassiker:"
   ]
  },
  {
   "cell_type": "code",
   "execution_count": 2,
   "metadata": {},
   "outputs": [
    {
     "name": "stdout",
     "output_type": "stream",
     "text": [
      "Hello, World!\n"
     ]
    }
   ],
   "source": [
    "print(\"Hello, World!\")"
   ]
  },
  {
   "cell_type": "markdown",
   "metadata": {},
   "source": [
    "Python-Liebhaber betonen oft, wie \"intuitiv\", \"schön\" oder \"fun\" Python ist. Ich neige dazu, dem zuzustimmen, aber ich weiß auch, dass Schönheit, Intuition und Spaß oft mit Vertrautheit einhergehen, so dass für diejenigen, die mit anderen Sprachen vertraut sind, solche blumigen Äußerungen ein wenig selbstgefällig wirken können. Dennoch hoffe ich, dass Sie, wenn Sie Python eine Chance geben, erkennen werden, woher solche Eindrücke kommen könnten. Und wenn Sie wirklich in die Programmierphilosophie eintauchen wollen, die einen Großteil der Programmierpraxis von Python-Power-Usern bestimmt, gibt es ein nettes kleines Osterei im Python-Interpreter: "
   ]
  },
  {
   "cell_type": "code",
   "execution_count": 4,
   "metadata": {},
   "outputs": [],
   "source": [
    "import this"
   ]
  },
  {
   "cell_type": "markdown",
   "metadata": {},
   "source": [
    "Wir werden versuchen, uns weitestgehend an diesen Grundsätzen zu orientieren. Eine weitere sehr gute Orientierung bietet [PEP 8, der **Python Style Guide**](http://www.python.org/peps/pep-0008.html), in dem die üblichen Code Konventionen festgehalten sind. Da Whitespace-Varianten, insbesondere Einrückungen, bei Python syntaktisch relevant sind, lohnt es sich, den Style Guide einmal zu überfliegen.\n",
    "\n",
    "PEP steht für [Python Enhancement Proposal](https://www.python.org/dev/peps/). Über diese Vorschläge steuert die Python-Community ihren Prozess zur Weiterentwicklung der Sprache.\n",
    "\n",
    "Python ist sehr gut dokumentiert. Die **[offizielle Dokumentation der Sprache](https://docs.python.org/3.12/)** ist ausführlich und sehr nützlich."
   ]
  },
  {
   "cell_type": "markdown",
   "metadata": {},
   "source": [
    "##### Python-Code ausführen\n",
    "\n",
    "Python ist eine interpretierte Skriptsprache. Das bedeutet, wir müssen Python-Code nicht kompilieren, wie bei Java oder C-Sprachen, bevor wir ihn ausführen können. Der Python-Interpreter erzeugt aus dem Python-Quellcode ein Zwischenformat, Byte-Code, der von der Python Virtual Machine (PVM) ausgeführt wird. Der Interpreter kompiliert somit zur Laufzeit. Die resultierenden (`.pyc`-Dateien) werden im `__pycache__`-Verzeichnis gespeichert. Diese Vorgehensweise verbessert die Startzeit von Skripten bei nachfolgenden Ausführungen. \n",
    "\n",
    "Es existieren daneben weitere Ansätze, um Python-Code vorab (*Ahead-of-time*) zu übersetzen, um auch die erstmalige Ausführung zu beschleunigen. Cython ermöglicht es Python-Code in maschinennahen C-Code zu übersetzen. Dies ist besonders nützlich, um die Ausführungsgeschwindigkeit kritischer Codeabschnitte zu verbessern. Cython wird häufig verwendet, um Python-Module zu schreiben, die performanzkritische Funktionen enthalten. Das wird uns in dieser Veranstaltung jedoch nicht weiter beschäftigen.\n",
    "\n",
    "Um ein Python-Skript auszuführen, können wir es dem Python-Interpreter direkt im Terminal übergeben:\n",
    "\n",
    "```terminal\n",
    "# im Terminal\n",
    "python first.py\n",
    "```\n",
    "\n",
    "##### In VS Code\n",
    "\n",
    "Für die interaktive und schrittweise Ausführung eines Python-Skripts oder eines Jupyter-Notebooks (Dateiendung `.ipynb`) benötigen wir das Package `ipykernel`. In unserer Entwicklungsumgebung ist dies bereits installiert.\n",
    "\n",
    "In einem Jupyter-Notebook können Sie eine Python-Code-Zelle ausführen, indem Sie den Button `Execute Cell` direkt an der Zelle betätigen. Wenn Sie sich in der Zelle befinden, können Sie die Zelle auch direkt mit der Tastenkombination `SHIFT`+`ENTER` ausführen.\n",
    "\n",
    "Wenn Ihr VS Code entsprechend konfiguriert ist, können Sie auch in Python-Dateien (Dateiendung `py`) den Code schrittweise und interaktiv ausführen. Markieren Sie dazu den Code-Teil, den Sie ausführen wollen und nutzen Sie ebenfalls die Tastenkombination `SHIFT`+`ENTER`. Ohne Markierung wird die aktive Zeile, in der sich Ihr Cursor befindet, ausgeführt.\n",
    "\n",
    "Natürlich können Sie auch das gesamte Python-Skript ausführen lassen. Nutzen Sie dazu den Button `Run Python File` oben rechts über dem Editor."
   ]
  }
 ],
 "metadata": {
  "kernelspec": {
   "display_name": ".venv",
   "language": "python",
   "name": "python3"
  },
  "language_info": {
   "codemirror_mode": {
    "name": "ipython",
    "version": 3
   },
   "file_extension": ".py",
   "mimetype": "text/x-python",
   "name": "python",
   "nbconvert_exporter": "python",
   "pygments_lexer": "ipython3",
   "version": "3.12.3"
  }
 },
 "nbformat": 4,
 "nbformat_minor": 2
}
