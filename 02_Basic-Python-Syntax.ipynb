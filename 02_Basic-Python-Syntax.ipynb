{
 "cells": [
  {
   "cell_type": "markdown",
   "metadata": {},
   "source": [
    "<!--BOOK_INFORMATION-->\n",
    "<img align=\"left\" style=\"padding-right:10px;\" src=\"img/cover-small.jpg\" />\n",
    "\n",
    "Dieses Notizbuch enthält einen angepassten Auszug aus der [Whirlwind Tour of Python](http://www.oreilly.com/programming/free/a-whirlwind-tour-of-python.csp) von Jake VanderPlas; Der Inhalt ist auf [GitHub](https://github.com/jakevdp/WhirlwindTourOfPython) verfügbar.\n",
    "\n",
    "Text und Code werden unter der [CC0](https://github.com/jakevdp/WhirlwindTourOfPython/blob/master/LICENSE)- Lizenz veröffentlicht; Das Begleitprojekt, das [Python Data Science Handbook](https://github.com/jakevdp/PythonDataScienceHandbook) wird sehr empfohlen.\n"
   ]
  },
  {
   "cell_type": "markdown",
   "metadata": {},
   "source": [
    "# Eine kurze Tour durch die Python-Syntax"
   ]
  },
  {
   "cell_type": "markdown",
   "metadata": {},
   "source": [
    "Python wurde ursprünglich als Unterrichtssprache entwickelt, aber aufgrund seiner Benutzerfreundlichkeit und sauberen Syntax wird Python sowohl von Anfängern als auch von Experten geschätzt. Die Sauberkeit der Python-Syntax hat einige dazu veranlasst, sie als „ausführbaren Pseudocode“ zu bezeichnen. Es ist oft sehr einfach, gut geschriebenen Python-Code zu lesen und zu verstehen. In diesem Notebook steigen wir in die grundlegende Syntax der Programmiersprache ein.\n",
    "\n",
    "Syntax bezieht sich auf die Struktur der Sprache, d.h. darauf, was ein korrekt geformtes Programm ausmacht. Wir konzentrieren uns hier noch nicht auf die Semantik – die Bedeutung der Wörter und Symbole innerhalb der Syntax – sondern werden zu einem späteren Zeitpunkt darauf zurückkommen.\n",
    "\n",
    "Betrachten wir das folgende Codebeispiel:"
   ]
  },
  {
   "cell_type": "code",
   "execution_count": 1,
   "metadata": {
    "collapsed": false
   },
   "outputs": [
    {
     "name": "stdout",
     "output_type": "stream",
     "text": [
      "lower: [0, 1, 2, 3, 4]\n",
      "upper: [5, 6, 7, 8, 9]\n"
     ]
    }
   ],
   "source": [
    "# set the midpoint\n",
    "midpoint = 5\n",
    "\n",
    "# make two empty lists\n",
    "lower = []; upper = []\n",
    "\n",
    "# split the numbers into lower and upper\n",
    "for i in range(10):\n",
    "    if (i < midpoint):\n",
    "        lower.append(i)\n",
    "    else:\n",
    "        upper.append(i)\n",
    "        \n",
    "print(\"lower:\", lower)\n",
    "print(\"upper:\", upper)"
   ]
  },
  {
   "cell_type": "markdown",
   "metadata": {},
   "source": [
    "Dieses Skript ist nicht sehr sinnvoll, aber es veranschaulicht kompakt einige der wichtigen Aspekte der Python-Syntax. Wir wollen es durchgehen und einige der syntaktischen Funktionen von Python besprechen."
   ]
  },
  {
   "cell_type": "markdown",
   "metadata": {},
   "source": [
    "## Kommentare beginnen mit ``#``\n",
    "Das Skript beginnt mit einem Kommentar:\n",
    "\n",
    "``` python\n",
    "# set the midpoint\n",
    "```\n",
    "\n",
    "Kommentare in Python werden durch eine Raute (``#``) gekennzeichnet und alles in der Zeile, die auf das Kommentarzeichen folgt, wird vom Interpreter ignoriert. Das bedeutet zum Beispiel, dass wir eigenständige Kommentare wie den gerade gezeigten haben können, aber auch Inline-Kommentare, die auf eine Anweisung folgen. Zum Beispiel:\n",
    "\n",
    "``` python\n",
    "x += 2  # shorthand for x = x + 2\n",
    "```\n",
    "\n",
    "Python verfügt über keine Syntax für mehrzeilige Kommentare, wie sie beispielsweise `/* ... */` in Java verwendet wird, obwohl mehrzeilige Zeichenfolgen häufig als Ersatz für mehrzeilige Kommentare verwendet werden (mehr dazu später).\n"
   ]
  },
  {
   "cell_type": "markdown",
   "metadata": {},
   "source": [
    "## Das Zeilenende beendet eine Anweisung\n",
    "\n",
    "Die nächste Zeile im Skript lautet\n",
    "\n",
    "``` python\n",
    "midpoint = 5\n",
    "```\n",
    "Dies ist eine Zuweisungsoperation, bei der wir eine Variable mit dem Namen erstellt ``midpoint`` und ihr den Wert ``5`` zugewiesen haben. Das Ende dieser Anweisung wird einfach durch das Zeilenende markiert. Dies steht im Gegensatz zu Sprachen wie C und Java, wo jede Anweisung mit einem Semikolon (``;``) enden muss.\n",
    "\n",
    "Wenn wir in Python ausdrücken möchten, dass eine Anweisung mit der nächsten Zeile fortfährt, können wir die \"``\\``\" Markierung verwenden, um dies anzuzeigen:"
   ]
  },
  {
   "cell_type": "code",
   "execution_count": 2,
   "metadata": {
    "collapsed": false
   },
   "outputs": [],
   "source": [
    "x = 1 + 2 + 3 + 4 +\\\n",
    "    5 + 6 + 7 + 8"
   ]
  },
  {
   "cell_type": "markdown",
   "metadata": {},
   "source": [
    "Es ist auch möglich, Ausdrücke in Klammern in der nächsten Zeile fortzusetzen, ohne die \"``\\``\" Markierung zu verwenden:"
   ]
  },
  {
   "cell_type": "code",
   "execution_count": 3,
   "metadata": {
    "collapsed": false
   },
   "outputs": [],
   "source": [
    "x = (1 + 2 + 3 + 4 +\n",
    "     5 + 6 + 7 + 8)"
   ]
  },
  {
   "cell_type": "markdown",
   "metadata": {},
   "source": [
    "Die meisten Python-Styleguides empfehlen die zweite Version der Zeilenfortsetzung (in Klammern) zur ersten (Verwendung der \"``\\``\"  Markierung)."
   ]
  },
  {
   "cell_type": "markdown",
   "metadata": {},
   "source": [
    "## Ein Semikolon kann eine Anweisung optional beenden\n",
    "Manchmal kann es nützlich sein, mehrere Anweisungen in einer einzigen Zeile unterzubringen. Der nächste Teil des Skripts ist\n",
    "``` python\n",
    "lower = []; upper = []\n",
    "```\n",
    "Dies zeigt das Beispiel, wie das in C und Java bekannte Semikolon (``;``) optional in Python verwendet werden kann, um zwei Anweisungen in eine einzige Zeile zu schreiben. Funktional ist dies gleichbedeutend mit:\n",
    "\n",
    "``` python\n",
    "lower = []\n",
    "upper = []\n",
    "```\n",
    "Obwohl es gelegentlich praktisch ist, wird von der Verwendung eines Semikolons zum Platzieren mehrerer Anweisungen in einer einzigen Zeile in den meisten Python-Styleguides generell abgeraten."
   ]
  },
  {
   "cell_type": "markdown",
   "metadata": {},
   "source": [
    "## Einrückung: Leerzeichen sind elementar wichtig!\n",
    "Im nächsten Code-Block sehen wir:\n",
    "``` Python\n",
    "for i in range(10):\n",
    "    if i < midpoint:\n",
    "        lower.append(i)\n",
    "    else:\n",
    "        upper.append(i)\n",
    "```\n",
    "Dies ist eine zusammengesetzte Kontrollflussanweisung, die eine Schleife und eine Bedingung enthält – wir werden uns diese Art von Anweisungen gleich ansehen. Uns verdeutlicht dieser Code-Block das vielleicht umstrittenste Merkmal der Python-Syntax: **Leerzeichen haben eine Bedeutung**!\n",
    "\n",
    "In vielen Programmiersprachen ist ein Codeblock eine Reihe von Anweisungen, die als Einheit behandelt werden sollen. In C oder Java werden Codeblöcke beispielsweise durch geschweifte Klammern gekennzeichnet:\n",
    "\n",
    "``` C\n",
    "// C or Java code\n",
    "for(int i=0; i<100; i++)\n",
    "   {\n",
    "      // curly braces indicate code block\n",
    "      total += i;\n",
    "   }\n",
    "```\n",
    "In Python werden Codeblöcke durch **Einrückung** gekennzeichnet :\n",
    "``` python\n",
    "for i in range(100):\n",
    "    # indentation indicates code block\n",
    "    total += i\n",
    "```\n",
    "In Python steht vor eingerückten Codeblöcken immer ein Doppelpunkt (``:``) in der vorangehenden Zeile."
   ]
  },
  {
   "cell_type": "markdown",
   "metadata": {},
   "source": [
    "Die Verwendung von Einrückungen trägt dazu bei, den einheitlichen und leicht lesbaren Stil durchzusetzen, den viele im Python-Code ansprechend finden. Für Uneingeweihte mag es jedoch verwirrend sein; Die folgenden zwei Snippets führen zu unterschiedlichen Ergebnissen:"
   ]
  },
  {
   "cell_type": "code",
   "execution_count": 5,
   "metadata": {},
   "outputs": [
    {
     "name": "stdout",
     "output_type": "stream",
     "text": [
      "3\n"
     ]
    }
   ],
   "source": [
    "# Snippet A\n",
    "x = 7 # try 3 instead\n",
    "if x < 4:\n",
    "    y = x * 2\n",
    "    print(x)"
   ]
  },
  {
   "cell_type": "code",
   "execution_count": 11,
   "metadata": {},
   "outputs": [
    {
     "name": "stdout",
     "output_type": "stream",
     "text": [
      "6\n"
     ]
    }
   ],
   "source": [
    "# Snippet B\n",
    "x = 7 # try 3 instead\n",
    "if x < 4:\n",
    "    y = x * 2\n",
    "print(x)"
   ]
  },
  {
   "cell_type": "markdown",
   "metadata": {},
   "source": [
    "\n",
    "Im Snippet A befindet sich ``print(x)`` im eingerückten Block und wird nur ausgeführt, wenn ``x`` kleiner ist als ``4``. \n",
    "\n",
    "Im Snippet B befindet sich ``print(x)`` außerhalb des Blocks und wird unabhängig vom Wert von ``x`` ausgeführt!"
   ]
  },
  {
   "cell_type": "markdown",
   "metadata": {},
   "source": [
    "\n",
    "Die Verwendung sinnvoller Leerzeichen in Python ist für Programmierer, die mit anderen Sprachen vertraut sind, oft überraschend, kann aber in der Praxis zu viel konsistenterem und besser lesbarem Code führen als Sprachen, die keine Einrückung von Codeblöcken erzwingen.\n",
    "\n",
    "Dieie Menge an Leerzeichen, die zum Einrücken von Codeblöcken verwendet wird, ist dem Programmierenden überlassen, solange sie im gesamten Skript konsistent ist. Konventionell empfehlen die meisten Styleguides, Codeblöcke um vier Leerzeichen einzurücken, und dieser Konvention werden wir folgen. Das ``Spaces: 4``in der Statuszeile unserer VS Code-Installation sorgt standardmäßig dafür."
   ]
  },
  {
   "cell_type": "markdown",
   "metadata": {},
   "source": [
    "## Leerzeichen *innerhalb von Zeilen* spielt keine Rolle \n",
    "Während das Mantra der *Leerzeichen mit Bedeutung* für Leerzeichen vor Zeilen gilt (die auf einen Codeblock hinweisen), spielen Leerzeichen *innerhalb* von Zeilen des Python-Codes keine Rolle. Alle drei dieser Ausdrücke sind beispielsweise gleichwertig:"
   ]
  },
  {
   "cell_type": "code",
   "execution_count": 9,
   "metadata": {
    "collapsed": false
   },
   "outputs": [],
   "source": [
    "x=1+2\n",
    "x = 1 + 2\n",
    "x             =        1    +                2"
   ]
  },
  {
   "cell_type": "markdown",
   "metadata": {},
   "source": [
    "Der Missbrauch dieser Flexibilität kann zu Problemen mit der Lesbarkeit des Codes führen – tatsächlich ist der Missbrauch von Leerzeichen oft eines der Hauptmittel, um Code absichtlich zu verschleiern (was manche Leute aus Spaß tun). Die effektive Verwendung von Leerzeichen kann zu deutlich besser lesbarem Code führen, insbesondere in Fällen, in denen Operatoren aufeinander folgen. Vergleichen Sie die folgenden beiden Ausdrücke zur Potenzierung mit einer negativen Zahl:\n",
    "\n",
    "``` python\n",
    "x=10**-2\n",
    "```\n",
    "und\n",
    "``` python\n",
    "x = 10 ** -2\n",
    "```\n",
    "Die zweite Version mit Leerzeichen ist auf einen Blick viel besser lesbar. Die meisten Python-Styleguides empfehlen die Verwendung eines einzelnen Leerzeichens um binäre Operatoren und kein Leerzeichen um unäre Operatoren. \n",
    "\n",
    "Wir besprechen die Bedeutung der Operatoren in [04-Semantics-Operators](04-Semantics-Operators.ipynb)."
   ]
  },
  {
   "cell_type": "markdown",
   "metadata": {},
   "source": [
    "## Klammern dienen zum Gruppieren oder zum Aufrufen\n",
    "\n",
    "Im vorherigen Codeausschnitt sehen wir zwei Verwendungsmöglichkeiten von Klammern. Erstens können sie auf typische Weise zum Gruppieren von Aussagen oder mathematischen Operationen verwendet werden:"
   ]
  },
  {
   "cell_type": "code",
   "execution_count": 5,
   "metadata": {
    "collapsed": false
   },
   "outputs": [
    {
     "data": {
      "text/plain": [
       "14"
      ]
     },
     "execution_count": 5,
     "metadata": {},
     "output_type": "execute_result"
    }
   ],
   "source": [
    "2 * (3 + 4)"
   ]
  },
  {
   "cell_type": "markdown",
   "metadata": {},
   "source": [
    "Sie können auch verwendet werden, um anzuzeigen, dass eine *Funktion* aufgerufen wird. Im nächsten Snippet wird die Funktion ``print()`` verwendet, um den Inhalt einer Variablen anzuzeigen. Der Funktionsaufruf wird durch ein Paar öffnender und schließender Klammern angezeigt, wobei die *Argumente* für die Funktion darin enthalten sind:"
   ]
  },
  {
   "cell_type": "code",
   "execution_count": 6,
   "metadata": {
    "collapsed": false
   },
   "outputs": [
    {
     "name": "stdout",
     "output_type": "stream",
     "text": [
      "first value: 1\n"
     ]
    }
   ],
   "source": [
    "print('first value:', 1)"
   ]
  },
  {
   "cell_type": "code",
   "execution_count": 7,
   "metadata": {
    "collapsed": false
   },
   "outputs": [
    {
     "name": "stdout",
     "output_type": "stream",
     "text": [
      "second value: 2\n"
     ]
    }
   ],
   "source": [
    "print('second value:', 2)"
   ]
  },
  {
   "cell_type": "markdown",
   "metadata": {},
   "source": [
    "Einige Funktionen können ohne Argumente aufgerufen werden. In diesem Fall müssen die öffnenden und schließenden Klammern weiterhin verwendet werden, um eine Funktion anzuzeigen. Ein Beispiel hierfür ist die ``sort`` Methode der Listen:"
   ]
  },
  {
   "cell_type": "code",
   "execution_count": 8,
   "metadata": {
    "collapsed": false
   },
   "outputs": [
    {
     "name": "stdout",
     "output_type": "stream",
     "text": [
      "[1, 2, 3, 4]\n"
     ]
    }
   ],
   "source": [
    "L = [4,2,3,1]\n",
    "L.sort()\n",
    "print(L)"
   ]
  },
  {
   "cell_type": "markdown",
   "metadata": {},
   "source": [
    "Das \"``()``\" nach ``sort`` gibt an, dass die Funktion ausgeführt werden soll und ist auch dann erforderlich, wenn keine Argumente erforderlich sind."
   ]
  },
  {
   "cell_type": "markdown",
   "metadata": {},
   "source": [
    "## Eine Anmerkung zur ``print()`` Funktion\n",
    "\n",
    "Oben haben wir das Beispiel der ``print()`` Funktion verwendet. Die ``print()`` Funktion ist ein Teil, der zwischen Python 2.x und Python 3.x geändert wurde. In Python 2 verhielt es sich wie eine Anweisung: Das heißt, man konnte schreiben\n",
    "``` python\n",
    "# Python 2 only!\n",
    ">> print \"first value:\", 1\n",
    "first value: 1\n",
    "```\n",
    "Aus verschiedenen Gründen haben die Autoren entschieden, dass in Python 3 ``print()`` eine Funktion werden sollte, also schreiben wir jetzt\n",
    "``` python\n",
    "# Python 3 only!\n",
    ">>> print(\"first value:\", 1)\n",
    "first value: 1\n",
    "```\n",
    "\n",
    "Dies ist eines der abwärtsinkompatiblen Konstrukte zwischen Python 2 und 3. Man findet noch häufig Beispiele, die in beiden Python-Versionen geschrieben wurden, und oft ist das Vorhandensein der ``print`` Anweisung anstelle der ``print()`` Funktion eins eines der ersten Anzeichen dafür, dass wir es mit Python-2-Code zu tun haben."
   ]
  },
  {
   "cell_type": "markdown",
   "metadata": {},
   "source": [
    "## Mehr erfahren \n",
    "\n",
    "Dies war eine sehr kurze Untersuchung der wesentlichen Merkmale der Python-Syntax. Wir haben mehrfach von Python-„Styleguides“ gelesen, die Teams dabei helfen können, Code in einem einheitlichen Stil zu schreiben. Der am häufigsten verwendete Styleguide in Python ist als **PEP8** bekannt und kann unter https://www.python.org/dev/peps/pep-0008/ gefunden werden . Für alle, die anfangen, mehr Python-Code zu schreiben, ist es hilfreich, den Guid durchzulesen! Die Stilvorschläge enthalten die Erfahrungen und Weisheit vieler Python-Gurus, und die meisten Vorschläge gehen über einfache Pedanterie hinaus: Es handelt sich um erfahrungsbasierte Empfehlungen, die dabei helfen können, subtile Fehler und Bugs im Code zu vermeiden."
   ]
  }
 ],
 "metadata": {
  "anaconda-cloud": {},
  "kernelspec": {
   "display_name": "Python 3",
   "language": "python",
   "name": "python3"
  },
  "language_info": {
   "codemirror_mode": {
    "name": "ipython",
    "version": 3
   },
   "file_extension": ".py",
   "mimetype": "text/x-python",
   "name": "python",
   "nbconvert_exporter": "python",
   "pygments_lexer": "ipython3",
   "version": "3.12.3"
  }
 },
 "nbformat": 4,
 "nbformat_minor": 0
}
