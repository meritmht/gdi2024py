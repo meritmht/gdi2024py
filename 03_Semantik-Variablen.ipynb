{
 "cells": [
  {
   "cell_type": "markdown",
   "metadata": {},
   "source": [
    "<!--BOOK_INFORMATION-->\n",
    "<img align=\"left\" style=\"padding-right:10px;\" src=\"img/cover-small.jpg\" />\n",
    "\n",
    "Dieses Notizbuch enthält einen angepassten Auszug aus der [Whirlwind Tour of Python](http://www.oreilly.com/programming/free/a-whirlwind-tour-of-python.csp) von Jake VanderPlas; Der Inhalt ist auf [GitHub](https://github.com/jakevdp/WhirlwindTourOfPython) verfügbar.\n",
    "\n",
    "Text und Code werden unter der [CC0](https://github.com/jakevdp/WhirlwindTourOfPython/blob/master/LICENSE)- Lizenz veröffentlicht; Das Begleitprojekt, das [Python Data Science Handbook](https://github.com/jakevdp/PythonDataScienceHandbook) wird sehr empfohlen.\n"
   ]
  },
  {
   "cell_type": "markdown",
   "metadata": {},
   "source": [
    "# Grundlegende Python-Semantik: Variablen und Objekte"
   ]
  },
  {
   "cell_type": "markdown",
   "metadata": {},
   "source": [
    "In diesem Abschnitt wird zunächst die grundlegende Semantik der Programmiersprache Python behandelt. Im Gegensatz zur im vorherigen Abschnitt behandelten *Syntax* umfasst die *Semantik* einer Sprache die Bedeutung der Anweisungen. Wie bei unserer Einstieg in die Syntax werfen wir hier eine Blick auf einige der wesentlichen semantischen Konstruktionen in Python, um uns ein Verständnis der folgenden Abschnitte zu ermöglichen.\n",
    "\n",
    "In diesem Abschnitt betrachten wir die Semantik von *Variablen* und *Objekten*. Diese benötigen wir zum Speichern, Referenzieren und Bearbeiten von Daten in einem Python-Skript."
   ]
  },
  {
   "cell_type": "markdown",
   "metadata": {},
   "source": [
    "## Python-Variablen sind Zeiger/Referenzen\n",
    "\n",
    "Das Zuweisen von Variablen in Python ist so einfach wie das Einfügen eines Variablennamens links vom Gleichheitszeichen (``=``):\n",
    "\n",
    "```python\n",
    "# assign 4 to the variable x\n",
    "x = 4\n",
    "```\n",
    "\n",
    "Das mag einfach erscheinen, aber mit einem falschen mentalen Modell davon, was diese Operation bewirkt, kann die Funktionsweise von Python verwirrend erscheinen. Darauf gehen wir hier kurz ein.\n",
    "\n",
    "In vielen Programmiersprachen stellt man sich Variablen am besten als Container oder Buckets vor, in die man Daten einfügt. So zum Beispiel in C, wenn wir schreiben\n",
    "\n",
    "```C\n",
    "// C code\n",
    "int x = 4;\n",
    "```\n",
    "\n",
    "definieren im wir im Wesentlichen einen Speicherbereich mit dem Namen ``x`` und speichern den Wert ``4`` darin. Im Gegensatz dazu stellt man sich Variablen in Python am besten nicht als Container, sondern als Zeiger – oder als Label – vor. \n",
    "\n",
    "Wenn wir in Python also schreiben:\n",
    "\n",
    "```python\n",
    "x = 4\n",
    "```\n",
    ", dann definieren wir im Wesentlichen einen Zeiger (oder ein Label) mit dem Namen ``x``, der/das auf einen anderen Speicherbereich zeigt, der den Wert ``4`` enthält.\n",
    "\n",
    "Eine Konsequenz daraus wollen wir uns verdeutlichen: Da Python-Variablen nur auf verschiedene Objekte (in ihren Speicherbereichen) verweisen, besteht keine Notwendigkeit, die Variable zu *„deklarieren“* oder gar zu verlangen, dass die Variable immer auf Daten desselben Typs verweist! In diesem Sinne sagen wir, dass Python *dynamisch typisiert* ist. Variablennamen können auf Objekte jeden Typs verweisen. In Python können wir Folgendes tun:"
   ]
  },
  {
   "cell_type": "code",
   "execution_count": 1,
   "metadata": {
    "collapsed": false
   },
   "outputs": [],
   "source": [
    "x = 1         # x is an integer\n",
    "x = 'hello'   # now x is a string\n",
    "x = [1, 2, 3] # now x is a list"
   ]
  },
  {
   "cell_type": "markdown",
   "metadata": {},
   "source": [
    "Sie können sich vorstellen, dass das Label (der Variablenname) einfach an verschiedene Objekte geklebt wird. \n",
    "\n",
    "Während Benutzer statisch typisierter Sprachen möglicherweise die Typsicherheit vermissen, die mit Deklarationen wie denen in Java einhergeht:\n",
    "\n",
    "```Java\n",
    "int x = 4;\n",
    "```\n",
    "\n",
    "ist diese dynamische Typisierung einer der Gründe, warum Python so schnell zu schreiben und leicht zu lesen ist.\n",
    "\n",
    "Es gibt eine weitere Konsequenz dieses „Variable als Zeiger“-Ansatzes, derer wir uns bewusst sein müssen. Wenn wir zwei Variablennamen haben, die auf dasselbe veränderbare Objekt verweisen, ändert die Änderung des einen auch das andere! Lassen Sie uns zum Beispiel eine Liste erstellen und ändern:"
   ]
  },
  {
   "cell_type": "code",
   "execution_count": 2,
   "metadata": {
    "collapsed": false
   },
   "outputs": [],
   "source": [
    "x = [1, 2, 3]\n",
    "y = x"
   ]
  },
  {
   "cell_type": "markdown",
   "metadata": {},
   "source": [
    "Wir haben zwei Variablen erstellt ``x`` und ``y``, die beide auf dasselbe Objekt verweisen. Wenn wir die Liste über einen ihrer Namen ändern, werden wir daher feststellen, dass auch die „andere“ Liste geändert wird:"
   ]
  },
  {
   "cell_type": "code",
   "execution_count": 3,
   "metadata": {
    "collapsed": false
   },
   "outputs": [
    {
     "name": "stdout",
     "output_type": "stream",
     "text": [
      "[1, 2, 3]\n"
     ]
    }
   ],
   "source": [
    "print(y)"
   ]
  },
  {
   "cell_type": "code",
   "execution_count": 4,
   "metadata": {
    "collapsed": false
   },
   "outputs": [
    {
     "name": "stdout",
     "output_type": "stream",
     "text": [
      "[1, 2, 3, 4]\n"
     ]
    }
   ],
   "source": [
    "x.append(4) # append 4 to the list pointed to by x\n",
    "print(y) # y's list is modified as well!"
   ]
  },
  {
   "cell_type": "markdown",
   "metadata": {},
   "source": [
    "Dieses Verhalten könnte verwirrend erscheinen, wenn wir uns Variablen fälschlicherweise als Behälter betrachten, die Daten enthalten. Wenn wir uns Variablen jedoch richtig als Zeiger auf Objekte vorstellen, ist dieses Verhalten sinnvoll.\n",
    "\n",
    "Wir wollen außerdem beachtern, dass, wenn wir den Zuweisungsoperator \"``=``\" verwenden, um ``x`` einen anderen Wert zuzuweisen, dies keinen Einfluss auf den Wert von ``y`` hat – die Zuweisung ist lediglich eine Änderung dessen, auf welches Objekt die Variable zeigt. Um im Bild des Labels zu bleiben, dass an der Variable \"klebt\", können wir uns vorstellen, dass wir dieses Label nun an an anderes Objekt geklebt haben:"
   ]
  },
  {
   "cell_type": "code",
   "execution_count": 5,
   "metadata": {
    "collapsed": false
   },
   "outputs": [
    {
     "name": "stdout",
     "output_type": "stream",
     "text": [
      "[1, 2, 3, 4]\n"
     ]
    }
   ],
   "source": [
    "x = 'something else'\n",
    "print(y)  # y is unchanged"
   ]
  },
  {
   "cell_type": "markdown",
   "metadata": {},
   "source": [
    "Dieses Verahlten erscheint absolut sinnvoll, wenn wir ``x`` und ``y`` als Zeiger (oder Labels) betrachten und den Zuweisungsoperator \"``=``\" als eine Operation, die ändert, worauf der Name zeigt (an welchem Objekt das Label klebt).\n",
    "\n",
    "Sie fragen sich vielleicht, ob diese Zeigeridee es schwierig macht, arithmetische Operationen in Python zu verfolgen, aber Python ist so eingerichtet, dass dies kein Problem darstellt. Zahlen, Zeichenfolgen und andere *einfache Typen* (simple types) sind *unveränderlich*: Wir können ihren Wert nicht ändern – Wir können nur ändern, auf welche Werte unsere Variablen verweisen. Daher ist es beispielsweise absolut sicher, Vorgänge wie die folgenden durchzuführen:"
   ]
  },
  {
   "cell_type": "code",
   "execution_count": 2,
   "metadata": {
    "collapsed": false
   },
   "outputs": [
    {
     "name": "stdout",
     "output_type": "stream",
     "text": [
      "x = 15\n",
      "y = 10\n"
     ]
    }
   ],
   "source": [
    "x = 10\n",
    "y = x\n",
    "x += 5  # add 5 to x's value, and assign it to x\n",
    "print(\"x =\", x)\n",
    "print(\"y =\", y)"
   ]
  },
  {
   "cell_type": "markdown",
   "metadata": {},
   "source": [
    "Wenn wir ``x += 5`` aufrufen, ändern wir nicht den Wert des Objekts mit dem Inhalt ``10``, auf das ``x`` verweist; Wir ändern vielmehr die Variable ``x`` so, dass sie auf ein neues ganzzahliges Objekt mit dem Wert ``15`` zeigt. Aus diesem Grund wird der Wert von ``y`` durch den Vorgang nicht beeinflusst."
   ]
  },
  {
   "cell_type": "markdown",
   "metadata": {},
   "source": [
    "## Alles ist ein Objekt\n",
    "\n",
    "Python ist eine *objektorientierte Programmiersprache* und ***in Python ist alles ein Objekt***.\n",
    "\n",
    "Lassen Sie uns konkretisieren, was das bedeutet. Wir haben bereits gesehen, dass Variablen lediglich Zeiger (oder Labels) sind und den Variablennamen selbst keine Typinformationen beigefügt sind. Dies führt dazu, dass einige fälschlicherweise behaupten, Python sei eine typfreie Sprache. Aber das ist nicht der Fall! \n",
    "\n",
    "Schauen wir uns Folgendes an:"
   ]
  },
  {
   "cell_type": "code",
   "execution_count": 7,
   "metadata": {
    "collapsed": false
   },
   "outputs": [
    {
     "data": {
      "text/plain": [
       "int"
      ]
     },
     "execution_count": 7,
     "metadata": {},
     "output_type": "execute_result"
    }
   ],
   "source": [
    "x = 4\n",
    "type(x)"
   ]
  },
  {
   "cell_type": "code",
   "execution_count": 8,
   "metadata": {
    "collapsed": false
   },
   "outputs": [
    {
     "data": {
      "text/plain": [
       "str"
      ]
     },
     "execution_count": 8,
     "metadata": {},
     "output_type": "execute_result"
    }
   ],
   "source": [
    "x = 'hello'\n",
    "type(x)"
   ]
  },
  {
   "cell_type": "code",
   "execution_count": 9,
   "metadata": {
    "collapsed": false
   },
   "outputs": [
    {
     "data": {
      "text/plain": [
       "float"
      ]
     },
     "execution_count": 9,
     "metadata": {},
     "output_type": "execute_result"
    }
   ],
   "source": [
    "x = 3.14159\n",
    "type(x)"
   ]
  },
  {
   "cell_type": "markdown",
   "metadata": {},
   "source": [
    "Python hat (Date-)Typen; Allerdings sind die Typen nicht mit den Variablennamen, sondern *mit den Objekten selbst verknüpft* .\n",
    "\n",
    "In objektorientierten Programmiersprachen wie Python ist ein *Objekt* eine Entität, die Daten zusammen mit zugehörigen Metadaten und/oder Funktionen enthält. In Python ist alles ein Objekt, was bedeutet, dass jede Entität über einige Metadaten (*Attribute*) und zugehörige Funktionalität (*Methoden*) verfügt. Der Zugriff auf diese Attribute und Methoden erfolgt über die Punktnotation.\n",
    "\n",
    "Zum Beispiel haben wir zuvor gesehen, dass Listen über eine ``append`` Methode verfügen, die der Liste ein Element hinzufügt und auf die über die Punktnotation (\"``.``\")  zugegriffen werden kann:"
   ]
  },
  {
   "cell_type": "code",
   "execution_count": 10,
   "metadata": {
    "collapsed": false
   },
   "outputs": [
    {
     "name": "stdout",
     "output_type": "stream",
     "text": [
      "[1, 2, 3, 100]\n"
     ]
    }
   ],
   "source": [
    "L = [1, 2, 3]\n",
    "L.append(100)\n",
    "print(L)"
   ]
  },
  {
   "cell_type": "markdown",
   "metadata": {},
   "source": [
    "Während es für komplexere Objekte wie Listen zu erwarten ist, dass sie Attribute und Methoden haben, ist es manchmal unerwartet, dass in Python sogar einfache Typen über angehängte Attribute und Methoden verfügen. Numerische Typen verfügen beispielsweise über ein ``real`` und ``imag`` Attribut, das den Real- und Imaginärteil des Werts zurückgibt, wenn er als komplexe Zahl betrachtet wird:"
   ]
  },
  {
   "cell_type": "code",
   "execution_count": 11,
   "metadata": {
    "collapsed": false
   },
   "outputs": [
    {
     "name": "stdout",
     "output_type": "stream",
     "text": [
      "4.5 + 0.0 i\n"
     ]
    }
   ],
   "source": [
    "x = 4.5\n",
    "print(x.real, \"+\", x.imag, 'i')"
   ]
  },
  {
   "cell_type": "markdown",
   "metadata": {},
   "source": [
    "Auch direkt auf einfachen Typen lassen sich Methoden aufrufen, was wir an folgendem Codebeispiel erkennen können:"
   ]
  },
  {
   "cell_type": "code",
   "execution_count": 4,
   "metadata": {},
   "outputs": [
    {
     "data": {
      "text/plain": [
       "(5, 2)"
      ]
     },
     "execution_count": 4,
     "metadata": {},
     "output_type": "execute_result"
    }
   ],
   "source": [
    "(2.5).as_integer_ratio()"
   ]
  },
  {
   "cell_type": "markdown",
   "metadata": {},
   "source": [
    "Methoden ähneln Attributen, außer dass es sich um Funktionen handelt, die wir mithilfe öffnender und schließender Klammern aufrufen können. Für Gleitkommazahlen gibt es beispielsweise eine Methode namens, ``is_integer``, die prüft, ob der Wert eine ganze Zahl ist:"
   ]
  },
  {
   "cell_type": "code",
   "execution_count": 5,
   "metadata": {
    "collapsed": false
   },
   "outputs": [
    {
     "data": {
      "text/plain": [
       "False"
      ]
     },
     "execution_count": 5,
     "metadata": {},
     "output_type": "execute_result"
    }
   ],
   "source": [
    "x = 4.5\n",
    "x.is_integer()"
   ]
  },
  {
   "cell_type": "code",
   "execution_count": 6,
   "metadata": {
    "collapsed": false
   },
   "outputs": [
    {
     "data": {
      "text/plain": [
       "True"
      ]
     },
     "execution_count": 6,
     "metadata": {},
     "output_type": "execute_result"
    }
   ],
   "source": [
    "x = 4.0\n",
    "x.is_integer()"
   ]
  },
  {
   "cell_type": "markdown",
   "metadata": {},
   "source": [
    "Wenn wir sagen, dass alles in Python ein Objekt ist, meinen wir tatsächlich, dass ALLES ein Objekt ist – sogar die Attribute und Methoden von Objekten sind selbst Objekte mit ihren eigenen ``type``-Informationen:"
   ]
  },
  {
   "cell_type": "code",
   "execution_count": 7,
   "metadata": {
    "collapsed": false
   },
   "outputs": [
    {
     "data": {
      "text/plain": [
       "builtin_function_or_method"
      ]
     },
     "execution_count": 7,
     "metadata": {},
     "output_type": "execute_result"
    }
   ],
   "source": [
    "type(x.is_integer)"
   ]
  },
  {
   "cell_type": "markdown",
   "metadata": {},
   "source": [
    "Wir werden bald herausfinden, dass die Wahl des Python-Designs ***„Alles ist ein Objekt“*** einige sehr praktische Sprachkonstrukte ermöglicht."
   ]
  }
 ],
 "metadata": {
  "anaconda-cloud": {},
  "kernelspec": {
   "display_name": "Python 3",
   "language": "python",
   "name": "python3"
  },
  "language_info": {
   "codemirror_mode": {
    "name": "ipython",
    "version": 3
   },
   "file_extension": ".py",
   "mimetype": "text/x-python",
   "name": "python",
   "nbconvert_exporter": "python",
   "pygments_lexer": "ipython3",
   "version": "3.12.3"
  }
 },
 "nbformat": 4,
 "nbformat_minor": 0
}
