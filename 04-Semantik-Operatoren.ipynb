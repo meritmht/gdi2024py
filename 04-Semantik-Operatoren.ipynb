{
 "cells": [
  {
   "cell_type": "markdown",
   "metadata": {},
   "source": [
    "<!--BOOK_INFORMATION-->\n",
    "<img align=\"left\" style=\"padding-right:10px;\" src=\"img/cover-small.jpg\" />\n",
    "\n",
    "Dieses Notizbuch enthält einen angepassten Auszug aus der [Whirlwind Tour of Python](http://www.oreilly.com/programming/free/a-whirlwind-tour-of-python.csp) von Jake VanderPlas; Der Inhalt ist auf [GitHub](https://github.com/jakevdp/WhirlwindTourOfPython) verfügbar.\n",
    "\n",
    "Text und Code werden unter der [CC0](https://github.com/jakevdp/WhirlwindTourOfPython/blob/master/LICENSE)- Lizenz veröffentlicht; Das Begleitprojekt, das [Python Data Science Handbook](https://github.com/jakevdp/PythonDataScienceHandbook) wird sehr empfohlen.\n"
   ]
  },
  {
   "cell_type": "markdown",
   "metadata": {},
   "source": [
    "# Grundlegende Python-Semantik: Operatoren"
   ]
  },
  {
   "cell_type": "markdown",
   "metadata": {},
   "source": [
    "Im vorherigen Abschnitt haben wir begonnen, uns mit der Semantik von Python-Variablen und -Objekten zu befassen. Hier befassen wir uns mit der Semantik der verschiedenen in der Sprache enthaltenen *Operatoren*. Am Ende dieses Abschnitts verfügen wir über die grundlegenden Werkzeuge, um mit dem Vergleichen und Bearbeiten von Daten in Python zu beginnen."
   ]
  },
  {
   "cell_type": "markdown",
   "metadata": {},
   "source": [
    "## Arithmetische Operatoren\n",
    "\n",
    "Python implementiert sieben grundlegende binäre arithmetische Operatoren, von denen zwei auch als unäre Operatoren fungieren können. Sie sind in der folgenden Tabelle zusammengefasst:\n",
    "\n",
    "| Operator     | Name           | Description                                            |\n",
    "|--------------|----------------|--------------------------------------------------------|\n",
    "| ``a + b``    | Addition       | Sum of ``a`` and ``b``                                 |\n",
    "| ``a - b``    | Subtraction    | Difference of ``a`` and ``b``                          |\n",
    "| ``a * b``    | Multiplication | Product of ``a`` and ``b``                             |\n",
    "| ``a / b``    | True division  | Quotient of ``a`` and ``b``                            |\n",
    "| ``a // b``   | Floor division | Quotient of ``a`` and ``b``, removing fractional parts |\n",
    "| ``a % b``    | Modulus        | Integer remainder after division of ``a`` by ``b``     |\n",
    "| ``a ** b``   | Exponentiation | ``a`` raised to the power of ``b``                     |\n",
    "| ``-a``       | Negation       | The negative of ``a``                                  |\n",
    "| ``+a``       | Unary plus     | ``a`` unchanged (rarely used)                          |\n",
    "\n",
    "Diese Operatoren können auf intuitive Weise verwendet und kombiniert werden, indem einfache Klammern zum Gruppieren von Operationen verwendet werden. Zum Beispiel:"
   ]
  },
  {
   "cell_type": "code",
   "execution_count": 1,
   "metadata": {
    "collapsed": false
   },
   "outputs": [
    {
     "data": {
      "text/plain": [
       "42.0"
      ]
     },
     "execution_count": 1,
     "metadata": {},
     "output_type": "execute_result"
    }
   ],
   "source": [
    "# addition, subtraction, multiplication\n",
    "(4 + 8) * (6.5 - 3)"
   ]
  },
  {
   "cell_type": "markdown",
   "metadata": {},
   "source": [
    "Die Division gibt stets einen Gleitkommatypen zurück. *Floor division* ist die ganzzahlige Division, welche den ganzzahligen Rest verwirft:"
   ]
  },
  {
   "cell_type": "code",
   "execution_count": 1,
   "metadata": {
    "collapsed": false
   },
   "outputs": [
    {
     "name": "stdout",
     "output_type": "stream",
     "text": [
      "5.0\n"
     ]
    }
   ],
   "source": [
    "# True division\n",
    "print(10/ 2)"
   ]
  },
  {
   "cell_type": "code",
   "execution_count": 1,
   "metadata": {
    "collapsed": false
   },
   "outputs": [
    {
     "name": "stdout",
     "output_type": "stream",
     "text": [
      "5\n"
     ]
    }
   ],
   "source": [
    "# Floor division\n",
    "print(11 // 2)"
   ]
  },
  {
   "cell_type": "markdown",
   "metadata": {},
   "source": [
    "**ACHTUNG**: Der Operator für die ganzzahlige Division wurde in Python 3 hinzugefügt. In Python 2  verhält sich der Divisionsoperator (``/``) wie eine ganzzahlige Division für Ganzzahlen (integer) und wie eine echte Division für Gleitkommazahlen (float) wirkt!\n",
    "\n",
    "In Python 3.5 wurde ein achter arithmetischer Operator eingeführt: der ``a @ b`` Operator, der das *Matritzenprodukt* von ``a`` und ``b`` berechnet und in verschiedenen Paketen für die Lineare Algebra Verwendung findet."
   ]
  },
  {
   "cell_type": "markdown",
   "metadata": {},
   "source": [
    "## Bitweise Operatoren\n",
    "\n",
    "Zusätzlich zu den standardmäßigen numerischen Operatoren enthält Python Operatoren zur Durchführung bitweiser logischer Operationen für ganze Zahlen. Diese werden viel seltener verwendet als die Standardarithmetikoperatoren, aber es ist nützlich zu wissen, dass sie existieren. Die sechs bitweisen Operatoren sind in der folgenden Tabelle zusammengefasst:\n",
    "\n",
    "| Operator     | Name            | Description                                 |\n",
    "|--------------|-----------------|---------------------------------------------|\n",
    "| ``a & b``    | Bitwise AND     | Bits defined in both ``a`` and ``b``        |\n",
    "| <code>a &#124; b</code>| Bitwise OR      | Bits defined in ``a`` or ``b`` or both      |\n",
    "| ``a ^ b``    | Bitwise XOR     | Bits defined in ``a`` or ``b`` but not both |\n",
    "| ``a << b``   | Bit shift left  | Shift bits of ``a`` left by ``b`` units     |\n",
    "| ``a >> b``   | Bit shift right | Shift bits of ``a`` right by ``b`` units    |\n",
    "| ``~a``       | Bitwise NOT     | Bitwise negation of ``a``                          |\n",
    "\n",
    "Diese bitweisen Operatoren sind nur im Hinblick auf die binäre Darstellung von Zahlen sinvoll, was wir mit der integrierten ``bin`` Funktion sehen können:"
   ]
  },
  {
   "cell_type": "code",
   "execution_count": 4,
   "metadata": {
    "collapsed": false
   },
   "outputs": [
    {
     "data": {
      "text/plain": [
       "'0b1010'"
      ]
     },
     "execution_count": 4,
     "metadata": {},
     "output_type": "execute_result"
    }
   ],
   "source": [
    "bin(10)"
   ]
  },
  {
   "cell_type": "markdown",
   "metadata": {},
   "source": [
    "Dem Ergebnis wird das Präfix ``'0b'`` vorangestellt, welches auf eine binäre Darstellung hinweist. Die restlichen Ziffern zeigen an, dass die Zahl 10 (in Dezimaldarstellung) als Summe $1 \\cdot 2^3 + 0 \\cdot 2^2 + 1 \\cdot 2^1 + 0 \\cdot 2^0$ dargestellt wird.\n",
    "\n",
    "Um eine ``4``in Dezimalschreibweise als Binärzahl auszudrücken könnten wir schreiben:"
   ]
  },
  {
   "cell_type": "code",
   "execution_count": 5,
   "metadata": {
    "collapsed": false
   },
   "outputs": [
    {
     "data": {
      "text/plain": [
       "'0b100'"
      ]
     },
     "execution_count": 5,
     "metadata": {},
     "output_type": "execute_result"
    }
   ],
   "source": [
    "bin(4)"
   ]
  },
  {
   "cell_type": "markdown",
   "metadata": {},
   "source": [
    "Mit bitweisem ODER können wir nun die Zahl finden, die die Bits von 4 und 10 kombiniert:"
   ]
  },
  {
   "cell_type": "code",
   "execution_count": 6,
   "metadata": {
    "collapsed": false
   },
   "outputs": [
    {
     "data": {
      "text/plain": [
       "14"
      ]
     },
     "execution_count": 6,
     "metadata": {},
     "output_type": "execute_result"
    }
   ],
   "source": [
    "4 | 10"
   ]
  },
  {
   "cell_type": "code",
   "execution_count": 7,
   "metadata": {
    "collapsed": false
   },
   "outputs": [
    {
     "name": "stdout",
     "output_type": "stream",
     "text": [
      " 0b100\n",
      "0b1010\n",
      "0b1110\n"
     ]
    },
    {
     "data": {
      "text/plain": [
       "'0b1110'"
      ]
     },
     "execution_count": 7,
     "metadata": {},
     "output_type": "execute_result"
    }
   ],
   "source": [
    "print(\"\", bin(4))\n",
    "print(bin(10))\n",
    "print(bin(4 | 10))\n",
    "\n",
    "bin(4 | 10)"
   ]
  },
  {
   "cell_type": "markdown",
   "metadata": {},
   "source": [
    "Diese bitweisen Operatoren sind oft nicht so unmittelbar nützlich wie die standardmäßigen arithmetischen Operatoren, aber es ist hilfreich, sie mindestens einmal zu sehen, um zu verstehen, welche Art von Operation sie ausführen. Insbesondere Benutzer aus anderen Sprachen sind manchmal versucht, XOR (``a ^ b``) zu verwenden, wenn sie eigentlich Potenzierung ``a ** b`` meinen."
   ]
  },
  {
   "cell_type": "markdown",
   "metadata": {},
   "source": [
    "## Zuweisungsoperatoren\n",
    "Wir haben bereits gesehen, dass Variablen mit dem Operator \"``=``\" zugewiesen und die Werte für die spätere Verwendung gespeichert werden können. Zum Beispiel:"
   ]
  },
  {
   "cell_type": "code",
   "execution_count": 8,
   "metadata": {
    "collapsed": false
   },
   "outputs": [
    {
     "name": "stdout",
     "output_type": "stream",
     "text": [
      "24\n"
     ]
    }
   ],
   "source": [
    "a = 24\n",
    "print(a)"
   ]
  },
  {
   "cell_type": "markdown",
   "metadata": {},
   "source": [
    "Wir können diese Variablen in Ausdrücken mit jedem der zuvor genannten Operatoren verwenden. Um beispielsweise 2 zu ``a`` zu addieren, schreiben wir:"
   ]
  },
  {
   "cell_type": "code",
   "execution_count": 9,
   "metadata": {
    "collapsed": false
   },
   "outputs": [
    {
     "data": {
      "text/plain": [
       "26"
      ]
     },
     "execution_count": 9,
     "metadata": {},
     "output_type": "execute_result"
    }
   ],
   "source": [
    "a + 2"
   ]
  },
  {
   "cell_type": "markdown",
   "metadata": {},
   "source": [
    "Möglicherweise möchten wir die Variable ``a`` mit diesem neuen Wert aktualisieren. In diesem Fall könnten wir die Addition und die Zuweisung kombinieren und schreiben ``a = a + 2``. Da diese Art der kombinierten Operation und Zuweisung so häufig vorkommt, enthält Python integrierte Aktualisierungsoperatoren für alle arithmetischen Operationen:"
   ]
  },
  {
   "cell_type": "code",
   "execution_count": 10,
   "metadata": {
    "collapsed": false
   },
   "outputs": [
    {
     "name": "stdout",
     "output_type": "stream",
     "text": [
      "26\n"
     ]
    }
   ],
   "source": [
    "a += 2  # equivalent to a = a + 2\n",
    "print(a)"
   ]
  },
  {
   "cell_type": "markdown",
   "metadata": {},
   "source": [
    "Für jeden der zuvor aufgeführten binären Operatoren gibt es einen erweiterten Zuweisungsoperator. Es sind:\n",
    "\n",
    "``a += b``, ``a -= b``, ``a *= b``, ``a /= b``, ``a //= b``, ``a %= b``, ``a **= b``, ``a &= b``, ``a |= b``, ``a ^= b``, ``a <<= b``, ``a >>= b``\n",
    "\n",
    "Jeder Operator entspricht der entsprechenden Operation, gefolgt von einer Zuweisung: Das heißt, für jeden Operator \"``■``\" entspricht der Ausdruck ``a ■= b`` dem Ergebnis ``a = a ■ b`` – mit einem kleinen Haken. Bei veränderlichen Objekten wie Listen, Arrays oder DataFrames unterscheiden sich diese erweiterten Zuweisungsvorgänge tatsächlich geringfügig von ihren ausführlicheren Gegenstücken: Sie ändern den Inhalt des ursprünglichen Objekts, anstatt ein neues Objekt zum Speichern des Ergebnisses zu erstellen."
   ]
  },
  {
   "cell_type": "markdown",
   "metadata": {},
   "source": [
    "## Vergleichsoperatoren\n",
    "\n",
    "Eine andere Art von Operation, die sehr nützlich sein kann, ist der Vergleich verschiedener Werte. Dazu implementiert Python Standardvergleichsoperatoren, die boolesche Werte ``True`` und ``False`` (ACHTUNG: GROSSSchreibung) zurückgeben. Die Vergleichsoperatoren sind hier aufgeführt:\n",
    "\n",
    "- ``a == b`` ``a`` gleich ``b``\n",
    "- ``a != b`` ``a`` ungleich ``b``\n",
    "- ``a < b`` ``a`` kleiner als ``b``\n",
    "- ``a > b`` ``a`` größer als ``b``\n",
    "- ``a <= b`` ``a`` kleiner als oder gleich ``b``\n",
    "- ``a >= b`` ``a`` größer als oder gleich ``b```\n",
    "\n",
    "Diese Vergleichsoperatoren können mit den arithmetischen und bitweisen Operatoren kombiniert werden, um eine praktisch unbegrenzte Auswahl an Tests für die Zahlen auszudrücken. Wir können zum Beispiel prüfen, ob eine Zahl ungerade ist, indem wir prüfen, ob der Modulus mit ``2`` als Ergebnis ``1`` zurückgibt:"
   ]
  },
  {
   "cell_type": "code",
   "execution_count": 11,
   "metadata": {
    "collapsed": false
   },
   "outputs": [
    {
     "data": {
      "text/plain": [
       "True"
      ]
     },
     "execution_count": 11,
     "metadata": {},
     "output_type": "execute_result"
    }
   ],
   "source": [
    "# 25 is odd\n",
    "25 % 2 == 1"
   ]
  },
  {
   "cell_type": "code",
   "execution_count": 12,
   "metadata": {
    "collapsed": false
   },
   "outputs": [
    {
     "data": {
      "text/plain": [
       "False"
      ]
     },
     "execution_count": 12,
     "metadata": {},
     "output_type": "execute_result"
    }
   ],
   "source": [
    "# 66 is odd\n",
    "66 % 2 == 1"
   ]
  },
  {
   "cell_type": "markdown",
   "metadata": {},
   "source": [
    "Wir können mehrere Vergleiche aneinanderreihen, um kompliziertere Beziehungen zu überprüfen:"
   ]
  },
  {
   "cell_type": "code",
   "execution_count": 13,
   "metadata": {
    "collapsed": false
   },
   "outputs": [
    {
     "data": {
      "text/plain": [
       "True"
      ]
     },
     "execution_count": 13,
     "metadata": {},
     "output_type": "execute_result"
    }
   ],
   "source": [
    "# check if a is between 15 and 30\n",
    "a = 25\n",
    "15 < a < 30"
   ]
  },
  {
   "cell_type": "markdown",
   "metadata": {},
   "source": [
    "Herausfordernder ist folgender Vergleich:"
   ]
  },
  {
   "cell_type": "code",
   "execution_count": 14,
   "metadata": {
    "collapsed": false
   },
   "outputs": [
    {
     "data": {
      "text/plain": [
       "True"
      ]
     },
     "execution_count": 14,
     "metadata": {},
     "output_type": "execute_result"
    }
   ],
   "source": [
    "-1 == ~0"
   ]
  },
  {
   "cell_type": "markdown",
   "metadata": {},
   "source": [
    "Denken Sie daran, dass es sich hierbei (``~``) um den Bit-Flip-Operator handelt. Wenn Sie alle Bits von ``0`` umdrehen, erhalten Sie ``-1``. Wenn Sie neugierig sind, warum das so ist, schauen Sie sich das *Zweierkomplement*-Ganzzahl-Kodierungsschema an, das Python zum Kodieren von vorzeichenbehafteten Ganzzahlen verwendet, und überlegen Sie, was passiert, wenn Sie anfangen, alle Bits der auf diese Weise kodierten Ganzzahlen umzudrehen."
   ]
  },
  {
   "cell_type": "markdown",
   "metadata": {},
   "source": [
    "## Boolesche Operatoren\n",
    "Beim Arbeiten mit booleschen Werten stellt Python Operatoren bereit, um die Werte mithilfe der Standardkonzepte „und“, „oder“ und „nicht“ zu kombinieren. Erwartungsgemäß werden diese Operatoren durch die Wörter ``and``, ``or`` und ``not`` ausgedrückt:"
   ]
  },
  {
   "cell_type": "code",
   "execution_count": 15,
   "metadata": {
    "collapsed": false
   },
   "outputs": [
    {
     "data": {
      "text/plain": [
       "True"
      ]
     },
     "execution_count": 15,
     "metadata": {},
     "output_type": "execute_result"
    }
   ],
   "source": [
    "x = 4\n",
    "(x < 6) and (x > 2)"
   ]
  },
  {
   "cell_type": "code",
   "execution_count": 16,
   "metadata": {
    "collapsed": false
   },
   "outputs": [
    {
     "data": {
      "text/plain": [
       "True"
      ]
     },
     "execution_count": 16,
     "metadata": {},
     "output_type": "execute_result"
    }
   ],
   "source": [
    "(x > 10) or (x % 2 == 0)"
   ]
  },
  {
   "cell_type": "code",
   "execution_count": 17,
   "metadata": {
    "collapsed": false
   },
   "outputs": [
    {
     "data": {
      "text/plain": [
       "False"
      ]
     },
     "execution_count": 17,
     "metadata": {},
     "output_type": "execute_result"
    }
   ],
   "source": [
    "not (x < 6)"
   ]
  },
  {
   "cell_type": "markdown",
   "metadata": {},
   "source": [
    "Kennern der Booleschen Algebra fällt vielleicht auf, dass der *XOR*-Operator nicht enthalten ist; Dies kann natürlich auf verschiedene Arten aus einer zusammengesetzten Aussage der anderen Operatoren konstruiert werden. Ansonsten gibt es einen cleveren Trick, den Sie für die XOR-Verknüpfung boolescher Werte verwenden können:"
   ]
  },
  {
   "cell_type": "code",
   "execution_count": 18,
   "metadata": {
    "collapsed": false
   },
   "outputs": [
    {
     "data": {
      "text/plain": [
       "False"
      ]
     },
     "execution_count": 18,
     "metadata": {},
     "output_type": "execute_result"
    }
   ],
   "source": [
    "# (x > 1) xor (x < 10)\n",
    "(x > 1) != (x < 10)"
   ]
  },
  {
   "cell_type": "markdown",
   "metadata": {},
   "source": [
    "Diese Art von booleschen Operationen wird äußerst nützlich sein, wenn wir mit der Diskussion von Kontrollflussanweisungen wie Bedingungen und Schleifen beginnen.\n",
    "\n",
    "Eine manchmal verwirrende Sache an der Sprache ist, wann boolesche Operatoren (``and``, ``or``, ``not``) und wann bitweise Operationen (``&``, ``|``, ``~``) verwendet werden sollen.\n",
    "\n",
    "Die Antwort liegt in ihren Namen: Boolesche Operatoren sollten verwendet werden, wenn Sie boolesche Werte (z. B. Wahrheit oder Falschheit) ganzer Aussagen berechnen möchten. Bitweise Operationen sollten verwendet werden, wenn Sie einzelne Bits oder Komponenten der betreffenden Objekte bearbeiten möchten ."
   ]
  },
  {
   "cell_type": "markdown",
   "metadata": {},
   "source": [
    "## Identitäts- und Mitgliedschaftsoperatoren \n",
    "\n",
    "Wie``and``, ``or``, und ``not`` enthält Python auch prosaartige Operatoren zur Überprüfung der Identität und der Mitgliedschaft. Dies sind die folgenden:\n",
    "\n",
    "| Operator      | Description                                       |\n",
    "|---------------|---------------------------------------------------|\n",
    "| ``a is b``    | True if ``a`` and ``b`` are identical objects     |\n",
    "| ``a is not b``| True if ``a`` and ``b`` are not identical objects |\n",
    "| ``a in b``    | True if ``a`` is a member of ``b``                |\n",
    "| ``a not in b``| True if ``a`` is not a member of ``b``            |"
   ]
  },
  {
   "cell_type": "markdown",
   "metadata": {},
   "source": [
    "### Identitätsoperatoren: \"``is``\" und \"``is not``\"\n",
    "\n",
    "Die Identitätsoperatoren \"``is``\" und \"``is not``\" prüfen die Objektidentität . Objektidentität ist etwas anderes als Gleichheit, wie wir hier sehen können:"
   ]
  },
  {
   "cell_type": "code",
   "execution_count": 19,
   "metadata": {
    "collapsed": false
   },
   "outputs": [],
   "source": [
    "a = [1, 2, 3]\n",
    "b = [1, 2, 3]"
   ]
  },
  {
   "cell_type": "code",
   "execution_count": 20,
   "metadata": {
    "collapsed": false
   },
   "outputs": [
    {
     "data": {
      "text/plain": [
       "True"
      ]
     },
     "execution_count": 20,
     "metadata": {},
     "output_type": "execute_result"
    }
   ],
   "source": [
    "a == b"
   ]
  },
  {
   "cell_type": "code",
   "execution_count": 21,
   "metadata": {
    "collapsed": false
   },
   "outputs": [
    {
     "data": {
      "text/plain": [
       "False"
      ]
     },
     "execution_count": 21,
     "metadata": {},
     "output_type": "execute_result"
    }
   ],
   "source": [
    "a is b"
   ]
  },
  {
   "cell_type": "code",
   "execution_count": 22,
   "metadata": {
    "collapsed": false
   },
   "outputs": [
    {
     "data": {
      "text/plain": [
       "True"
      ]
     },
     "execution_count": 22,
     "metadata": {},
     "output_type": "execute_result"
    }
   ],
   "source": [
    "a is not b"
   ]
  },
  {
   "cell_type": "markdown",
   "metadata": {},
   "source": [
    "Wie sehen identische Objekte aus? Hier ist ein Beispiel:"
   ]
  },
  {
   "cell_type": "code",
   "execution_count": 23,
   "metadata": {
    "collapsed": false
   },
   "outputs": [
    {
     "data": {
      "text/plain": [
       "True"
      ]
     },
     "execution_count": 23,
     "metadata": {},
     "output_type": "execute_result"
    }
   ],
   "source": [
    "a = [1, 2, 3]\n",
    "b = a\n",
    "a is b"
   ]
  },
  {
   "cell_type": "markdown",
   "metadata": {},
   "source": [
    "Der Unterschied zwischen den beiden Fällen besteht darin, dass sie im ersten Fall ``a`` und ``b`` auf *unterschiedliche Objekte* verweisen, während sie im zweiten Fall auf *dasselbe Objekt* zeigen. Wie wir im vorherigen Abschnitt gesehen haben, sind Python-Variablen Zeiger (oder Labels). Der  \"``is``\" Operator prüft, ob die beiden Variablen auf dasselbe Objekt verweisen anstatt den Inhalt der Objekte zu vergleichen. Vor diesem Hintergrund sind in den vielen Fällen Anfänger versucht, \"``is``\" zu verwenden, wenn sie eigentlich ``==`` meinen."
   ]
  },
  {
   "cell_type": "markdown",
   "metadata": {},
   "source": [
    "### Mitgliedschaftsoperatoren (membership operators)\n",
    "Mitgliedschaftsoperatoren prüfen die Mitgliedschaft innerhalb zusammengesetzter Objekte. So können wir zum Beispiel schreiben:"
   ]
  },
  {
   "cell_type": "code",
   "execution_count": 24,
   "metadata": {
    "collapsed": false
   },
   "outputs": [
    {
     "data": {
      "text/plain": [
       "True"
      ]
     },
     "execution_count": 24,
     "metadata": {},
     "output_type": "execute_result"
    }
   ],
   "source": [
    "1 in [1, 2, 3]"
   ]
  },
  {
   "cell_type": "code",
   "execution_count": 25,
   "metadata": {
    "collapsed": false
   },
   "outputs": [
    {
     "data": {
      "text/plain": [
       "False"
      ]
     },
     "execution_count": 25,
     "metadata": {},
     "output_type": "execute_result"
    }
   ],
   "source": [
    "2 not in [1, 2, 3]"
   ]
  },
  {
   "cell_type": "markdown",
   "metadata": {},
   "source": [
    "Diese Mitgliedschaftsoperationen sind ein Beispiel dafür, was die Verwendung von Python im Vergleich zu Sprachen niedrigerer Ebenen wie C so einfach macht. In C würde die Mitgliedschaft im Allgemeinen durch manuelles Erstellen einer Schleife über die Liste und Überprüfen der Gleichheit jedes Werts bestimmt. In Python geben wir einfach ein, was wir wissen möchten, und zwar auf eine Weise, die an einfache englische Prosa erinnert."
   ]
  }
 ],
 "metadata": {
  "anaconda-cloud": {},
  "kernelspec": {
   "display_name": "Python 3",
   "language": "python",
   "name": "python3"
  },
  "language_info": {
   "codemirror_mode": {
    "name": "ipython",
    "version": 3
   },
   "file_extension": ".py",
   "mimetype": "text/x-python",
   "name": "python",
   "nbconvert_exporter": "python",
   "pygments_lexer": "ipython3",
   "version": "3.12.3"
  }
 },
 "nbformat": 4,
 "nbformat_minor": 0
}
