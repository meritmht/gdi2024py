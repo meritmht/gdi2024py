{
 "cells": [
  {
   "cell_type": "markdown",
   "metadata": {},
   "source": [
    "<!--BOOK_INFORMATION-->\n",
    "<img align=\"left\" style=\"padding-right:10px;\" src=\"img/cover-small.jpg\" />\n",
    "\n",
    "Dieses Notizbuch enthält einen angepassten Auszug aus der [Whirlwind Tour of Python](http://www.oreilly.com/programming/free/a-whirlwind-tour-of-python.csp) von Jake VanderPlas; Der Inhalt ist auf [GitHub](https://github.com/jakevdp/WhirlwindTourOfPython) verfügbar.\n",
    "\n",
    "Text und Code werden unter der [CC0](https://github.com/jakevdp/WhirlwindTourOfPython/blob/master/LICENSE)- Lizenz veröffentlicht; Das Begleitprojekt, das [Python Data Science Handbook](https://github.com/jakevdp/PythonDataScienceHandbook) wird sehr empfohlen.\n"
   ]
  },
  {
   "cell_type": "markdown",
   "metadata": {},
   "source": [
    "# Integrierte Typen: Einfache Werte"
   ]
  },
  {
   "cell_type": "markdown",
   "metadata": {},
   "source": [
    "Wir wissen bereits, dass allen Python-Objekten Typinformationen beigefügt sind. Wir verschaffen uns nun kurz einen Überblick über die integrierten einfachen Typen, die Python bietet. Wir sagen „einfache (Daten-)Typen“ im Gegensatz zu den komplexeren zusammengesetzten Typen, die wir uns später ansehen werden.\n",
    "\n",
    "Die einfachen Typen von Python sind in der folgenden Tabelle zusammengefasst:\n",
    "\n",
    "| Type        | Example        | Description                                                  |\n",
    "|-------------|----------------|--------------------------------------------------------------|\n",
    "| ``int``     | ``x = 1``      | integers (i.e., whole numbers)                               |\n",
    "| ``float``   | ``x = 1.0``    | floating-point numbers (i.e., real numbers)                  |\n",
    "| ``complex`` | ``x = 1 + 2j`` | Complex numbers (i.e., numbers with real and imaginary part) |\n",
    "| ``bool``    | ``x = True``   | Boolean: True/False values                                   |\n",
    "| ``str``     | ``x = 'abc'``  | String: characters or text                                   |\n",
    "| ``NoneType``| ``x = None``   | Special object indicating nulls                              |\n",
    "\n",
    "Wir werden uns diese Typen nacheinander kurz ansehen."
   ]
  },
  {
   "cell_type": "markdown",
   "metadata": {},
   "source": [
    "## Integers – Ganze Zahlen\n",
    "Der grundlegendste numerische Typ ist die Ganzzahl. Jede Zahl ohne Dezimalpunkt ist ein ``int``:"
   ]
  },
  {
   "cell_type": "code",
   "execution_count": 2,
   "metadata": {
    "collapsed": false
   },
   "outputs": [
    {
     "data": {
      "text/plain": [
       "int"
      ]
     },
     "execution_count": 2,
     "metadata": {},
     "output_type": "execute_result"
    }
   ],
   "source": [
    "x = 1\n",
    "type(x)"
   ]
  },
  {
   "cell_type": "markdown",
   "metadata": {},
   "source": [
    "Python-Ganzzahlen sind tatsächlich um einiges ausgefeilter als Ganzzahlen in Sprachen wie C. C-Ganzzahlen haben eine feste Genauigkeit und laufen normalerweise bei einem bestimmten Wert (oft in der Nähe von $2^{31}$ or $2^{63}$) über, abhängig vom System). Python-Ganzzahlen haben eine variable Genauigkeit, sodass wir Berechnungen durchführen können, die in anderen Sprachen überlaufen würden:"
   ]
  },
  {
   "cell_type": "code",
   "execution_count": 3,
   "metadata": {
    "collapsed": false
   },
   "outputs": [
    {
     "data": {
      "text/plain": [
       "1606938044258990275541962092341162602522202993782792835301376"
      ]
     },
     "execution_count": 3,
     "metadata": {},
     "output_type": "execute_result"
    }
   ],
   "source": [
    "2 ** 200"
   ]
  },
  {
   "cell_type": "markdown",
   "metadata": {},
   "source": [
    "Eine weitere praktische Funktion von Python-Ganzzahlen besteht darin, dass die Division standardmäßig in einen Gleitkommatyp umgewandelt wird:"
   ]
  },
  {
   "cell_type": "code",
   "execution_count": 4,
   "metadata": {
    "collapsed": false
   },
   "outputs": [
    {
     "data": {
      "text/plain": [
       "2.5"
      ]
     },
     "execution_count": 4,
     "metadata": {},
     "output_type": "execute_result"
    }
   ],
   "source": [
    "5 / 2"
   ]
  },
  {
   "cell_type": "markdown",
   "metadata": {},
   "source": [
    "Beachten Sie, dass dieses *Upcasting* eine Funktion von Python 3 ist; In Python 2, wie in vielen statisch typisierten Sprachen wie C, schneidet die Ganzzahldivision jede Dezimalzahl ab und gibt immer eine Ganzzahl zurück:\n",
    "\n",
    "``` python\n",
    "# Python 2 behavior\n",
    ">>> 5 / 2\n",
    "2\n",
    "```\n",
    "Um dieses Verhalten in Python 3 wiederherzustellen, wir den Floor-Division-Operator ``//`` verwenden:"
   ]
  },
  {
   "cell_type": "code",
   "execution_count": 5,
   "metadata": {
    "collapsed": false
   },
   "outputs": [
    {
     "data": {
      "text/plain": [
       "2"
      ]
     },
     "execution_count": 5,
     "metadata": {},
     "output_type": "execute_result"
    }
   ],
   "source": [
    "5 // 2"
   ]
  },
  {
   "cell_type": "markdown",
   "metadata": {},
   "source": [
    "In Python *2.x* gab es noch einen ``int`` und einen ``long`` Typ. Python 3 hat jedoch das Verhalten dieser beiden Typen in einem einzigen ``int`` Typ kombiniert."
   ]
  },
  {
   "cell_type": "markdown",
   "metadata": {},
   "source": [
    "## Floating-Point Numbers – Gleitkommazahlen\n",
    "Der Gleitkommatyp kann Bruchzahlen speichern. Sie können entweder in der Standard-Dezimalschreibweise oder in der Exponentialschreibweise definiert werden:"
   ]
  },
  {
   "cell_type": "code",
   "execution_count": 6,
   "metadata": {
    "collapsed": false
   },
   "outputs": [
    {
     "name": "stdout",
     "output_type": "stream",
     "text": [
      "True\n"
     ]
    }
   ],
   "source": [
    "x = 0.000005\n",
    "y = 5e-6\n",
    "print(x == y)"
   ]
  },
  {
   "cell_type": "code",
   "execution_count": 7,
   "metadata": {
    "collapsed": false
   },
   "outputs": [
    {
     "name": "stdout",
     "output_type": "stream",
     "text": [
      "True\n"
     ]
    }
   ],
   "source": [
    "x = 1400000.00\n",
    "y = 1.4e6\n",
    "print(x == y)"
   ]
  },
  {
   "cell_type": "markdown",
   "metadata": {},
   "source": [
    "In der Exponentialschreibweise kann das``e`` oder ``E`` als \"...mal Zehn hoch...\" gelesen werden, so dass ``1.4e6`` interpretiert wird als $~1.4 \\times 10^6$."
   ]
  },
  {
   "cell_type": "markdown",
   "metadata": {},
   "source": [
    "Eine Ganzzahl kann mit dem ``float`` Konstruktor explizit in eine Gleitkommazahl umgewandelt werden:"
   ]
  },
  {
   "cell_type": "code",
   "execution_count": 1,
   "metadata": {
    "collapsed": false
   },
   "outputs": [
    {
     "data": {
      "text/plain": [
       "1.0"
      ]
     },
     "execution_count": 1,
     "metadata": {},
     "output_type": "execute_result"
    }
   ],
   "source": [
    "float(1)"
   ]
  },
  {
   "cell_type": "markdown",
   "metadata": {},
   "source": [
    "### Gleitkomma-Präzision\n",
    "Bei der Gleitkomma-Arithmetik ist zu beachten, dass ihre Genauigkeit begrenzt ist, was dazu führen kann, dass Gleichheitstests instabil werden. Zum Beispiel"
   ]
  },
  {
   "cell_type": "code",
   "execution_count": 2,
   "metadata": {
    "collapsed": false
   },
   "outputs": [
    {
     "data": {
      "text/plain": [
       "False"
      ]
     },
     "execution_count": 2,
     "metadata": {},
     "output_type": "execute_result"
    }
   ],
   "source": [
    "0.1 + 0.2 == 0.3"
   ]
  },
  {
   "cell_type": "markdown",
   "metadata": {},
   "source": [
    "Warum ist das so? Es stellt sich heraus, dass es sich hierbei nicht um ein Verhalten handelt, das nur bei Python auftritt, sondern auf das Format mit fester Genauigkeit des binären Gleitkommaspeichers zurückzuführen ist, der von den meisten, wenn nicht allen, wissenschaftlichen Computerplattformen verwendet wird. Alle Programmiersprachen, die Gleitkommazahlen verwenden, speichern diese in einer festen Anzahl von Bits, was dazu führt, dass einige Zahlen nur näherungsweise dargestellt werden. Wir können dies erkennen, indem wir die drei Werte mit hoher Präzision ausgeben:"
   ]
  },
  {
   "cell_type": "code",
   "execution_count": 10,
   "metadata": {
    "collapsed": false
   },
   "outputs": [
    {
     "name": "stdout",
     "output_type": "stream",
     "text": [
      "0.1 = 0.10000000000000001\n",
      "0.2 = 0.20000000000000001\n",
      "0.3 = 0.29999999999999999\n"
     ]
    }
   ],
   "source": [
    "print(\"0.1 = {0:.17f}\".format(0.1))\n",
    "print(\"0.2 = {0:.17f}\".format(0.2))\n",
    "print(\"0.3 = {0:.17f}\".format(0.3))"
   ]
  },
  {
   "cell_type": "markdown",
   "metadata": {},
   "source": [
    "Wir sind es gewohnt, Zahlen in der Dezimalschreibweise (mit der Basis 10) zu betrachten, sodass jeder Bruch als Summe von Zehnerpotenzen ausgedrückt werden muss:\n",
    "\n",
    "$$\n",
    "1 /8 = 1\\cdot 10^{-1} + 2\\cdot 10^{-2} + 5\\cdot 10^{-3}\n",
    "$$\n",
    "\n",
    "In der vertrauten Basis-10-Darstellung stellen wir dies im bekannten Dezimalausdruck dar: $0.125$.\n",
    "\n",
    "Computer speichern Werte normalerweise binär (mit der Basis ``2``), sodass jede Zahl als Summe von Zweierpotenzen ausgedrückt wird:\n",
    "\n",
    "$$\n",
    "1/8 = 0\\cdot 2^{-1} + 0\\cdot 2^{-2} + 1\\cdot 2^{-3}\n",
    "$$\n",
    "\n",
    "In einer Basis-2-Darstellung können wir dies schreiben $0.001_2$, wobei der Index ``2`` die binäre Notation anzeigt. Der Wert $0.125 = 0.001_2$ ist zufällig eine Zahl, die sowohl in binärer als auch in dezimaler Schreibweise in einer endlichen Anzahl von Ziffern dargestellt werden kann.\n",
    "\n",
    "In der bekannten Zahlendarstellung zur Basis 10 kennen Sie wahrscheinlich Zahlen, die nicht in einer endlichen Anzahl von Ziffern ausgedrückt werden können. Zum Beispiel\n",
    "ergibt $1$ geteilt durch $3$ in der Standard-Dezimalschreibweise:\n",
    "\n",
    "$$\n",
    "1 / 3 = 0.333333333\\cdots\n",
    "$$\n",
    "\n",
    "Die 3er-Nachkommastellen gehen ewig weiter: Das heißt, um diesen Quotienten wirklich darzustellen, ist die Anzahl der erforderlichen Ziffern unendlich!\n",
    "\n",
    "Ebenso gibt es Zahlen, für die binäre Darstellungen eine unendliche Anzahl von Ziffern erfordern. Zum Beispiel:\n",
    "\n",
    "$$\n",
    "1 / 10 = 0.00011001100110011\\cdots_2\n",
    "$$\n",
    "\n",
    "Genauso wie die Dezimalschreibweise eine unendliche Anzahl von Ziffern erfordert, um  $1/3$ perfekt darzustellen, erfordert die binäre Notation eine unendliche Anzahl von Ziffern zur Darstellung von $1/10$. Auf den meisten Systemen kürzt Python diese Darstellungen intern auf 52 Bit über das erste Nicht-Null-Bit hinaus.\n",
    "\n",
    "Dieser Rundungsfehler bei Gleitkommawerten ist ein notwendiges Übel bei der Arbeit mit Gleitkommazahlen. Der beste Weg, damit umzugehen, besteht darin, immer im Hinterkopf zu behalten, dass Gleitkomma-Arithmetik Näherungswerte ist, und sich *niemals* auf exakte Gleichheitstests mit Gleitkommawerten zu verlassen."
   ]
  },
  {
   "cell_type": "markdown",
   "metadata": {},
   "source": [
    "## String – Zeichenketten\n",
    "Zeichenfolgen werden in Python mit einfachen oder doppelten Anführungszeichen erstellt:"
   ]
  },
  {
   "cell_type": "code",
   "execution_count": 3,
   "metadata": {
    "collapsed": false
   },
   "outputs": [
    {
     "data": {
      "text/plain": [
       "\"' hallo  '\""
      ]
     },
     "execution_count": 3,
     "metadata": {},
     "output_type": "execute_result"
    }
   ],
   "source": [
    "message = \"what do you like?\"\n",
    "response = 'spam'"
   ]
  },
  {
   "cell_type": "markdown",
   "metadata": {},
   "source": [
    "Python verfügt über viele äußerst nützliche String-Funktionen und -Methoden; Hier sind einige davon:"
   ]
  },
  {
   "cell_type": "code",
   "execution_count": 12,
   "metadata": {
    "collapsed": false
   },
   "outputs": [
    {
     "data": {
      "text/plain": [
       "4"
      ]
     },
     "execution_count": 12,
     "metadata": {},
     "output_type": "execute_result"
    }
   ],
   "source": [
    "# length of string\n",
    "len(response)"
   ]
  },
  {
   "cell_type": "code",
   "execution_count": 13,
   "metadata": {
    "collapsed": false
   },
   "outputs": [
    {
     "data": {
      "text/plain": [
       "'SPAM'"
      ]
     },
     "execution_count": 13,
     "metadata": {},
     "output_type": "execute_result"
    }
   ],
   "source": [
    "# Make upper-case. See also str.lower()\n",
    "response.upper()"
   ]
  },
  {
   "cell_type": "code",
   "execution_count": 14,
   "metadata": {
    "collapsed": false
   },
   "outputs": [
    {
     "data": {
      "text/plain": [
       "'What do you like?'"
      ]
     },
     "execution_count": 14,
     "metadata": {},
     "output_type": "execute_result"
    }
   ],
   "source": [
    "# Capitalize. See also str.title()\n",
    "message.capitalize()"
   ]
  },
  {
   "cell_type": "code",
   "execution_count": 15,
   "metadata": {
    "collapsed": false
   },
   "outputs": [
    {
     "data": {
      "text/plain": [
       "'what do you like?spam'"
      ]
     },
     "execution_count": 15,
     "metadata": {},
     "output_type": "execute_result"
    }
   ],
   "source": [
    "# concatenation with +\n",
    "message + response"
   ]
  },
  {
   "cell_type": "code",
   "execution_count": 16,
   "metadata": {
    "collapsed": false
   },
   "outputs": [
    {
     "data": {
      "text/plain": [
       "'spamspamspamspamspam'"
      ]
     },
     "execution_count": 16,
     "metadata": {},
     "output_type": "execute_result"
    }
   ],
   "source": [
    "# multiplication is multiple concatenation\n",
    "5 * response"
   ]
  },
  {
   "cell_type": "code",
   "execution_count": 17,
   "metadata": {
    "collapsed": false
   },
   "outputs": [
    {
     "data": {
      "text/plain": [
       "'w'"
      ]
     },
     "execution_count": 17,
     "metadata": {},
     "output_type": "execute_result"
    }
   ],
   "source": [
    "# Access individual characters (zero-based indexing)\n",
    "message[0]"
   ]
  },
  {
   "cell_type": "code",
   "execution_count": 9,
   "metadata": {},
   "outputs": [
    {
     "name": "stdout",
     "output_type": "stream",
     "text": [
      "Hello, x:  4 , y:  2\n",
      "Hello, x: 4, y: 2\n"
     ]
    }
   ],
   "source": [
    "x = 4\n",
    "y = 2\n",
    "\n",
    "print(\"Hello, x: \", x, \", y: \",y)\n",
    "\n",
    "print(f\"Hello, x: {x}, y: {y}\")"
   ]
  },
  {
   "cell_type": "markdown",
   "metadata": {},
   "source": [
    "## NoneType\n",
    "Python enthält einen speziellen Typ, den NoneType, der nur einen einzigen möglichen Wert hat: ``None``. Zum Beispiel:"
   ]
  },
  {
   "cell_type": "code",
   "execution_count": 18,
   "metadata": {
    "collapsed": false
   },
   "outputs": [
    {
     "data": {
      "text/plain": [
       "NoneType"
      ]
     },
     "execution_count": 18,
     "metadata": {},
     "output_type": "execute_result"
    }
   ],
   "source": [
    "type(None)"
   ]
  },
  {
   "cell_type": "markdown",
   "metadata": {},
   "source": [
    "Wir werden ``None`` an vielen Stellen sehen, aber vielleicht am häufigsten wird es als Standardrückgabewert einer Funktion verwendet. Beispielsweise gibt die Funktion ``print()`` in Python 3 nichts zurück, aber wir können ihren Wert trotzdem abfangen:"
   ]
  },
  {
   "cell_type": "code",
   "execution_count": 19,
   "metadata": {
    "collapsed": false
   },
   "outputs": [
    {
     "name": "stdout",
     "output_type": "stream",
     "text": [
      "abc\n"
     ]
    }
   ],
   "source": [
    "return_value = print('abc')"
   ]
  },
  {
   "cell_type": "code",
   "execution_count": 20,
   "metadata": {
    "collapsed": false
   },
   "outputs": [
    {
     "name": "stdout",
     "output_type": "stream",
     "text": [
      "None\n"
     ]
    }
   ],
   "source": [
    "print(return_value)"
   ]
  },
  {
   "cell_type": "markdown",
   "metadata": {},
   "source": [
    "Jede Funktion ohne Rückgabewert gibt in Python ``None`` zurück."
   ]
  },
  {
   "cell_type": "markdown",
   "metadata": {},
   "source": [
    "## Boolean Type\n",
    "Der boolesche Typ ist ein einfacher Typ mit zwei möglichen Werten: ``True`` and ``False`` und wird von den zuvor besprochenen Vergleichsoperatoren zurückgegeben:"
   ]
  },
  {
   "cell_type": "code",
   "execution_count": 21,
   "metadata": {
    "collapsed": false
   },
   "outputs": [
    {
     "data": {
      "text/plain": [
       "True"
      ]
     },
     "execution_count": 21,
     "metadata": {},
     "output_type": "execute_result"
    }
   ],
   "source": [
    "result = (4 < 5)\n",
    "result"
   ]
  },
  {
   "cell_type": "code",
   "execution_count": 22,
   "metadata": {
    "collapsed": false
   },
   "outputs": [
    {
     "data": {
      "text/plain": [
       "bool"
      ]
     },
     "execution_count": 22,
     "metadata": {},
     "output_type": "execute_result"
    }
   ],
   "source": [
    "type(result)"
   ]
  },
  {
   "cell_type": "markdown",
   "metadata": {},
   "source": [
    "Beachten Sie, dass bei booleschen Werten im Gegensatz zu einigen anderen Sprachen die Groß-/Kleinschreibung beachtet werden muss. ``True`` und ``False`` müssen groß geschrieben werden müssen!"
   ]
  },
  {
   "cell_type": "code",
   "execution_count": 23,
   "metadata": {
    "collapsed": false
   },
   "outputs": [
    {
     "name": "stdout",
     "output_type": "stream",
     "text": [
      "True False\n"
     ]
    }
   ],
   "source": [
    "print(True, False)"
   ]
  },
  {
   "cell_type": "markdown",
   "metadata": {},
   "source": [
    "Boolesche Werte können auch mit dem Objektkonstruktor erstellt werden: Werte jedes anderen Typs können über vorhersehbare Regeln in boolesche Werte umgewandelt werden. Beispielsweise ist jeder numerische Typ \"``False``\", wenn er gleich ``0`` ist, andernfalls \"``True``\":"
   ]
  },
  {
   "cell_type": "code",
   "execution_count": 24,
   "metadata": {
    "collapsed": false
   },
   "outputs": [
    {
     "data": {
      "text/plain": [
       "True"
      ]
     },
     "execution_count": 24,
     "metadata": {},
     "output_type": "execute_result"
    }
   ],
   "source": [
    "bool(2014)"
   ]
  },
  {
   "cell_type": "code",
   "execution_count": 25,
   "metadata": {
    "collapsed": false
   },
   "outputs": [
    {
     "data": {
      "text/plain": [
       "False"
      ]
     },
     "execution_count": 25,
     "metadata": {},
     "output_type": "execute_result"
    }
   ],
   "source": [
    "bool(0)"
   ]
  },
  {
   "cell_type": "code",
   "execution_count": 26,
   "metadata": {
    "collapsed": false
   },
   "outputs": [
    {
     "data": {
      "text/plain": [
       "True"
      ]
     },
     "execution_count": 26,
     "metadata": {},
     "output_type": "execute_result"
    }
   ],
   "source": [
    "bool(3.1415)"
   ]
  },
  {
   "cell_type": "markdown",
   "metadata": {},
   "source": [
    "Die boolesche Konvertierung von ``None`` ist immer falsch:"
   ]
  },
  {
   "cell_type": "code",
   "execution_count": 27,
   "metadata": {
    "collapsed": false
   },
   "outputs": [
    {
     "data": {
      "text/plain": [
       "False"
      ]
     },
     "execution_count": 27,
     "metadata": {},
     "output_type": "execute_result"
    }
   ],
   "source": [
    "bool(None)"
   ]
  },
  {
   "cell_type": "markdown",
   "metadata": {},
   "source": [
    "Bei Zeichenfolgen ``bool(s)`` ist „False“ für leere Zeichenfolgen und „True“, andernfalls:"
   ]
  },
  {
   "cell_type": "code",
   "execution_count": 32,
   "metadata": {
    "collapsed": false
   },
   "outputs": [
    {
     "data": {
      "text/plain": [
       "False"
      ]
     },
     "execution_count": 32,
     "metadata": {},
     "output_type": "execute_result"
    }
   ],
   "source": [
    "bool(\"\")"
   ]
  },
  {
   "cell_type": "code",
   "execution_count": 29,
   "metadata": {
    "collapsed": false
   },
   "outputs": [
    {
     "data": {
      "text/plain": [
       "True"
      ]
     },
     "execution_count": 29,
     "metadata": {},
     "output_type": "execute_result"
    }
   ],
   "source": [
    "bool(\"abc\")"
   ]
  },
  {
   "cell_type": "markdown",
   "metadata": {},
   "source": [
    "Für Sequenzen, die wir im nächsten Abschnitt sehen werden, ist die boolesche Darstellung ``False`` für leere Sequenzen und ``True`` für alle anderen Sequenzen."
   ]
  },
  {
   "cell_type": "code",
   "execution_count": 30,
   "metadata": {
    "collapsed": false
   },
   "outputs": [
    {
     "data": {
      "text/plain": [
       "True"
      ]
     },
     "execution_count": 30,
     "metadata": {},
     "output_type": "execute_result"
    }
   ],
   "source": [
    "bool([1, 2, 3])"
   ]
  },
  {
   "cell_type": "code",
   "execution_count": 31,
   "metadata": {
    "collapsed": false
   },
   "outputs": [
    {
     "data": {
      "text/plain": [
       "False"
      ]
     },
     "execution_count": 31,
     "metadata": {},
     "output_type": "execute_result"
    }
   ],
   "source": [
    "bool([])"
   ]
  },
  {
   "cell_type": "markdown",
   "metadata": {},
   "source": [
    "---\n",
    "**SELBST AUSPROBIEREN:**\n",
    "\n",
    "**AUFGABE 5.1: Einfache Nachricht:** \n",
    "Weise einer Variablen eine Nachricht zu und gib dann diese Nachricht aus."
   ]
  },
  {
   "cell_type": "code",
   "execution_count": null,
   "metadata": {},
   "outputs": [],
   "source": [
    "# AUFGABE 5.1\n",
    "# DEIN CODE HIER:\n",
    "\n"
   ]
  },
  {
   "cell_type": "markdown",
   "metadata": {},
   "source": [
    "\n",
    "**AUFGABE 5.2 Einfache Nachrichten:** \n",
    "Weise einer Variablen eine Nachricht zu und drucke diese Nachricht aus. Ändere dann den Wert der Variablen zu einer neuen Nachricht und drucke die neue Nachricht aus."
   ]
  },
  {
   "cell_type": "code",
   "execution_count": null,
   "metadata": {},
   "outputs": [],
   "source": [
    "# AUFGABE 5.2\n",
    "# DEIN CODE HIER:"
   ]
  },
  {
   "cell_type": "markdown",
   "metadata": {},
   "source": [
    "**AUFGABE 5.3 Persönliche Nachricht:** \n",
    "Verwende eine Variable, um den Namen einer Person zu repräsentieren, und drucke eine Nachricht an diese Person. Deine Nachricht sollte einfach sein, wie zum Beispiel: „Hallo Eric, möchtest du heute etwas Python lernen?“"
   ]
  },
  {
   "cell_type": "code",
   "execution_count": null,
   "metadata": {},
   "outputs": [],
   "source": [
    "# AUFGABE 5.3\n",
    "# DEIN CODE HIER:"
   ]
  },
  {
   "cell_type": "markdown",
   "metadata": {},
   "source": [
    "**AUFGABE 5.4 Namensvarianten:**\n",
    "Verwende eine Variable, um den Namen einer Person zu repräsentieren, und drucke dann den Namen dieser Person in Kleinbuchstaben, Großbuchstaben und im Titelstil."
   ]
  },
  {
   "cell_type": "code",
   "execution_count": null,
   "metadata": {},
   "outputs": [],
   "source": [
    "# AUFGABE 5.4\n",
    "# DEIN CODE HIER:"
   ]
  },
  {
   "cell_type": "markdown",
   "metadata": {},
   "source": [
    "**AUFGABE 5.5 Berühmtes Zitat:**\n",
    "Finde ein Zitat einer berühmten Person, die du bewunderst. Drucke das Zitat und den Namen seines Autors. Deine Ausgabe sollte ungefähr so aussehen, einschließlich der Anführungszeichen:\n",
    "\n",
    "> Albert Einstein sagte einmal: „Eine Person, die nie einen Fehler gemacht hat, hat nie etwas Neues versucht.“"
   ]
  },
  {
   "cell_type": "code",
   "execution_count": null,
   "metadata": {},
   "outputs": [],
   "source": [
    "# AUFGABE 5.5\n",
    "# DEIN CODE HIER:"
   ]
  }
 ],
 "metadata": {
  "anaconda-cloud": {},
  "kernelspec": {
   "display_name": "Python 3",
   "language": "python",
   "name": "python3"
  },
  "language_info": {
   "codemirror_mode": {
    "name": "ipython",
    "version": 3
   },
   "file_extension": ".py",
   "mimetype": "text/x-python",
   "name": "python",
   "nbconvert_exporter": "python",
   "pygments_lexer": "ipython3",
   "version": "3.12.3"
  }
 },
 "nbformat": 4,
 "nbformat_minor": 0
}
