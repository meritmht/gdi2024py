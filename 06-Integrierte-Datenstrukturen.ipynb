{
 "cells": [
  {
   "cell_type": "markdown",
   "metadata": {},
   "source": [
    "<!--BOOK_INFORMATION-->\n",
    "<img align=\"left\" style=\"padding-right:10px;\" src=\"img/cover-small.jpg\" />\n",
    "\n",
    "Dieses Notizbuch enthält einen angepassten Auszug aus der [Whirlwind Tour of Python](http://www.oreilly.com/programming/free/a-whirlwind-tour-of-python.csp) von Jake VanderPlas; Der Inhalt ist auf [GitHub](https://github.com/jakevdp/WhirlwindTourOfPython) verfügbar.\n",
    "\n",
    "Text und Code werden unter der [CC0](https://github.com/jakevdp/WhirlwindTourOfPython/blob/master/LICENSE)- Lizenz veröffentlicht; Das Begleitprojekt, das [Python Data Science Handbook](https://github.com/jakevdp/PythonDataScienceHandbook) wird sehr empfohlen.\n"
   ]
  },
  {
   "cell_type": "markdown",
   "metadata": {},
   "source": [
    "# Integrierte Datenstrukturen"
   ]
  },
  {
   "cell_type": "markdown",
   "metadata": {},
   "source": [
    "Wir haben die einfachen Typen von Python gesehen: i``int``, ``float``, ``complex``, ``bool``, ``str``, usw. Python verfügt außerdem über mehrere integrierte zusammengesetzte Typen, die als Container für andere Typen fungieren. Diese Datentypen sind:\n",
    "\n",
    "\n",
    "| Type Name | Example                   |Description                            |\n",
    "|-----------|---------------------------|---------------------------------------|\n",
    "| ``list``  | ``[1, 2, 3]``             | Ordered collection                    |\n",
    "| ``tuple`` | ``(1, 2, 3)``             | Immutable ordered collection          |\n",
    "| ``dict``  | ``{'a':1, 'b':2, 'c':3}`` | Unordered (key,value) mapping         |\n",
    "| ``set``   | ``{1, 2, 3}``             | Unordered collection of unique values |\n",
    "\n",
    "Runde, eckige und geschweifte Klammern haben hier sehr unterschiedliche Bedeutungen, wenn es um die Art der erstellten Sammlung geht. Wir werden uns hier einen kurzen Überblick verschaffen."
   ]
  },
  {
   "cell_type": "markdown",
   "metadata": {},
   "source": [
    "## Listen\n",
    "Listen sind der grundlegende *geordnete* und *veränderliche* Collection-Typ in Python. Listen können mit durch Kommas getrennten Werten in eckigen Klammern definiert werden; Hier ist zum Beispiel eine Liste der ersten Primzahlen:"
   ]
  },
  {
   "cell_type": "code",
   "execution_count": 1,
   "metadata": {
    "collapsed": false
   },
   "outputs": [],
   "source": [
    "L = [2, 3, 5, 7]"
   ]
  },
  {
   "cell_type": "markdown",
   "metadata": {},
   "source": [
    "Listen verfügen über eine Reihe nützlicher Eigenschaften und Methoden. Hier werfen wir einen kurzen Blick auf einige der gebräuchlichsten und nützlichsten:"
   ]
  },
  {
   "cell_type": "code",
   "execution_count": 2,
   "metadata": {
    "collapsed": false
   },
   "outputs": [
    {
     "data": {
      "text/plain": [
       "4"
      ]
     },
     "execution_count": 2,
     "metadata": {},
     "output_type": "execute_result"
    }
   ],
   "source": [
    "# Length of a list\n",
    "len(L)"
   ]
  },
  {
   "cell_type": "code",
   "execution_count": 3,
   "metadata": {
    "collapsed": false
   },
   "outputs": [
    {
     "data": {
      "text/plain": [
       "[2, 3, 5, 7, 11]"
      ]
     },
     "execution_count": 3,
     "metadata": {},
     "output_type": "execute_result"
    }
   ],
   "source": [
    "# Append a value to the end\n",
    "L.append(11)\n",
    "L"
   ]
  },
  {
   "cell_type": "code",
   "execution_count": 4,
   "metadata": {
    "collapsed": false
   },
   "outputs": [
    {
     "data": {
      "text/plain": [
       "[2, 3, 5, 7, 11, 13, 17, 19]"
      ]
     },
     "execution_count": 4,
     "metadata": {},
     "output_type": "execute_result"
    }
   ],
   "source": [
    "# Addition concatenates lists\n",
    "L + [13, 17, 19]"
   ]
  },
  {
   "cell_type": "code",
   "execution_count": 5,
   "metadata": {
    "collapsed": false
   },
   "outputs": [
    {
     "data": {
      "text/plain": [
       "[1, 2, 3, 4, 5, 6]"
      ]
     },
     "execution_count": 5,
     "metadata": {},
     "output_type": "execute_result"
    }
   ],
   "source": [
    "# sort() method sorts in-place\n",
    "L = [2, 5, 1, 6, 3, 4]\n",
    "L.sort()\n",
    "L"
   ]
  },
  {
   "cell_type": "code",
   "execution_count": 2,
   "metadata": {},
   "outputs": [
    {
     "data": {
      "text/plain": [
       "[2, 5, 1, 6, 3, 4]"
      ]
     },
     "execution_count": 2,
     "metadata": {},
     "output_type": "execute_result"
    }
   ],
   "source": [
    "L = [2, 5, 1, 6, 3, 4]\n",
    "print(sorted(L))\n",
    "L"
   ]
  },
  {
   "cell_type": "markdown",
   "metadata": {},
   "source": [
    "Darüber hinaus gibt es viele weitere integrierte Listenmethoden; Sie werden in der [Online-Dokumentation](https://docs.python.org/3/tutorial/datastructures.html) von Python ausführlich behandelt.\n",
    "\n",
    "Bisher haben wir Listen Listen gesehen, die Werte eines einzelnen Typs enthalten. Listen können Objekte jeden Typs oder sogar eine Mischung aus Typen enthalten. Zum Beispiel:"
   ]
  },
  {
   "cell_type": "code",
   "execution_count": 7,
   "metadata": {
    "collapsed": false
   },
   "outputs": [
    {
     "data": {
      "text/plain": [
       "['one', 'three', 'two']"
      ]
     },
     "execution_count": 7,
     "metadata": {},
     "output_type": "execute_result"
    }
   ],
   "source": [
    "L = [1, 'two', 3.14, [0, 3, 5]]\n",
    "\n",
    "L2 = [\"one\", \"two\", \"three\"]\n",
    "L2.sort()\n",
    "L2"
   ]
  },
  {
   "cell_type": "markdown",
   "metadata": {},
   "source": [
    "Diese Flexibilität ist eine Folge des dynamischen Typsystems von Python. Das Erstellen einer solchen gemischten Sequenz in einer statisch typisierten Sprache wie C kann viel mehr Kopfschmerzen bereiten! Wir sehen, dass Listen sogar andere Listen als Elemente enthalten können. Diese Typflexibilität ist ein wesentlicher Faktor dafür, dass sich Python-Code relativ schnell und einfach schreiben lässt.\n",
    "\n",
    "Bisher haben wir Manipulationen an Listen als Ganzes in Betracht gezogen; Ein weiterer wesentlicher Bestandteil ist der Zugriff auf einzelne Elemente. Dies geschieht in Python über *Indizierung* und *Slicing* , was wir als Nächstes untersuchen werden."
   ]
  },
  {
   "cell_type": "markdown",
   "metadata": {},
   "source": [
    "### Listenindizierung und Slicing \n",
    "Python bietet Zugriff auf Elemente in zusammengesetzten Typen durch *Indizierung* für einzelne Elemente und *Slicing* für mehrere Elemente. Wie wir sehen werden, werden beide durch eine Syntax in eckigen Klammern gekennzeichnet. Angenommen, wir kehren zu unserer Liste der ersten Primzahlen zurück:"
   ]
  },
  {
   "cell_type": "code",
   "execution_count": 10,
   "metadata": {
    "collapsed": false
   },
   "outputs": [],
   "source": [
    "L = [2, 3, 5, 7, 11]"
   ]
  },
  {
   "cell_type": "markdown",
   "metadata": {},
   "source": [
    "Python verwendet eine *Null-basierte* Indizierung, sodass wir mit der folgenden Syntax auf das erste und zweite Element zugreifen können:"
   ]
  },
  {
   "cell_type": "code",
   "execution_count": 8,
   "metadata": {
    "collapsed": false
   },
   "outputs": [
    {
     "data": {
      "text/plain": [
       "2"
      ]
     },
     "execution_count": 8,
     "metadata": {},
     "output_type": "execute_result"
    }
   ],
   "source": [
    "L[0]"
   ]
  },
  {
   "cell_type": "code",
   "execution_count": 9,
   "metadata": {
    "collapsed": false
   },
   "outputs": [
    {
     "data": {
      "text/plain": [
       "3"
      ]
     },
     "execution_count": 9,
     "metadata": {},
     "output_type": "execute_result"
    }
   ],
   "source": [
    "L[1]"
   ]
  },
  {
   "cell_type": "markdown",
   "metadata": {},
   "source": [
    "Auf Elemente am Ende der Liste kann mit negativen Zahlen, beginnend bei -1, zugegriffen werden:"
   ]
  },
  {
   "cell_type": "code",
   "execution_count": 10,
   "metadata": {
    "collapsed": false
   },
   "outputs": [
    {
     "data": {
      "text/plain": [
       "11"
      ]
     },
     "execution_count": 10,
     "metadata": {},
     "output_type": "execute_result"
    }
   ],
   "source": [
    "L[-1]"
   ]
  },
  {
   "cell_type": "code",
   "execution_count": 5,
   "metadata": {
    "collapsed": false
   },
   "outputs": [
    {
     "ename": "IndexError",
     "evalue": "list index out of range",
     "output_type": "error",
     "traceback": [
      "\u001b[0;31m---------------------------------------------------------------------------\u001b[0m",
      "\u001b[0;31mIndexError\u001b[0m                                Traceback (most recent call last)",
      "Cell \u001b[0;32mIn[5], line 1\u001b[0m\n\u001b[0;32m----> 1\u001b[0m \u001b[43mL\u001b[49m\u001b[43m[\u001b[49m\u001b[38;5;241;43m12\u001b[39;49m\u001b[43m]\u001b[49m\n",
      "\u001b[0;31mIndexError\u001b[0m: list index out of range"
     ]
    }
   ],
   "source": [
    "L[-2]"
   ]
  },
  {
   "cell_type": "markdown",
   "metadata": {},
   "source": [
    "Wir können uns dieses Indizierungsschema so visualisieren:\n"
   ]
  },
  {
   "cell_type": "markdown",
   "metadata": {
    "collapsed": false
   },
   "source": [
    "![List Indexing Figure](img/list-indexing.png)"
   ]
  },
  {
   "cell_type": "markdown",
   "metadata": {},
   "source": [
    "In der Abbildung werden Werte in der Liste durch große Zahlen in den Quadraten dargestellt; Listenindizes werden durch kleine Zahlen oben und unten dargestellt. In diesem Fall wird mit ``L[2]`` zurückgegeben ``5``, da dies der nächste Wert bei index ``2`` ist."
   ]
  },
  {
   "cell_type": "markdown",
   "metadata": {},
   "source": [
    "Während die *Indizierung* ein Mittel zum Abrufen eines einzelnen Werts aus der Liste ist, ist das *Slicing* ein Mittel zum Zugriff auf mehrere Werte in Unterlisten. Für das *Slicing* verwenden wir einen Doppelpunkt, um den Startpunkt (*einschließlich*) und den Endpunkt (***nicht*** *einschließlich*) der Unterliste anzugeben. Um beispielsweise die ersten drei Elemente der Liste zu erhalten, können wir schreiben:"
   ]
  },
  {
   "cell_type": "code",
   "execution_count": 11,
   "metadata": {
    "collapsed": false
   },
   "outputs": [
    {
     "data": {
      "text/plain": [
       "[2, 3, 5, 7]"
      ]
     },
     "execution_count": 11,
     "metadata": {},
     "output_type": "execute_result"
    }
   ],
   "source": [
    "L[0:3]"
   ]
  },
  {
   "cell_type": "markdown",
   "metadata": {},
   "source": [
    "Wir erkennen, wo ``0`` und ``3`` im vorherigen Diagramm liegen und wie das Slicing nur die Werte zwischen den Indizes annimmt. Wenn wir den ersten Index ``0`` weglassen, wird von ``0`` ausgegangen, so dass wir äquivalent schreiben können:"
   ]
  },
  {
   "cell_type": "code",
   "execution_count": 13,
   "metadata": {
    "collapsed": false
   },
   "outputs": [
    {
     "data": {
      "text/plain": [
       "[2, 3, 5]"
      ]
     },
     "execution_count": 13,
     "metadata": {},
     "output_type": "execute_result"
    }
   ],
   "source": [
    "L[:3]"
   ]
  },
  {
   "cell_type": "markdown",
   "metadata": {},
   "source": [
    "Wenn wir den letzten Index weglassen, wird standardmäßig die Länge der Liste verwendet. Somit kann auf die letzten drei Elemente wie folgt zugegriffen werden:"
   ]
  },
  {
   "cell_type": "code",
   "execution_count": 14,
   "metadata": {
    "collapsed": false
   },
   "outputs": [
    {
     "data": {
      "text/plain": [
       "[5, 7, 11]"
      ]
     },
     "execution_count": 14,
     "metadata": {},
     "output_type": "execute_result"
    }
   ],
   "source": [
    "L[-3:]"
   ]
  },
  {
   "cell_type": "markdown",
   "metadata": {},
   "source": [
    "Schließlich ist es möglich, eine dritte Ganzzahl anzugeben, die die Schrittgröße darstellt; Um beispielsweise jedes zweite Element der Liste auszuwählen, können wir schreiben:"
   ]
  },
  {
   "cell_type": "code",
   "execution_count": 15,
   "metadata": {
    "collapsed": false
   },
   "outputs": [
    {
     "data": {
      "text/plain": [
       "[2, 5, 11]"
      ]
     },
     "execution_count": 15,
     "metadata": {},
     "output_type": "execute_result"
    }
   ],
   "source": [
    "L[::2]  # equivalent to L[0:len(L):2]"
   ]
  },
  {
   "cell_type": "markdown",
   "metadata": {},
   "source": [
    "Eine besonders nützliche Variante davon ist die Angabe eines negativen Schritts, der die Liste umkehrt:"
   ]
  },
  {
   "cell_type": "code",
   "execution_count": 13,
   "metadata": {
    "collapsed": false
   },
   "outputs": [
    {
     "data": {
      "text/plain": [
       "[11, 5, 2]"
      ]
     },
     "execution_count": 13,
     "metadata": {},
     "output_type": "execute_result"
    }
   ],
   "source": [
    "L[::-1]"
   ]
  },
  {
   "cell_type": "markdown",
   "metadata": {},
   "source": [
    "Sowohl die Indizierung als auch das Slicing können verwendet werden, um Elemente festzulegen und auf sie zuzugreifen. Die Syntax ist wie erwartet:"
   ]
  },
  {
   "cell_type": "code",
   "execution_count": 14,
   "metadata": {
    "collapsed": false
   },
   "outputs": [
    {
     "name": "stdout",
     "output_type": "stream",
     "text": [
      "[100, 3, 5, 7, 11]\n"
     ]
    }
   ],
   "source": [
    "L[0] = 100\n",
    "print(L)"
   ]
  },
  {
   "cell_type": "code",
   "execution_count": 18,
   "metadata": {
    "collapsed": false
   },
   "outputs": [
    {
     "name": "stdout",
     "output_type": "stream",
     "text": [
      "[100, 55, 56, 7, 11]\n"
     ]
    }
   ],
   "source": [
    "L[1:3] = [55, 56]\n",
    "print(L)"
   ]
  },
  {
   "cell_type": "markdown",
   "metadata": {},
   "source": [
    "Eine sehr ähnliche Slicing-Syntax wird auch in vielen datenwissenschaftsorientierten Paketen verwendet, darunter in NumPy und Pandas.\n",
    "\n",
    "Python hat keinen Datentypen für Arrays. Listen dienen hier als leistungsfähiger Ersatz.\n",
    "\n",
    "Nachdem wir nun Python-Listen und den Zugriff auf Elemente in geordneten zusammengesetzten Typen kennengelernt haben, werfen wir einen Blick auf die anderen drei zuvor erwähnten zusammengesetzten Standarddatentypen."
   ]
  },
  {
   "cell_type": "markdown",
   "metadata": {},
   "source": [
    "## Tuple\n",
    "Tupel ähneln Listen in vielerlei Hinsicht, werden jedoch durch Klammern statt durch eckige Klammern definiert:"
   ]
  },
  {
   "cell_type": "code",
   "execution_count": 19,
   "metadata": {
    "collapsed": false
   },
   "outputs": [],
   "source": [
    "t = (1, 2, 3)"
   ]
  },
  {
   "cell_type": "markdown",
   "metadata": {},
   "source": [
    "Sie können auch ganz ohne Klammern definiert werden:"
   ]
  },
  {
   "cell_type": "code",
   "execution_count": 20,
   "metadata": {
    "collapsed": false
   },
   "outputs": [
    {
     "name": "stdout",
     "output_type": "stream",
     "text": [
      "(1, 2, 3)\n"
     ]
    }
   ],
   "source": [
    "t = 1, 2, 3\n",
    "print(t)"
   ]
  },
  {
   "cell_type": "markdown",
   "metadata": {},
   "source": [
    "Wie die zuvor besprochenen Listen haben Tupel eine Länge und einzelne Elemente können mithilfe der Indizierung in eckigen Klammern extrahiert werden:"
   ]
  },
  {
   "cell_type": "code",
   "execution_count": 21,
   "metadata": {
    "collapsed": false
   },
   "outputs": [
    {
     "data": {
      "text/plain": [
       "3"
      ]
     },
     "execution_count": 21,
     "metadata": {},
     "output_type": "execute_result"
    }
   ],
   "source": [
    "len(t)"
   ]
  },
  {
   "cell_type": "code",
   "execution_count": 22,
   "metadata": {
    "collapsed": false
   },
   "outputs": [
    {
     "data": {
      "text/plain": [
       "1"
      ]
     },
     "execution_count": 22,
     "metadata": {},
     "output_type": "execute_result"
    }
   ],
   "source": [
    "t[0]"
   ]
  },
  {
   "cell_type": "markdown",
   "metadata": {},
   "source": [
    "Das Hauptunterscheidungsmerkmal von Tupeln besteht darin, dass sie ***unveränderlich*** sind. Dies bedeutet, dass ihre Größe und ihr Inhalt nach ihrer Erstellung nicht mehr geändert werden können:"
   ]
  },
  {
   "cell_type": "code",
   "execution_count": 23,
   "metadata": {
    "collapsed": false
   },
   "outputs": [
    {
     "ename": "TypeError",
     "evalue": "'tuple' object does not support item assignment",
     "output_type": "error",
     "traceback": [
      "\u001b[0;31m---------------------------------------------------------------------------\u001b[0m",
      "\u001b[0;31mTypeError\u001b[0m                                 Traceback (most recent call last)",
      "Cell \u001b[0;32mIn[23], line 1\u001b[0m\n\u001b[0;32m----> 1\u001b[0m \u001b[43mt\u001b[49m\u001b[43m[\u001b[49m\u001b[38;5;241;43m1\u001b[39;49m\u001b[43m]\u001b[49m \u001b[38;5;241m=\u001b[39m \u001b[38;5;241m4\u001b[39m\n",
      "\u001b[0;31mTypeError\u001b[0m: 'tuple' object does not support item assignment"
     ]
    }
   ],
   "source": [
    "t[1] = 4"
   ]
  },
  {
   "cell_type": "code",
   "execution_count": null,
   "metadata": {
    "collapsed": false
   },
   "outputs": [
    {
     "ename": "AttributeError",
     "evalue": "'tuple' object has no attribute 'append'",
     "output_type": "error",
     "traceback": [
      "\u001b[0;31m---------------------------------------------------------------------------\u001b[0m",
      "\u001b[0;31mAttributeError\u001b[0m                            Traceback (most recent call last)",
      "\u001b[0;32m<ipython-input-24-e8bd1632f9dd>\u001b[0m in \u001b[0;36m<module>\u001b[0;34m()\u001b[0m\n\u001b[0;32m----> 1\u001b[0;31m \u001b[0mt\u001b[0m\u001b[0;34m.\u001b[0m\u001b[0mappend\u001b[0m\u001b[0;34m(\u001b[0m\u001b[0;36m4\u001b[0m\u001b[0;34m)\u001b[0m\u001b[0;34m\u001b[0m\u001b[0m\n\u001b[0m",
      "\u001b[0;31mAttributeError\u001b[0m: 'tuple' object has no attribute 'append'"
     ]
    }
   ],
   "source": [
    "t.append(4)"
   ]
  },
  {
   "cell_type": "markdown",
   "metadata": {},
   "source": [
    "Tupel werden häufig in Python-Programmen verwendet; Ein besonders häufiger Fall sind Funktionen, die mehrere Rückgabewerte haben. Beispielsweise gibt die ``as_integer_ratio()`` Methode von Gleitkommaobjekten einen Zähler und einen Nenner zurück; Dieser duale Rückgabewert liegt in Form eines Tupels vor:"
   ]
  },
  {
   "cell_type": "code",
   "execution_count": null,
   "metadata": {
    "collapsed": false
   },
   "outputs": [
    {
     "data": {
      "text/plain": [
       "(1, 8)"
      ]
     },
     "execution_count": 25,
     "metadata": {},
     "output_type": "execute_result"
    }
   ],
   "source": [
    "x = 0.125\n",
    "x.as_integer_ratio()"
   ]
  },
  {
   "cell_type": "markdown",
   "metadata": {},
   "source": [
    "Diese mehrfachen Rückgabewerte können wie folgt individuell zugewiesen werden:"
   ]
  },
  {
   "cell_type": "code",
   "execution_count": null,
   "metadata": {
    "collapsed": false
   },
   "outputs": [
    {
     "name": "stdout",
     "output_type": "stream",
     "text": [
      "0.125\n"
     ]
    }
   ],
   "source": [
    "numerator, denominator = x.as_integer_ratio()\n",
    "print(numerator / denominator)"
   ]
  },
  {
   "cell_type": "markdown",
   "metadata": {},
   "source": [
    "Die Indizierungs- und Slicing-Logik der Listen funktioniert neben einer Vielzahl anderer Methoden auch für Tupel. Eine vollständigere Liste finden wir in der Online- [Python documentation](https://docs.python.org/3/tutorial/datastructures.html)."
   ]
  },
  {
   "cell_type": "markdown",
   "metadata": {},
   "source": [
    "## Dictionaries\n",
    "Dictionaries sind äußerst flexible Zuordnungen von Schlüsseln zu Werten. Sie bilden die Grundlage für einen Großteil der internen Implementierung von Python. Sie können über eine durch Kommas getrennte Liste von ``key:value``-Paaren in geschweiften Klammern erstellt werden:"
   ]
  },
  {
   "cell_type": "code",
   "execution_count": null,
   "metadata": {
    "collapsed": false
   },
   "outputs": [],
   "source": [
    "numbers = {'one':1, 'two':2, 'three':3}"
   ]
  },
  {
   "cell_type": "markdown",
   "metadata": {},
   "source": [
    "Auf Elemente wird über die für Listen und Tupel verwendete Indexierungssyntax zugegriffen – außer dass der Index hier keine nullbasierte Reihenfolge, sondern ein gültiger Schlüssel im Dictionary ist:"
   ]
  },
  {
   "cell_type": "code",
   "execution_count": null,
   "metadata": {
    "collapsed": false
   },
   "outputs": [
    {
     "data": {
      "text/plain": [
       "2"
      ]
     },
     "execution_count": 28,
     "metadata": {},
     "output_type": "execute_result"
    }
   ],
   "source": [
    "# Access a value via the key\n",
    "numbers['two']"
   ]
  },
  {
   "cell_type": "markdown",
   "metadata": {},
   "source": [
    "Neue Elemente können dem Wörterbuch auch mithilfe der Indizierung hinzugefügt werden:"
   ]
  },
  {
   "cell_type": "code",
   "execution_count": null,
   "metadata": {
    "collapsed": false
   },
   "outputs": [
    {
     "name": "stdout",
     "output_type": "stream",
     "text": [
      "{'three': 3, 'ninety': 90, 'two': 2, 'one': 1}\n"
     ]
    }
   ],
   "source": [
    "# Set a new key:value pair\n",
    "numbers['ninety'] = 90\n",
    "print(numbers)"
   ]
  },
  {
   "cell_type": "markdown",
   "metadata": {},
   "source": [
    " Dictionaries erhalten keine Reihenfolge für die Eingabewerte aufrecht. Das ist beabsichtigt. Durch diese fehlende Ordnung können Dictionaries sehr effizient implementiert werden, sodass der zufällige Elementzugriff unabhängig von der Größe des Dictionary sehr schnell erfolgt (wenn Sie wissen möchten, wie das funktioniert, lesen Sie mehr über das Konzept einer Hash-Tabelle). Die [Python-Dokumentation](https://docs.python.org/3/library/stdtypes.html) enthält eine vollständige Liste der verfügbaren Methoden."
   ]
  },
  {
   "cell_type": "markdown",
   "metadata": {},
   "source": [
    "## Sets - Mengen\n",
    "Die vierte Basiskollektion ist das Set, das ungeordnete Sammlungen einzigartiger Elemente enthält. Sets werden ähnlich wie Listen und Tupel definiert, außer dass sie die geschweiften Klammern von Dictionaries verwenden:"
   ]
  },
  {
   "cell_type": "code",
   "execution_count": null,
   "metadata": {
    "collapsed": false
   },
   "outputs": [],
   "source": [
    "primes = {2, 3, 5, 7}\n",
    "odds = {1, 3, 5, 7, 9}"
   ]
  },
  {
   "cell_type": "markdown",
   "metadata": {},
   "source": [
    "Wer mit der Mathematik von Mengen vertraut ist, kennt Operationen wie Vereinigung, Schnittmenge, Differenz, symmetrische Differenz und andere. In Pythons Mengen sind alle diese Operationen über Methoden oder Operatoren integriert. Für jede Operation sehen wir hier die beiden äquivalenten Methoden:"
   ]
  },
  {
   "cell_type": "markdown",
   "metadata": {},
   "source": [
    "### Vereinigung"
   ]
  },
  {
   "cell_type": "code",
   "execution_count": null,
   "metadata": {
    "collapsed": false
   },
   "outputs": [
    {
     "data": {
      "text/plain": [
       "{1, 2, 3, 5, 7, 9}"
      ]
     },
     "execution_count": 31,
     "metadata": {},
     "output_type": "execute_result"
    }
   ],
   "source": [
    "# union: items appearing in either\n",
    "primes | odds      # with an operator\n",
    "primes.union(odds) # equivalently with a method"
   ]
  },
  {
   "cell_type": "markdown",
   "metadata": {},
   "source": [
    "### Schnittmenge"
   ]
  },
  {
   "cell_type": "code",
   "execution_count": null,
   "metadata": {
    "collapsed": false
   },
   "outputs": [
    {
     "data": {
      "text/plain": [
       "{3, 5, 7}"
      ]
     },
     "execution_count": 32,
     "metadata": {},
     "output_type": "execute_result"
    }
   ],
   "source": [
    "# intersection: items appearing in both\n",
    "primes & odds             # with an operator\n",
    "primes.intersection(odds) # equivalently with a method"
   ]
  },
  {
   "cell_type": "code",
   "execution_count": null,
   "metadata": {
    "collapsed": false
   },
   "outputs": [
    {
     "data": {
      "text/plain": [
       "{2}"
      ]
     },
     "execution_count": 33,
     "metadata": {},
     "output_type": "execute_result"
    }
   ],
   "source": [
    "# difference: items in primes but not in odds\n",
    "primes - odds           # with an operator\n",
    "primes.difference(odds) # equivalently with a method"
   ]
  },
  {
   "cell_type": "markdown",
   "metadata": {},
   "source": [
    "### Symmetrische Differenz"
   ]
  },
  {
   "cell_type": "code",
   "execution_count": null,
   "metadata": {
    "collapsed": false
   },
   "outputs": [
    {
     "data": {
      "text/plain": [
       "{1, 2, 9}"
      ]
     },
     "execution_count": 34,
     "metadata": {},
     "output_type": "execute_result"
    }
   ],
   "source": [
    "# symmetric difference: items appearing in only one set\n",
    "primes ^ odds                     # with an operator\n",
    "primes.symmetric_difference(odds) # equivalently with a method"
   ]
  },
  {
   "cell_type": "markdown",
   "metadata": {},
   "source": [
    "Es stehen viele weitere festgelegte Methoden und Operationen zur Verfügung.\n",
    "Eine vollständige Referenz finden wir in der Online-Dokumentation von [Python](https://docs.python.org/3/library/stdtypes.html)."
   ]
  },
  {
   "cell_type": "markdown",
   "metadata": {},
   "source": [
    "## Spezialisiertere Datenstrukturen\n",
    "\n",
    "Python enthält mehrere andere Datenstrukturen, die für uns nützlich sein könnten. Diese sind in der Regel im integrierten ``collections`` Modul zu finden. Das ``collections`` Modul ist in der [Online-Dokumentation von Python](https://docs.python.org/3/library/collections.html) vollständig dokumentiert. \n",
    "\n",
    "Folgendes Datenstrukturen sind besonders nützlich:\n",
    "\n",
    "- ``collections.namedtuple``: Wie ein Tupel, aber jeder Wert hat einen Namen\n",
    "- ``collections.defaultdict``: Wie ein Wörterbuch, aber nicht spezifizierte Schlüssel haben einen vom Benutzer angegebenen Standardwert\n",
    "- ``collections.OrderedDict``: Wie ein Wörterbuch, aber die Reihenfolge der Schlüssel bleibt erhalten\n",
    "\n",
    "Sobald man die standardmäßig integrierten Collection-Typen kennengelernt hat, ist die Verwendung dieser erweiterten Funktionen sehr intuitiv. Es ist empfohlen, sich über [deren Verwendung zu informieren](https://docs.python.org/3/library/collections.html)."
   ]
  },
  {
   "cell_type": "markdown",
   "metadata": {},
   "source": [
    "---\n",
    "**SELBST AUSPROBIEREN!**\n",
    "\n",
    "**AUFGABE 6-1. Glossar:**\n",
    "Ein Python-Wörterbuch kann verwendet werden, um ein echtes Wörterbuch zu modellieren. Um Verwirrung zu vermeiden, nennen wir es jedoch ein **Glossar**.\n",
    "\n",
    "- Denke an fünf Begriffe aus der Python-Programmierung, die du bisher gelernt hast. Verwende diese Wörter als Schlüssel in deinem Glossar und speichere ihre Bedeutungen als Werte.\n",
    "- Gib jedes Wort und seine Bedeutung in einer ordentlich formatierten Ausgabe aus. Du könntest das Wort gefolgt von einem Doppelpunkt und dann seiner Bedeutung ausgeben, oder das Wort auf einer Zeile drucken und dann seine Bedeutung auf einer zweiten Zeile eingerückt ausgeben. Verwende das Zeichen für einen Zeilenumbruch (`(\\n`), um eine leere Zeile zwischen jedem Wort-Bedeutungs-Paar in deiner Ausgabe einzufügen."
   ]
  },
  {
   "cell_type": "code",
   "execution_count": 15,
   "metadata": {},
   "outputs": [
    {
     "name": "stdout",
     "output_type": "stream",
     "text": [
      "int: Ganze Zahl\n",
      "float: Gleitkommazahl\n",
      "sort(): Methode, die 'in-place' sortiert\n",
      "tuple: unveränderliche geordnete 'Liste'\n",
      "set: ungeordnete Sammlung einzigartiger Werte\n",
      "int: \n",
      "Ganze Zahl\n",
      "\n",
      "float: \n",
      "Gleitkommazahl\n",
      "\n",
      "sort(): \n",
      "Methode, die 'in-place' sortiert\n",
      "\n",
      "tuple: \n",
      "unveränderliche geordnete 'Liste'\n",
      "\n",
      "set: \n",
      "ungeordnete Sammlung einzigartiger Werte\n",
      "\n",
      "{'int': 'Ganze Zahl', 'float': 'Gleitkommazahl', 'sort()': \"Methode, die 'in-place' sortiert\", 'tuple': \"unveränderliche geordnete 'Liste'\", 'set': 'ungeordnete Sammlung einzigartiger Werte'}\n"
     ]
    }
   ],
   "source": [
    "# AUFGABE 6.1\n",
    "# DEIN CODE HIER:\n",
    "\n",
    "glossary = {\"int\": \"Ganze Zahl\", \n",
    "            \"float\": \"Gleitkommazahl\", \n",
    "            \"sort()\": \"Methode, die 'in-place' sortiert\",\n",
    "            \"tuple\": \"unveränderliche geordnete 'Liste'\",\n",
    "            \"set\": \"ungeordnete Sammlung einzigartiger Werte\"}\n",
    "\n",
    "for key in glossary:    \n",
    "    print(f\"{key}: {glossary[key]}\")\n",
    "    \n",
    "for key in glossary:    \n",
    "    print(f\"{key}: \\n{glossary[key]}\\n\")\n",
    "    \n",
    "print(glossary)"
   ]
  },
  {
   "cell_type": "code",
   "execution_count": null,
   "metadata": {},
   "outputs": [],
   "source": []
  }
 ],
 "metadata": {
  "anaconda-cloud": {},
  "kernelspec": {
   "display_name": "Python 3",
   "language": "python",
   "name": "python3"
  },
  "language_info": {
   "codemirror_mode": {
    "name": "ipython",
    "version": 3
   },
   "file_extension": ".py",
   "mimetype": "text/x-python",
   "name": "python",
   "nbconvert_exporter": "python",
   "pygments_lexer": "ipython3",
   "version": "3.12.3"
  }
 },
 "nbformat": 4,
 "nbformat_minor": 0
}
