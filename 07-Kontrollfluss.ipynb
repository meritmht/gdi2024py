{
 "cells": [
  {
   "cell_type": "markdown",
   "metadata": {},
   "source": [
    "<!--BOOK_INFORMATION-->\n",
    "<img align=\"left\" style=\"padding-right:10px;\" src=\"img/cover-small.jpg\" />\n",
    "\n",
    "Dieses Notizbuch enthält einen angepassten Auszug aus der [Whirlwind Tour of Python](http://www.oreilly.com/programming/free/a-whirlwind-tour-of-python.csp) von Jake VanderPlas; Der Inhalt ist auf [GitHub](https://github.com/jakevdp/WhirlwindTourOfPython) verfügbar.\n",
    "\n",
    "Text und Code werden unter der [CC0](https://github.com/jakevdp/WhirlwindTourOfPython/blob/master/LICENSE)- Lizenz veröffentlicht; Das Begleitprojekt, das [Python Data Science Handbook](https://github.com/jakevdp/PythonDataScienceHandbook) wird sehr empfohlen.\n"
   ]
  },
  {
   "cell_type": "markdown",
   "metadata": {},
   "source": [
    "# Kontrollfluss"
   ]
  },
  {
   "cell_type": "markdown",
   "metadata": {},
   "source": [
    "Der Kontrollfluss ist oft der entscheidende Punkt beim Programmieren. Ohne Kontrollstrukturen ist ein Programm lediglich eine Liste von Anweisungen, die nacheinander ausgeführt werden. Mit Kontrollfluss können Sie bestimmte Codeblöcke bedingt und/oder wiederholt ausführen: Diese Grundbausteine ​​können kombiniert werden, um komplexere Programme zu erstellen!\n",
    "\n",
    "Wir werden uns nun *bedingte Anweisungen* (einschließlich \"``if``\", \"``elif``\" und \"``else``\") und *Schleifen* (einschließlich \"``for``\" and \"``while``\" sowie die dazugehörigen Anweisungen \"``break``\", \"``continue``\" und \"``pass``\") ansehen."
   ]
  },
  {
   "cell_type": "markdown",
   "metadata": {},
   "source": [
    "## Bedingte Anweisungen: ``if``-``elif``-``else``:\n",
    "Bedingte Anweisungen, oft auch als *Wenn-Dann-*-Anweisungen bezeichnet , ermöglichen es uns, bestimmte Codeteile abhängig von einer booleschen Bedingung auszuführen. Ein einfaches Beispiel für eine bedingte Python-Anweisung ist folgendes:"
   ]
  },
  {
   "cell_type": "code",
   "execution_count": 2,
   "metadata": {
    "collapsed": false
   },
   "outputs": [
    {
     "name": "stdout",
     "output_type": "stream",
     "text": [
      "-15 is negative\n"
     ]
    }
   ],
   "source": [
    "x = -15\n",
    "\n",
    "if x == 0:\n",
    "    print(x, \"is zero\")\n",
    "elif x > 0:\n",
    "    print(x, \"is positive\")\n",
    "elif x < 0:\n",
    "    print(x, \"is negative\")\n",
    "else:\n",
    "    print(x, \"is unlike anything I've ever seen...\")"
   ]
  },
  {
   "cell_type": "markdown",
   "metadata": {},
   "source": [
    "Besondere Beachtung verdient hierbei die Verwendung von Doppelpunkten (``:``) und Leerzeichen zur Kennzeichnung separater Codeblöcke.\n",
    "\n",
    "Python übernimmt das ``if`` und ``else``, das auch in anderen Sprachen verwendet wird. Sein einzigartigeres Schlüsselwort ist ``elif``, eine Abkürzung von „else if“. In Bedingungen sind ``elif`` und ``else`` Blöcke optional. Darüber hinaus können wir optional so wenige oder so viele ``elif``-Blöcke einfügen, wie wir möchten."
   ]
  },
  {
   "cell_type": "markdown",
   "metadata": {},
   "source": [
    "## ``for`` Schleifen\n",
    "Schleifen sind auch in Python eine Möglichkeit, eine Codeanweisung wiederholt auszuführen. Wenn wir beispielsweise jedes Element in einer Liste ausgeben möchten, können wir eine ``for``-Schleife verwenden:"
   ]
  },
  {
   "cell_type": "code",
   "execution_count": 2,
   "metadata": {
    "collapsed": false
   },
   "outputs": [
    {
     "name": "stdout",
     "output_type": "stream",
     "text": [
      "2 3 5 7 "
     ]
    }
   ],
   "source": [
    "for N in [2, 3, 5, 7]:\n",
    "    print(N, end=' ') # print all on same line"
   ]
  },
  {
   "cell_type": "markdown",
   "metadata": {},
   "source": [
    "Beachten Sie die Einfachheit der ``for``-Schleife: Wir geben die Variable an, die wir verwenden möchten, die Sequenz, die wir durchlaufen möchten, und verwenden den ``in`` Operator, um sie auf intuitive und sehr gut lesbare Weise miteinander zu verknüpfen. Das Objekt rechts vom „``in``“-Operator kann ein beliebiger Python-*Iterator* sein. Ein *Iterator* kann als verallgemeinerte Sequenz betrachtet werden. Wir werden Iteratoren noch genauer kennenlernen.\n",
    "\n",
    "Einer der am häufigsten verwendeten Iteratoren in Python ist beispielsweise das ``range``-Objekt, das eine Folge von Zahlen generiert:"
   ]
  },
  {
   "cell_type": "code",
   "execution_count": 3,
   "metadata": {
    "collapsed": false
   },
   "outputs": [
    {
     "name": "stdout",
     "output_type": "stream",
     "text": [
      "0 1 2 3 4 5 6 7 8 9 "
     ]
    }
   ],
   "source": [
    "for i in range(10):\n",
    "    print(i, end=' ')"
   ]
  },
  {
   "cell_type": "markdown",
   "metadata": {},
   "source": [
    "Beachten Sie, dass der Bereich standardmäßig bei ``0`` beginnt und dass die obere Grenze des Bereichs vereinbarungsgemäß nicht in der Ausgabe enthalten ist. ``range``-Objekte können auch komplexer definiert werden:"
   ]
  },
  {
   "cell_type": "code",
   "execution_count": 4,
   "metadata": {
    "collapsed": false
   },
   "outputs": [
    {
     "data": {
      "text/plain": [
       "[5, 6, 7, 8, 9]"
      ]
     },
     "execution_count": 4,
     "metadata": {},
     "output_type": "execute_result"
    }
   ],
   "source": [
    "# range from 5 to 10\n",
    "list(range(5, 10))"
   ]
  },
  {
   "cell_type": "code",
   "execution_count": 3,
   "metadata": {
    "collapsed": false
   },
   "outputs": [
    {
     "data": {
      "text/plain": [
       "[0, 3, 6, 9]"
      ]
     },
     "execution_count": 3,
     "metadata": {},
     "output_type": "execute_result"
    }
   ],
   "source": [
    "# range from 0 to 10 by 2\n",
    "list(range(0, 10, 2))"
   ]
  },
  {
   "cell_type": "markdown",
   "metadata": {},
   "source": [
    "Wir können erkennen, dass die Bedeutung von ``range``-Argumenten der Slicing-Syntax, die wir in Listen behandelt haben, sehr ähnlich ist.\n",
    "\n",
    "Wir müssen beachten, dass das Verhalten von ``range()`` einer der Unterschiede zwischen Python 2 und Python 3 ist: In Python 2 wird mit ``range()`` eine Liste erstellt, während in Python 3 ``range()`` ein iterierbares Objekt erstellt wird."
   ]
  },
  {
   "cell_type": "markdown",
   "metadata": {},
   "source": [
    "## ``while`` Schleifen\n",
    "Die andere Art von Schleife in Python ist eine ``while``-Schleife, die so lange iteriert, so lang eine bestimmte Bedingung erfüllt ist:"
   ]
  },
  {
   "cell_type": "code",
   "execution_count": 6,
   "metadata": {
    "collapsed": false
   },
   "outputs": [
    {
     "name": "stdout",
     "output_type": "stream",
     "text": [
      "0 1 2 3 4 5 6 7 8 9 "
     ]
    }
   ],
   "source": [
    "i = 0\n",
    "while i < 10:\n",
    "    print(i, end=' ')\n",
    "    i += 1"
   ]
  },
  {
   "cell_type": "markdown",
   "metadata": {},
   "source": [
    "Das Argument der ``while``-Schleife wird als boolesche Anweisung ausgewertet und die Schleife wird ausgeführt, bis die Anweisung ``False`` ergibt."
   ]
  },
  {
   "cell_type": "markdown",
   "metadata": {},
   "source": [
    "## ``break`` und ``continue``: Feinabstimmung für Schleifen\n",
    "Es gibt zwei nützliche Anweisungen, die innerhalb von Schleifen verwendet werden können, um deren Ausführung zu optimieren:\n",
    "\n",
    "- Die ``break``-Anweisung bricht vollständig aus der Schleife aus\n",
    "- Die ``continue``-Anweisung überspringt den Rest der aktuellen Schleife und geht zur nächsten Iteration über.\n",
    "Diese können sowohl in ``for`` als auch in ``while``-Schleifen verwendet werden.\n",
    "\n",
    "Im folgenden Beispiel wird ``continue`` zur Ausgabe einer Folge ungerader Zahlen verwendet. In diesem Fall könnte das Ergebnis genauso gut mit einer ``if-else``-Aussage erreicht werden. Die ``continue``-Aussage kann eine bequemere Möglichkeit sein, die Idee auszudrücken, die Sie im Sinn haben:"
   ]
  },
  {
   "cell_type": "code",
   "execution_count": 4,
   "metadata": {
    "collapsed": false
   },
   "outputs": [
    {
     "name": "stdout",
     "output_type": "stream",
     "text": [
      "1 3 5 7 9 11 13 15 17 19 "
     ]
    }
   ],
   "source": [
    "for n in range(20):\n",
    "    # if the remainder of n / 2 is 0, skip the rest of the loop\n",
    "    if n % 2 == 0:\n",
    "        continue\n",
    "    print(n, end=' ')"
   ]
  },
  {
   "cell_type": "markdown",
   "metadata": {},
   "source": [
    "Hier ist ein Beispiel für eine ``break``-Anweisung, die für eine weniger triviale Aufgabe verwendet wird. Diese Schleife füllt eine Liste mit allen Fibonacci-Zahlen bis zu einem bestimmten Wert:"
   ]
  },
  {
   "cell_type": "code",
   "execution_count": 5,
   "metadata": {
    "collapsed": false
   },
   "outputs": [
    {
     "name": "stdout",
     "output_type": "stream",
     "text": [
      "[1, 1, 2, 3, 5, 8, 13, 21, 34, 55, 89]\n"
     ]
    }
   ],
   "source": [
    "a, b = 0, 1\n",
    "amax = 100\n",
    "L = []\n",
    "\n",
    "while True:\n",
    "    (a, b) = (b, a + b)\n",
    "    if a > amax:\n",
    "        break\n",
    "    L.append(a)\n",
    "\n",
    "print(L)"
   ]
  },
  {
   "cell_type": "markdown",
   "metadata": {},
   "source": [
    "Im Beispiel wird eine ``while True``-Schleife verwendet, die in eine Endlosschleife enden würde, hätten wir keine ``break``-Anweisung!"
   ]
  },
  {
   "cell_type": "markdown",
   "metadata": {},
   "source": [
    "## Schleifen mit einem ``else``-Block\n",
    "Ein in Python verfügbares, aber selten verwendetes Muster ist die ``else``-Anweisung als Teil einer ``for`` oder- ``while``-Schleife. Wir haben den ``else``-Block zuvor besprochen: Er wird ausgeführt, wenn alle ``if`` und- ``elif``-Anweisungen mit ``False`` ausgewertet werden. \n",
    "\n",
    "Das Schleifen-``else`` ist vielleicht eine der Anweisungen mit dem verwirrenderen Namen in Python. Es hilft, es sich lieber als eine ``nobreak``-Anweisung vorzustellen, d.h. der `else`-Block wird nur dann ausgeführt, wenn die Schleife auf natürliche Weise endet, ohne auf eine ``break``-Anweisung zu stoßen.\n"
   ]
  },
  {
   "cell_type": "code",
   "execution_count": 9,
   "metadata": {
    "collapsed": false
   },
   "outputs": [
    {
     "name": "stdout",
     "output_type": "stream",
     "text": [
      "[2, 3, 5, 7, 11, 13, 17, 19, 23, 29]\n"
     ]
    }
   ],
   "source": [
    "L = []\n",
    "nmax = 30\n",
    "\n",
    "for n in range(2, nmax):\n",
    "    for factor in L:\n",
    "        if n % factor == 0:\n",
    "            break\n",
    "    else: # no break\n",
    "        L.append(n)\n",
    "print(L)"
   ]
  },
  {
   "cell_type": "markdown",
   "metadata": {},
   "source": [
    "Die ``else``-Anweisung wird hier nur ausgeführt, wenn keiner der Faktoren die angegebene Zahl teilt. Die ``else``-Anweisung funktioniert ähnlich mit der ``while``-Schleife."
   ]
  },
  {
   "cell_type": "markdown",
   "metadata": {},
   "source": [
    "---\n",
    "**SELBST AUSPROBIEREN!**\n",
    "\n",
    "**AUFGABE 7-1. Lieblingsfrucht:**\n",
    "\n",
    "Erstelle eine Liste deiner Lieblingsfrüchte und schreibe dann eine Reihe von unabhängigen `if`-Anweisungen, die überprüfen, ob bestimmte Früchte in deiner Liste vorhanden sind.\n",
    "\n",
    "- Erstelle eine Liste deiner drei Lieblingsfrüchte und nenne sie `favorite_fruits`.\n",
    "- Schreibe fünf `if`-Anweisungen. Jede davon sollte überprüfen, ob eine bestimmte Art von Frucht in deiner Liste ist. Wenn die Frucht in deiner Liste ist, sollte der `if`-Block eine Aussage ausgeben (`print()`), wie zum Beispiel 'You really like bananas!'`\n",
    "\n"
   ]
  },
  {
   "cell_type": "code",
   "execution_count": null,
   "metadata": {},
   "outputs": [],
   "source": [
    "# # AUFGABE 7.1\n",
    "# DEIN CODE HIER:"
   ]
  },
  {
   "cell_type": "markdown",
   "metadata": {},
   "source": [
    "**AUFGABE 7-2. Hallo Admin:**\n",
    "\n",
    "Erstelle eine Liste mit fünf oder mehr Benutzernamen, einschließlich des Namens `'admin'`. Stelle dir vor, du schreibst Code, der jedem Benutzer nach dem Einloggen auf eine Webseite eine Begrüßung ausgibt. Durchlaufe die Liste und begrüße jeden Benutzer.\n",
    "\n",
    "- Wenn der Benutzername `'admin'` ist, gib eine besondere Begrüßung aus, wie zum Beispiel: `'Hallo Admin, möchtest du einen Statusbericht sehen?'`\n",
    "- Andernfalls gib eine allgemeine Begrüßung aus, wie zum Beispiel: `'Hallo Alice, danke, dass du dich wieder eingeloggt hast.'`"
   ]
  },
  {
   "cell_type": "code",
   "execution_count": null,
   "metadata": {},
   "outputs": [],
   "source": [
    "# AUFGABE 7.2\n",
    "# DEIN CODE HIER:"
   ]
  },
  {
   "cell_type": "markdown",
   "metadata": {},
   "source": [
    "**AUFGABE 7-3. Keine Benutzer:**\n",
    "\n",
    "Füge eine `if`-Prüfung hinzu, um sicherzustellen, dass die Liste der Benutzer nicht leer ist.\n",
    "\n",
    "- Wenn die Liste leer ist, gib die Nachricht `'Wir müssen einige Benutzer gewinnen!'` aus.\n",
    "- Entferne alle Benutzernamen aus deiner Liste und stelle sicher, dass die korrekte Nachricht ausgegeben wird."
   ]
  },
  {
   "cell_type": "code",
   "execution_count": null,
   "metadata": {},
   "outputs": [],
   "source": [
    "# AUFGABE 7.3\n",
    "# DEIN CODE HIER:"
   ]
  }
 ],
 "metadata": {
  "anaconda-cloud": {},
  "kernelspec": {
   "display_name": "Python 3",
   "language": "python",
   "name": "python3"
  },
  "language_info": {
   "codemirror_mode": {
    "name": "ipython",
    "version": 3
   },
   "file_extension": ".py",
   "mimetype": "text/x-python",
   "name": "python",
   "nbconvert_exporter": "python",
   "pygments_lexer": "ipython3",
   "version": "3.12.3"
  }
 },
 "nbformat": 4,
 "nbformat_minor": 0
}
