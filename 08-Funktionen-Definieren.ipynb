{
 "cells": [
  {
   "cell_type": "markdown",
   "metadata": {},
   "source": [
    "<!--BOOK_INFORMATION-->\n",
    "<img align=\"left\" style=\"padding-right:10px;\" src=\"img/cover-small.jpg\" />\n",
    "\n",
    "Dieses Notizbuch enthält einen angepassten Auszug aus der [Whirlwind Tour of Python](http://www.oreilly.com/programming/free/a-whirlwind-tour-of-python.csp) von Jake VanderPlas; Der Inhalt ist auf [GitHub](https://github.com/jakevdp/WhirlwindTourOfPython) verfügbar.\n",
    "\n",
    "Text und Code werden unter der [CC0](https://github.com/jakevdp/WhirlwindTourOfPython/blob/master/LICENSE)- Lizenz veröffentlicht; Das Begleitprojekt, das [Python Data Science Handbook](https://github.com/jakevdp/PythonDataScienceHandbook) wird sehr empfohlen.\n"
   ]
  },
  {
   "cell_type": "markdown",
   "metadata": {},
   "source": [
    "# Funktionen definieren und verwenden"
   ]
  },
  {
   "cell_type": "markdown",
   "metadata": {},
   "source": [
    "Bisher waren unsere Skripte einfache Codeblöcke zur einmaligen Verwendung. Eine Möglichkeit, unseren Python-Code zu organisieren und ihn lesbarer und wiederverwendbar zu machen, besteht darin, nützliche Teile in wiederverwendbare *Funktionen* auszugliedern. Wir erkunden zwei Möglichkeiten zum Erstellen von *Funktionen*: die ``def``- Anweisung, die für jede Art von Funktion nützlich ist, und die ``lambda``-Anweisung, die zum Erstellen kurzer anonymer Funktionen nützlich ist."
   ]
  },
  {
   "cell_type": "markdown",
   "metadata": {},
   "source": [
    "## Verwenden von Funktionen\n",
    "\n",
    "Funktionen sind Gruppierungen von Code, die einen Namen haben und mithilfe von Klammern aufgerufen werden können. Wir haben Funktionen schon einmal gesehen. In Python 3 gibt es beispielsweise eine ``print``-Funktion:"
   ]
  },
  {
   "cell_type": "code",
   "execution_count": 1,
   "metadata": {
    "collapsed": false
   },
   "outputs": [
    {
     "name": "stdout",
     "output_type": "stream",
     "text": [
      "abc\n"
     ]
    }
   ],
   "source": [
    "print('abc')"
   ]
  },
  {
   "cell_type": "markdown",
   "metadata": {},
   "source": [
    "Hier ist ``print`` der Funktionsname und das ``'abc'`` das übergebene Argument der Funktion .\n",
    "\n",
    "Zusätzlich zu den *Argumenten* gibt es *Schlüsselwortargumente* (keyword arguments), die über ihren Namen angegeben werden. Ein verfügbares Schlüsselwortargument für die ``print()`` Funktion (in Python 3) ist ``sep``, das angibt, welches Zeichen oder welche Zeichen zum Trennen mehrerer Elemente verwendet werden sollen:"
   ]
  },
  {
   "cell_type": "code",
   "execution_count": 2,
   "metadata": {
    "collapsed": false
   },
   "outputs": [
    {
     "name": "stdout",
     "output_type": "stream",
     "text": [
      "1 2 3\n"
     ]
    }
   ],
   "source": [
    "print(1, 2, 3)"
   ]
  },
  {
   "cell_type": "code",
   "execution_count": 3,
   "metadata": {
    "collapsed": false
   },
   "outputs": [
    {
     "name": "stdout",
     "output_type": "stream",
     "text": [
      "1--2--3\n"
     ]
    }
   ],
   "source": [
    "print(1, 2, 3, sep='--')"
   ]
  },
  {
   "cell_type": "markdown",
   "metadata": {},
   "source": [
    "Wenn Nicht-Schlüsselwortargumente zusammen mit Schlüsselwortargumenten verwendet werden, müssen die Schlüsselwortargumente am Ende stehen."
   ]
  },
  {
   "cell_type": "markdown",
   "metadata": {},
   "source": [
    "## Funktionen definieren\n",
    "Funktionen werden noch nützlicher, wenn wir beginnen, unsere eigenen Funktionen zu definieren und sie so zu organisieren, dass sie an mehreren Orten verwendet werden können. In Python werden Funktionen mit der ``def``-Anweisung definiert. Beispielsweise können wir eine Version unseres Fibonacci-Sequenz-Codes aus dem vorherigen Abschnitt wie folgt kapseln:"
   ]
  },
  {
   "cell_type": "code",
   "execution_count": 2,
   "metadata": {
    "collapsed": false
   },
   "outputs": [],
   "source": [
    "def fibonacci(N):\n",
    "    L = []\n",
    "    a, b = 0, 1\n",
    "    while len(L) < N:\n",
    "        a, b = b, a + b\n",
    "        L.append(a)\n",
    "    return L"
   ]
  },
  {
   "cell_type": "markdown",
   "metadata": {},
   "source": [
    "Jetzt haben wir eine Funktion mit dem Namen ``fibonacci``, die ein einzelnes Argument akzeptiert ``N``, etwas mit diesem Argument macht und einen Wert zurückgibt – in diesem Fall eine Liste der ersten ``N`` Fibonacci-Zahlen:"
   ]
  },
  {
   "cell_type": "code",
   "execution_count": 3,
   "metadata": {
    "collapsed": false
   },
   "outputs": [
    {
     "data": {
      "text/plain": [
       "[1, 1, 2, 3, 5, 8, 13, 21, 34, 55]"
      ]
     },
     "execution_count": 3,
     "metadata": {},
     "output_type": "execute_result"
    }
   ],
   "source": [
    "fibonacci(10)"
   ]
  },
  {
   "cell_type": "markdown",
   "metadata": {},
   "source": [
    "Wenn Sie mit stark typisierten Sprachen wie C oder Java vertraut sind, werden Sie sofort feststellen, dass den Parametern oder Rückgabewerten keine Typinformationen zugeordnet sind. Python-Funktionen können jedes einfache oder zusammengesetzte Python-Objekt zurückgeben, was bedeutet, dass Konstrukte, die in anderen Sprachen möglicherweise schwierig sind, in Python unkompliziert implementiert werden können.\n",
    "\n",
    "Beispielsweise werden mehrere Rückgabewerte einfach in ein Tupel gepackt, was durch Kommas gekennzeichnet wird:"
   ]
  },
  {
   "cell_type": "code",
   "execution_count": 4,
   "metadata": {
    "collapsed": false
   },
   "outputs": [
    {
     "name": "stdout",
     "output_type": "stream",
     "text": [
      "First: 'William' / Middle: 'Henry' / Last: 'Gates'\n",
      "First: 'Steven' / Middle: 'Paul' / Last: 'Jobs'\n",
      "First: 'Linus' / Middle: 'Benedict' / Last: 'Torvalds'\n",
      "First: 'Tim' / Middle: '' / Last: 'Berners-Lee'\n",
      "First: 'A' / Middle: 'B C' / Last: 'D'\n"
     ]
    }
   ],
   "source": [
    "def split_name(full_name):\n",
    "    # Zerlegt den vollen Namen in Wörter\n",
    "    name_parts = full_name.split()\n",
    "\n",
    "    # Extrahiere den ersten Namen\n",
    "    first_name = name_parts[0]\n",
    "\n",
    "    # Extrahiere den letzten Namen\n",
    "    last_name = name_parts[-1]\n",
    "\n",
    "    # Überprüfe, ob ein zweiter Vorname vorhanden ist\n",
    "    middle_name = \"\"\n",
    "    if len(name_parts) > 2:\n",
    "        # Wenn mehr als zwei Wörter vorhanden sind, fasse den mittleren Teil als zweiten Vornamen zusammen\n",
    "        middle_name = \" \".join(name_parts[1:-1])\n",
    "\n",
    "    return first_name, middle_name, last_name\n",
    "\n",
    "# Beispielaufruf der Funktion\n",
    "full_names = [\"William Henry Gates\", \"Steven Paul Jobs\", \"Linus Benedict Torvalds\", \"Tim Berners-Lee\", \"A B C D\"]\n",
    "for name in full_names:\n",
    "    first, middle, last = split_name(name)\n",
    "    print(f\"First: '{first}' / Middle: '{middle}' / Last: '{last}'\")\n",
    "\n"
   ]
  },
  {
   "cell_type": "markdown",
   "metadata": {},
   "source": [
    "## Standardwerte für Argumente\n",
    "\n",
    "Beim Definieren einer Funktion gibt es oft bestimmte Werte, welche die Funktion *die meiste Zeit* verwenden soll, aber wir möchten dem Benutzer auch etwas Flexibilität geben. In diesem Fall können wir Standardwerte für Argumente verwenden. Betrachten wir die ``fibonacci``-Funktion von zuvor. Was wäre, wenn wir möchten, dass der Benutzer mit den Startwerten spielen kann? Das könnten wir wie folgt machen:"
   ]
  },
  {
   "cell_type": "code",
   "execution_count": 5,
   "metadata": {
    "collapsed": false
   },
   "outputs": [],
   "source": [
    "def fibonacci(N, a=0, b=1):\n",
    "    L = []\n",
    "    while len(L) < N:\n",
    "        a, b = b, a + b\n",
    "        L.append(a)\n",
    "    return L"
   ]
  },
  {
   "cell_type": "markdown",
   "metadata": {},
   "source": [
    "Mit einem einzigen Argument ist das Ergebnis des Funktionsaufrufs identisch mit zuvor:"
   ]
  },
  {
   "cell_type": "code",
   "execution_count": 8,
   "metadata": {
    "collapsed": false
   },
   "outputs": [
    {
     "data": {
      "text/plain": [
       "[1, 1, 2, 3, 5, 8, 13, 21, 34, 55]"
      ]
     },
     "execution_count": 8,
     "metadata": {},
     "output_type": "execute_result"
    }
   ],
   "source": [
    "fibonacci(10)"
   ]
  },
  {
   "cell_type": "markdown",
   "metadata": {},
   "source": [
    "Aber jetzt können wir die Funktion nutzen, um neue Dinge zu erkunden, beispielsweise die Wirkung neuer Startwerte:"
   ]
  },
  {
   "cell_type": "code",
   "execution_count": 6,
   "metadata": {
    "collapsed": false
   },
   "outputs": [
    {
     "data": {
      "text/plain": [
       "[2, 2, 4, 6, 10, 16, 26, 42, 68, 110]"
      ]
     },
     "execution_count": 6,
     "metadata": {},
     "output_type": "execute_result"
    }
   ],
   "source": [
    "fibonacci(10, 0, 2)"
   ]
  },
  {
   "cell_type": "markdown",
   "metadata": {},
   "source": [
    "Die Werte können auf Wunsch auch namentlich angegeben werden, wobei die Reihenfolge der benannten Werte dann keine Rolle spielt:"
   ]
  },
  {
   "cell_type": "code",
   "execution_count": 7,
   "metadata": {
    "collapsed": false
   },
   "outputs": [
    {
     "data": {
      "text/plain": [
       "[3, 4, 7, 11, 18, 29, 47, 76, 123, 199]"
      ]
     },
     "execution_count": 7,
     "metadata": {},
     "output_type": "execute_result"
    }
   ],
   "source": [
    "fibonacci(10, b=3, a=1)"
   ]
  },
  {
   "cell_type": "markdown",
   "metadata": {},
   "source": [
    "## ``*args`` and ``**kwargs``: Flexible Argumente\n",
    "Manchmal wollen wir vielleicht eine Funktion schreiben, bei der wir zunächst nicht wissen, wie viele Argumente der Benutzer übergeben wird. In diesem Fall können wir die spezielle Form ``*args`` und ``**kwargs`` verwenden um alle übergebenen Argumente abzufangen. Hier ist ein Beispiel:"
   ]
  },
  {
   "cell_type": "code",
   "execution_count": 11,
   "metadata": {
    "collapsed": false
   },
   "outputs": [],
   "source": [
    "def catch_all(*args, **kwargs):\n",
    "    print(\"args =\", args)\n",
    "    print(\"kwargs = \", kwargs)"
   ]
  },
  {
   "cell_type": "code",
   "execution_count": 12,
   "metadata": {
    "collapsed": false
   },
   "outputs": [
    {
     "name": "stdout",
     "output_type": "stream",
     "text": [
      "args = (1, 2, 3)\n",
      "kwargs =  {'a': 4, 'b': 5}\n"
     ]
    }
   ],
   "source": [
    "catch_all(1, 2, 3, a=4, b=5)"
   ]
  },
  {
   "cell_type": "code",
   "execution_count": 13,
   "metadata": {
    "collapsed": false
   },
   "outputs": [
    {
     "name": "stdout",
     "output_type": "stream",
     "text": [
      "args = ('a',)\n",
      "kwargs =  {'keyword': 2}\n"
     ]
    }
   ],
   "source": [
    "catch_all('a', keyword=2)"
   ]
  },
  {
   "cell_type": "markdown",
   "metadata": {},
   "source": [
    "Hier kommt es nicht auf die Namen ``args`` und ``kwargs`` an, sondern auf die  ihnen vorangehenden ``*`` Zeichen. ``args`` und ``kwargs`` sind nur die Variablennamen, die häufig konventionell verwendet werden, kurz für „Argumente“ und „Schlüsselwortargumente“. Der operative Unterschied besteht in den Sternchen: Ein einfacher ``*`` vor einer Variablen bedeutet *„dies als Sequenz erweitern“*, während ein doppelter ``**`` vor einer Variablen *„dies als Dictionary erweitern“* bedeutet. Tatsächlich kann diese Syntax nicht nur bei der Funktionsdefinition, sondern auch beim Funktionsaufruf verwendet werden!"
   ]
  },
  {
   "cell_type": "code",
   "execution_count": 14,
   "metadata": {
    "collapsed": false
   },
   "outputs": [
    {
     "name": "stdout",
     "output_type": "stream",
     "text": [
      "args = (1, 2, 3)\n",
      "kwargs =  {'pi': 3.14}\n"
     ]
    }
   ],
   "source": [
    "inputs = (1, 2, 3)\n",
    "keywords = {'pi': 3.14}\n",
    "\n",
    "catch_all(*inputs, **keywords)"
   ]
  },
  {
   "cell_type": "markdown",
   "metadata": {},
   "source": [
    "## Anonyme (``lambda``) Funktionen\n",
    "Wir kennen bereits die gebräuchlichste Methode zum Definieren von Funktionen: die ``def``-Anweisung. Sie werden wahrscheinlich auf eine andere Möglichkeit stoßen, mit der Anweisung kurze, einmalige Funktionen zu definieren: ``lambda``. Das könnte bspw. so aussehen:"
   ]
  },
  {
   "cell_type": "code",
   "execution_count": 15,
   "metadata": {
    "collapsed": false
   },
   "outputs": [
    {
     "data": {
      "text/plain": [
       "3"
      ]
     },
     "execution_count": 15,
     "metadata": {},
     "output_type": "execute_result"
    }
   ],
   "source": [
    "add = lambda x, y: x + y\n",
    "add(1, 2)"
   ]
  },
  {
   "cell_type": "markdown",
   "metadata": {},
   "source": [
    "Diese Lambda-Funktion entspricht in etwa"
   ]
  },
  {
   "cell_type": "code",
   "execution_count": 16,
   "metadata": {
    "collapsed": false
   },
   "outputs": [],
   "source": [
    "def add(x, y):\n",
    "    return x + y"
   ]
  },
  {
   "cell_type": "markdown",
   "metadata": {},
   "source": [
    "Warum sollten wir so etwas jemals verwenden wollen? In erster Linie kommt es darauf an, dass in Python *alles ein Objekt ist* und sogar Funktionen selbst! Das bedeutet, dass Funktionen als Argumente an Funktionen übergeben werden können.\n",
    "\n",
    "Nehmen wir als Beispiel an, wir hätten einige Daten in einer Liste von Dictionaries gespeichert:"
   ]
  },
  {
   "cell_type": "code",
   "execution_count": 6,
   "metadata": {
    "collapsed": false
   },
   "outputs": [],
   "source": [
    "data = [{'first':'Guido', 'last':'Van Rossum', 'YOB':1956},\n",
    "        {'first':'Grace', 'last':'Hopper',     'YOB':1906},\n",
    "        {'first':'Alan',  'last':'Turing',     'YOB':1912}]"
   ]
  },
  {
   "cell_type": "markdown",
   "metadata": {},
   "source": [
    "Nehmen wir nun an, wir möchten diese Daten sortieren. Python hat eine ``sorted``-Funktion, die Folgendes tut:"
   ]
  },
  {
   "cell_type": "code",
   "execution_count": 18,
   "metadata": {
    "collapsed": false
   },
   "outputs": [
    {
     "data": {
      "text/plain": [
       "[1, 2, 3, 4, 5, 6]"
      ]
     },
     "execution_count": 18,
     "metadata": {},
     "output_type": "execute_result"
    }
   ],
   "source": [
    "sorted([2,4,3,5,1,6])"
   ]
  },
  {
   "cell_type": "markdown",
   "metadata": {},
   "source": [
    "Aber Wörterbücher sind nicht sortierbar: Wir brauchen eine Möglichkeit, der Funktion mitzuteilen, *wie* sie unsere Daten sortieren soll. Wir können dies tun, indem wir die ``key``-Funktion angeben, eine Funktion, die bei einem gegebenen Element den Sortierschlüssel für dieses Element zurückgibt:"
   ]
  },
  {
   "cell_type": "code",
   "execution_count": 7,
   "metadata": {
    "collapsed": false
   },
   "outputs": [
    {
     "data": {
      "text/plain": [
       "[{'first': 'Alan', 'last': 'Turing', 'YOB': 1912},\n",
       " {'first': 'Grace', 'last': 'Hopper', 'YOB': 1906},\n",
       " {'first': 'Guido', 'last': 'Van Rossum', 'YOB': 1956}]"
      ]
     },
     "execution_count": 7,
     "metadata": {},
     "output_type": "execute_result"
    }
   ],
   "source": [
    "# sort alphabetically by first name\n",
    "sorted(data, key=lambda item: item['first'])"
   ]
  },
  {
   "cell_type": "code",
   "execution_count": 8,
   "metadata": {
    "collapsed": false
   },
   "outputs": [
    {
     "data": {
      "text/plain": [
       "[{'first': 'Grace', 'last': 'Hopper', 'YOB': 1906},\n",
       " {'first': 'Alan', 'last': 'Turing', 'YOB': 1912},\n",
       " {'first': 'Guido', 'last': 'Van Rossum', 'YOB': 1956}]"
      ]
     },
     "execution_count": 8,
     "metadata": {},
     "output_type": "execute_result"
    }
   ],
   "source": [
    "# sort by year of birth\n",
    "sorted(data, key=lambda item: item['YOB'])"
   ]
  },
  {
   "cell_type": "markdown",
   "metadata": {},
   "source": [
    "Während diese Schlüsselfunktionen sicherlich mit der normalen ``def``-Syntax erstellt werden könnten, ist die ``lambda``-Syntax für solche kurzen, einmaligen Funktionen praktisch."
   ]
  },
  {
   "cell_type": "markdown",
   "metadata": {},
   "source": [
    "----\n",
    "\n",
    "**SELBST AUSPROBIEREN!**\n",
    "\n",
    "**AUFGABE: 8-1. T-Shirt:**\n",
    "\n",
    "Schreibe eine Funktion namens `make_shirt()`, die eine Größe (`size`) und den Text (`text`) einer Nachricht, die auf das T-Shirt gedruckt werden soll, akzeptiert. Die Funktion sollte einen Satz ausgeben, der die Größe des T-Shirts und die darauf gedruckte Nachricht zusammenfasst.\n",
    "\n",
    "Rufe die Funktion einmal mit Positionsargumenten (*args*) auf, um ein T-Shirt herzustellen. Rufe die Funktion ein zweites Mal mit Schlüsselwortargumenten (*keyword arguments, kwargs*) auf.\n",
    "\n"
   ]
  },
  {
   "cell_type": "code",
   "execution_count": null,
   "metadata": {},
   "outputs": [],
   "source": [
    "# AUFGABE 8.1\n",
    "# DEIN CODE HIER:"
   ]
  },
  {
   "cell_type": "markdown",
   "metadata": {},
   "source": [
    "**AUFGABE: 8-2. Große T-Shirts:**\n",
    "\n",
    "Modifiziere die Funktion `make_shirt()`, sodass T-Shirts standardmäßig groß sind und die Nachricht 'I Love Python.' tragen. Stelle ein großes T-Shirt und ein mittelgroßes T-Shirt mit der Standardnachricht her, sowie ein T-Shirt beliebiger Größe mit einer anderen Nachricht."
   ]
  },
  {
   "cell_type": "code",
   "execution_count": null,
   "metadata": {},
   "outputs": [],
   "source": [
    "# AUFGABE 8.2\n",
    "# DEIN CODE HIER:"
   ]
  },
  {
   "cell_type": "markdown",
   "metadata": {},
   "source": [
    "**OPTIONALE AUFGABE: Zahlensysteme mit RESTWERTMETHODE**\n",
    "\n",
    "Schreiben Sie eine Funktion `convert_to_base(num, base)`, welche die Restwertmethode anwendet, um Zahlen aus dem Dezimalsystem in Zahlensystemen mit einer beliebigen Basis zwischen 2 und 16 darzustellen. Die Funktion soll 2 Argumente entgegennehmen: `num`, die Zahl aus dem Dezimalsystem, und `base` die Basis des Zahlensystems, in welches `num` umgewandelt werden soll.\n",
    "\n",
    "Die Funktion soll so verwendet werden können:\n",
    "\n",
    "```python\n",
    "print(convert_to_base(156, 2))  # Erwartet: 10011100\n",
    "print(convert_to_base(156, 8))  # Erwartet: 234\n",
    "print(convert_to_base(156, 16)) # Erwartet: 9C\n",
    "```\n",
    "\n",
    "Testen Sie Ihre Funktion mit folgendem Code:\n",
    "\n",
    "```python\n",
    "num = 156\n",
    "for base in range(2,17):\n",
    "    print(f\"num: {num}, base: {base:2d} | {convert_to_base(num, base)}\")\n",
    "```\n",
    "\n",
    "Erwartet wird folgende Ausgabe:\n",
    "\n",
    "```python\n",
    "num: 156, base:  2 | 10011100\n",
    "num: 156, base:  3 | 12210\n",
    "num: 156, base:  4 | 2130\n",
    "num: 156, base:  5 | 1111\n",
    "num: 156, base:  6 | 420\n",
    "num: 156, base:  7 | 312\n",
    "num: 156, base:  8 | 234\n",
    "num: 156, base:  9 | 183\n",
    "num: 156, base: 10 | 156\n",
    "num: 156, base: 11 | 132\n",
    "num: 156, base: 12 | 110\n",
    "num: 156, base: 13 | C0\n",
    "num: 156, base: 14 | B2\n",
    "num: 156, base: 15 | A6\n",
    "num: 156, base: 16 | 9C\n",
    "```"
   ]
  },
  {
   "cell_type": "code",
   "execution_count": null,
   "metadata": {},
   "outputs": [],
   "source": [
    "# OPTIONALE AUFGABE\n",
    "# DEIN CODE HIER:"
   ]
  }
 ],
 "metadata": {
  "anaconda-cloud": {},
  "kernelspec": {
   "display_name": "Python 3",
   "language": "python",
   "name": "python3"
  },
  "language_info": {
   "codemirror_mode": {
    "name": "ipython",
    "version": 3
   },
   "file_extension": ".py",
   "mimetype": "text/x-python",
   "name": "python",
   "nbconvert_exporter": "python",
   "pygments_lexer": "ipython3",
   "version": "3.12.3"
  }
 },
 "nbformat": 4,
 "nbformat_minor": 0
}
