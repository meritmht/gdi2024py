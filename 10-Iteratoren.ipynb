{
 "cells": [
  {
   "cell_type": "markdown",
   "metadata": {},
   "source": [
    "<!--BOOK_INFORMATION-->\n",
    "<img align=\"left\" style=\"padding-right:10px;\" src=\"img/cover-small.jpg\" />\n",
    "\n",
    "Dieses Notizbuch enthält einen angepassten Auszug aus der [Whirlwind Tour of Python](http://www.oreilly.com/programming/free/a-whirlwind-tour-of-python.csp) von Jake VanderPlas; Der Inhalt ist auf [GitHub](https://github.com/jakevdp/WhirlwindTourOfPython) verfügbar.\n",
    "\n",
    "Text und Code werden unter der [CC0](https://github.com/jakevdp/WhirlwindTourOfPython/blob/master/LICENSE)- Lizenz veröffentlicht; Das Begleitprojekt, das [Python Data Science Handbook](https://github.com/jakevdp/PythonDataScienceHandbook) wird sehr empfohlen.\n"
   ]
  },
  {
   "cell_type": "markdown",
   "metadata": {},
   "source": [
    "# Iteratoren"
   ]
  },
  {
   "cell_type": "markdown",
   "metadata": {},
   "source": [
    "Ein wichtiger Teil von Datenanalysen besteht oft darin, eine ähnliche Berechnung immer wieder automatisch durchzuführen.\n",
    "Vielleicht haben wir zum Beispiel eine Tabelle mit Namen, die wir in Vor- und Nachnamen aufteilen möchten, oder mit Daten, die wir in ein Standardformat konvertieren möchten.\n",
    "Eine der Antworten von Python auf diese Herausforderung ist die *iterator*-Syntax.\n",
    "Wir haben dies bereits mit dem ``range``-Iterator gesehen:"
   ]
  },
  {
   "cell_type": "code",
   "execution_count": 2,
   "metadata": {
    "collapsed": false
   },
   "outputs": [
    {
     "name": "stdout",
     "output_type": "stream",
     "text": [
      "0 1 2 3 4 5 6 7 8 9 "
     ]
    }
   ],
   "source": [
    "for i in range(10):\n",
    "    print(i, end=' ')"
   ]
  },
  {
   "cell_type": "markdown",
   "metadata": {},
   "source": [
    "Hier werden wir ein bisschen tiefer graben.\n",
    "Es stellt sich heraus, dass ``range`` in Python 3 keine Liste ist, sondern ein so genannter *Iterator*. Zu verstehen, wie er funktioniert, ist der Schlüssel zum Verständnis einer großen Bandbreite von sehr nützlichen Python-Funktionen."
   ]
  },
  {
   "cell_type": "markdown",
   "metadata": {},
   "source": [
    "## Iteration über Listen\n",
    "Iteratoren sind vielleicht am einfachsten zu verstehen, wenn man über eine Liste iteriert.\n",
    "Betrachten wir das folgende Beispiel:"
   ]
  },
  {
   "cell_type": "code",
   "execution_count": 3,
   "metadata": {
    "collapsed": false
   },
   "outputs": [
    {
     "name": "stdout",
     "output_type": "stream",
     "text": [
      "3 5 7 9 11 "
     ]
    }
   ],
   "source": [
    "for value in [2, 4, 6, 8, 10]:\n",
    "    # do some operation\n",
    "    print(value + 1, end=' ')"
   ]
  },
  {
   "cell_type": "markdown",
   "metadata": {},
   "source": [
    "Die vertraute „``for x in y``“-Syntax ermöglicht es uns, eine Operation für jeden Wert in der Liste zu wiederholen.\n",
    "Die Tatsache, dass die Syntax des Codes so nah an seiner englischen Beschreibung liegt („*für [jeden] Wert in [der] Liste*“), ist nur eine der syntaktischen Entscheidungen, die Python zu einer so intuitiv zu erlernenden und zu verwendenden Sprache machen.\n",
    "\n",
    "Im Hintegrund passiert einiges mehr. Wenn wir etwas wie „``for val in L``“ schreiben, prüft der Python-Interpreter, ob eine *iterator*-Schnittstelle existiert, was wir selbst mit der eingebauten Funktion ``iter`` überprüfen können:"
   ]
  },
  {
   "cell_type": "code",
   "execution_count": 3,
   "metadata": {
    "collapsed": false
   },
   "outputs": [
    {
     "data": {
      "text/plain": [
       "<list_iterator at 0x104722400>"
      ]
     },
     "execution_count": 3,
     "metadata": {},
     "output_type": "execute_result"
    }
   ],
   "source": [
    "iter([2, 4, 6, 8, 10])"
   ]
  },
  {
   "cell_type": "markdown",
   "metadata": {},
   "source": [
    "Es ist dieses Iterator-Objekt, das die von der ``for``-Schleife benötigten Funktionen bereitstellt.\n",
    "Das ``iter``-Objekt ist ein Container, der uns Zugriff auf das nächste Objekt gibt, solange es existiert, was man mit der eingebauten Funktion ``next`` sehen kann:"
   ]
  },
  {
   "cell_type": "code",
   "execution_count": 4,
   "metadata": {
    "collapsed": true
   },
   "outputs": [],
   "source": [
    "I = iter([2, 4, 6, 8, 10])"
   ]
  },
  {
   "cell_type": "code",
   "execution_count": 5,
   "metadata": {
    "collapsed": false
   },
   "outputs": [
    {
     "name": "stdout",
     "output_type": "stream",
     "text": [
      "2\n"
     ]
    }
   ],
   "source": [
    "print(next(I))"
   ]
  },
  {
   "cell_type": "code",
   "execution_count": 6,
   "metadata": {
    "collapsed": false
   },
   "outputs": [
    {
     "name": "stdout",
     "output_type": "stream",
     "text": [
      "4\n"
     ]
    }
   ],
   "source": [
    "print(next(I))"
   ]
  },
  {
   "cell_type": "code",
   "execution_count": 7,
   "metadata": {
    "collapsed": false
   },
   "outputs": [
    {
     "name": "stdout",
     "output_type": "stream",
     "text": [
      "6\n"
     ]
    }
   ],
   "source": [
    "print(next(I))"
   ]
  },
  {
   "cell_type": "markdown",
   "metadata": {},
   "source": [
    "Was ist der Zweck dieser Indirektion?\n",
    "Nun, es stellt sich heraus, dass dies unglaublich nützlich ist, weil es Python erlaubt, Dinge als Listen zu behandeln, die *nicht wirklich Listen* sind."
   ]
  },
  {
   "cell_type": "markdown",
   "metadata": {},
   "source": [
    "## ``range()``: Eine Liste ist nicht immer eine Liste\n",
    "Das vielleicht bekannteste Beispiel für diese indirekte Iteration ist die Funktion ``range()`` in Python 3 (in Python 2 ``xrange()`` genannt), die keine Liste, sondern ein spezielles ``range()`` Objekt zurückgibt:"
   ]
  },
  {
   "cell_type": "code",
   "execution_count": 8,
   "metadata": {
    "collapsed": false
   },
   "outputs": [
    {
     "data": {
      "text/plain": [
       "range(0, 10)"
      ]
     },
     "execution_count": 8,
     "metadata": {},
     "output_type": "execute_result"
    }
   ],
   "source": [
    "range(10)"
   ]
  },
  {
   "cell_type": "markdown",
   "metadata": {},
   "source": [
    "``range`` stellt, wie eine Liste, einen Iterator bereit:"
   ]
  },
  {
   "cell_type": "code",
   "execution_count": 8,
   "metadata": {
    "collapsed": false
   },
   "outputs": [
    {
     "data": {
      "text/plain": [
       "<range_iterator at 0x10a9a1ce0>"
      ]
     },
     "execution_count": 8,
     "metadata": {},
     "output_type": "execute_result"
    }
   ],
   "source": [
    "iter(range(10))"
   ]
  },
  {
   "cell_type": "markdown",
   "metadata": {},
   "source": [
    "Python weiß also, dass es *wie* eine Liste zu behandeln ist:"
   ]
  },
  {
   "cell_type": "code",
   "execution_count": 10,
   "metadata": {
    "collapsed": false
   },
   "outputs": [
    {
     "name": "stdout",
     "output_type": "stream",
     "text": [
      "0 1 2 3 4 5 6 7 8 9 "
     ]
    }
   ],
   "source": [
    "for i in range(10):\n",
    "    print(i, end=' ')"
   ]
  },
  {
   "cell_type": "markdown",
   "metadata": {},
   "source": [
    "Der Vorteil der Iterator-Indirektion ist, dass *die vollständige Liste nie explizit erstellt wird*!\n",
    "Wir können dies sehen, indem wir eine `range`-Kalkulation durchführen, die unseren Systemspeicher überwältigen würde, wenn wir sie tatsächlich instanziieren würden (beachten Sie, dass in Python 2 ``range`` eine Liste erzeugt, so dass die Ausführung des Folgenden dort nicht zu guten Resultaten führen wird!):"
   ]
  },
  {
   "cell_type": "code",
   "execution_count": 9,
   "metadata": {
    "collapsed": false
   },
   "outputs": [
    {
     "name": "stdout",
     "output_type": "stream",
     "text": [
      "0, 1, 2, 3, 4, 5, 6, 7, 8, 9, "
     ]
    }
   ],
   "source": [
    "N = 10 ** 12\n",
    "for i in range(N):\n",
    "    if i >= 10: break\n",
    "    print(i, end=', ')"
   ]
  },
  {
   "cell_type": "markdown",
   "metadata": {},
   "source": [
    "Wenn ``range`` tatsächlich eine Liste von einer Billion Werten erstellen würde, würde sie Dutzende von Terabytes an Maschinenspeicher belegen: eine Verschwendung, wenn man bedenkt, dass wir alle Werte außer den ersten 10 ignorieren!\n",
    "\n",
    "Tatsächlich gibt es keinen Grund, warum Iteratoren überhaupt jemals enden müssen!\n",
    "Pythons ``itertools``-Bibliothek enthält eine ``count``-Funktion, die als unendlicher Bereich (`range`) fungiert:"
   ]
  },
  {
   "cell_type": "code",
   "execution_count": 12,
   "metadata": {
    "collapsed": false
   },
   "outputs": [
    {
     "name": "stdout",
     "output_type": "stream",
     "text": [
      "0, 1, 2, 3, 4, 5, 6, 7, 8, 9, "
     ]
    }
   ],
   "source": [
    "from itertools import count\n",
    "\n",
    "for i in count():\n",
    "    if i >= 10:\n",
    "        break\n",
    "    print(i, end=', ')"
   ]
  },
  {
   "cell_type": "markdown",
   "metadata": {},
   "source": [
    "Hätten wir hier keine Schleifenunterbrechung (`break`) eingefügt, würde die Zählung munter weitergehen, bis der Prozess manuell unterbrochen oder beendet wird (z.B. mit ``ctrl-C``)."
   ]
  },
  {
   "cell_type": "markdown",
   "metadata": {},
   "source": [
    "## Nützliche Iteratoren\n",
    "Diese Iterator-Syntax wird fast universell in den eingebauten Python-Typen sowie in den eher datenwissenschaftlich orientierten Objekten verwendet. Im Folgenden werden wir einige der nützlichsten Iteratoren in Python behandeln:"
   ]
  },
  {
   "cell_type": "markdown",
   "metadata": {},
   "source": [
    "### ``enumerate``\n",
    "Oft muss man nicht nur die Werte in einem Array durchlaufen, sondern auch den Index im Auge behalten.\n",
    "Wir könnten versucht sein, das auf diese Weise zu tun:"
   ]
  },
  {
   "cell_type": "code",
   "execution_count": 10,
   "metadata": {
    "collapsed": false
   },
   "outputs": [
    {
     "name": "stdout",
     "output_type": "stream",
     "text": [
      "0 2\n",
      "1 4\n",
      "2 6\n",
      "3 8\n",
      "4 10\n"
     ]
    }
   ],
   "source": [
    "L = [2, 4, 6, 8, 10]\n",
    "for i in range(len(L)):\n",
    "    print(i, L[i])"
   ]
  },
  {
   "cell_type": "markdown",
   "metadata": {},
   "source": [
    "Obwohl dies funktioniert, bietet Python eine sauberere Syntax mit dem Iterator ``enumerate``:"
   ]
  },
  {
   "cell_type": "code",
   "execution_count": 11,
   "metadata": {
    "collapsed": false
   },
   "outputs": [
    {
     "name": "stdout",
     "output_type": "stream",
     "text": [
      "0 2\n",
      "1 4\n",
      "2 6\n",
      "3 8\n",
      "4 10\n"
     ]
    }
   ],
   "source": [
    "for i, val in enumerate(L):\n",
    "    print(i, val)"
   ]
  },
  {
   "cell_type": "markdown",
   "metadata": {},
   "source": [
    "Die entspricht eher dem Python-Weg, Indizes und Werte einer Liste aufzuzählen."
   ]
  },
  {
   "cell_type": "markdown",
   "metadata": {},
   "source": [
    "### ``zip``\n",
    "In anderen Fällen haben wir vielleicht mehrere Listen, über die wir gleichzeitig iterieren wollen.\n",
    "Wir könnten natürlich über den Index iterieren, wie wir es uns zuvor angesehen haben, aber es ist besser, den Iterator ``zip`` zu verwenden, der *Iterables* zusammenfasst:"
   ]
  },
  {
   "cell_type": "code",
   "execution_count": 15,
   "metadata": {
    "collapsed": false
   },
   "outputs": [
    {
     "name": "stdout",
     "output_type": "stream",
     "text": [
      "2 3\n",
      "4 6\n",
      "6 9\n",
      "8 12\n",
      "10 15\n"
     ]
    }
   ],
   "source": [
    "L = [2, 4, 6, 8, 10]\n",
    "R = [3, 6, 9, 12, 15]\n",
    "for lval, rval in zip(L, R):\n",
    "    print(lval, rval)"
   ]
  },
  {
   "cell_type": "markdown",
   "metadata": {},
   "source": [
    "Eine beliebige Anzahl von *Iterables* kann zusammengezippt werden. Bei unterschiedlicher Länge entscheidet die kürzeste die Länge des durch `zip` erzeugten *Iterable*."
   ]
  },
  {
   "cell_type": "markdown",
   "metadata": {},
   "source": [
    "### ``map`` and ``filter``\n",
    "Der Iterator ``map`` nimmt eine Funktion und wendet sie auf die Werte in einem Iterator an:"
   ]
  },
  {
   "cell_type": "code",
   "execution_count": 16,
   "metadata": {
    "collapsed": false
   },
   "outputs": [
    {
     "name": "stdout",
     "output_type": "stream",
     "text": [
      "0 1 4 9 16 25 36 49 64 81 "
     ]
    }
   ],
   "source": [
    "# find the first 10 square numbers\n",
    "square = lambda x: x ** 2\n",
    "for val in map(square, range(10)):\n",
    "    print(val, end=' ')"
   ]
  },
  {
   "cell_type": "markdown",
   "metadata": {},
   "source": [
    "Der Iterator ``filter`` sieht ähnlich aus, mit dem Unterschied, dass er nur Werte durchlässt, für die die Filterfunktion den Wert True ergibt:"
   ]
  },
  {
   "cell_type": "code",
   "execution_count": 17,
   "metadata": {
    "collapsed": false
   },
   "outputs": [
    {
     "name": "stdout",
     "output_type": "stream",
     "text": [
      "0 2 4 6 8 "
     ]
    }
   ],
   "source": [
    "# find values up to 10 for which x % 2 is zero\n",
    "is_even = lambda x: x % 2 == 0\n",
    "for val in filter(is_even, range(10)):\n",
    "    print(val, end=' ')"
   ]
  },
  {
   "cell_type": "markdown",
   "metadata": {},
   "source": [
    "Die Funktionen ``map`` und ``filter`` sowie die Funktion ``reduce`` (die in Pythons Modul ``functools`` zu finden ist) sind grundlegende Bestandteile des *funktionalen Programmierstils*, der zwar kein dominanter Programmierstil in der Python-Welt ist, aber seine entschiedenen Befürworter hat (siehe z.B. die [pytoolz](https://toolz.readthedocs.org/en/latest/)-Bibliothek)."
   ]
  },
  {
   "cell_type": "markdown",
   "metadata": {},
   "source": [
    "### Iterators as function arguments\n",
    "\n",
    "Wir haben gesehen, dass ``*args`` und ``**kwargs`` verwendet werden können, um Sequenzen und Wörterbücher an Funktionen zu übergeben.\n",
    "Es stellt sich heraus, dass die ``*args``-Syntax nicht nur mit Sequenzen, sondern mit jedem Iterator funktioniert:"
   ]
  },
  {
   "cell_type": "code",
   "execution_count": 18,
   "metadata": {
    "collapsed": false
   },
   "outputs": [
    {
     "name": "stdout",
     "output_type": "stream",
     "text": [
      "0 1 2 3 4 5 6 7 8 9\n"
     ]
    }
   ],
   "source": [
    "print(*range(10))"
   ]
  },
  {
   "cell_type": "markdown",
   "metadata": {},
   "source": [
    "So können wir zum Beispiel trickreich vorgehen und das ``map``-Beispiel von vorhin in das folgende umwandeln:"
   ]
  },
  {
   "cell_type": "code",
   "execution_count": 19,
   "metadata": {
    "collapsed": false
   },
   "outputs": [
    {
     "name": "stdout",
     "output_type": "stream",
     "text": [
      "0 1 4 9 16 25 36 49 64 81\n"
     ]
    }
   ],
   "source": [
    "print(*map(lambda x: x ** 2, range(10)))"
   ]
  },
  {
   "cell_type": "markdown",
   "metadata": {},
   "source": [
    "Mit diesem Trick können wir die uralte Frage beantworten, die in den Foren der Python-Lerner auftaucht: Warum gibt es keine ``unzip()`` Funktion, die das Gegenteil von ``zip()`` macht?\n",
    "Wer eine Weile darüber nachdenkt, wird vielleicht feststellen, daß das Gegenteil von ``zip()`` ``zip()`` selbst ist! Der Schlüssel ist, daß ``zip()`` eine beliebige Anzahl von Iteratoren oder Sequenzen zusammenzippen kann. Wir sehen:"
   ]
  },
  {
   "cell_type": "code",
   "execution_count": 20,
   "metadata": {
    "collapsed": true
   },
   "outputs": [],
   "source": [
    "L1 = (1, 2, 3, 4)\n",
    "L2 = ('a', 'b', 'c', 'd')"
   ]
  },
  {
   "cell_type": "code",
   "execution_count": 21,
   "metadata": {
    "collapsed": false
   },
   "outputs": [
    {
     "name": "stdout",
     "output_type": "stream",
     "text": [
      "(1, 'a') (2, 'b') (3, 'c') (4, 'd')\n"
     ]
    }
   ],
   "source": [
    "z = zip(L1, L2)\n",
    "print(*z)"
   ]
  },
  {
   "cell_type": "code",
   "execution_count": 22,
   "metadata": {
    "collapsed": false
   },
   "outputs": [
    {
     "name": "stdout",
     "output_type": "stream",
     "text": [
      "(1, 2, 3, 4) ('a', 'b', 'c', 'd')\n"
     ]
    }
   ],
   "source": [
    "z = zip(L1, L2)\n",
    "new_L1, new_L2 = zip(*z)\n",
    "print(new_L1, new_L2)"
   ]
  },
  {
   "cell_type": "markdown",
   "metadata": {},
   "source": [
    "Denken Sie eine Weile darüber nach. Wenn Sie verstehen, warum es funktioniert, haben Sie einen großen Schritt zum Verständnis von Python-Iteratoren gemacht!"
   ]
  },
  {
   "cell_type": "markdown",
   "metadata": {},
   "source": [
    "## Spezialisierte Iteratoren: ``itertools``\n",
    "\n",
    "Wir haben uns kurz mit dem unendlichen ``range``-Iterator, ``itertools.count``, beschäftigt.\n",
    "Das Modul ``itertools`` enthält eine ganze Reihe von nützlichen Iteratoren; es lohnt sich, das Modul zu erforschen, um zu sehen, was alles verfügbar ist.\n",
    "Beispielsweise iteriert die Funktion ``itertools.permutations`` über alle Permutationen einer Folge:"
   ]
  },
  {
   "cell_type": "code",
   "execution_count": 23,
   "metadata": {
    "collapsed": false
   },
   "outputs": [
    {
     "name": "stdout",
     "output_type": "stream",
     "text": [
      "(0, 1, 2) (0, 2, 1) (1, 0, 2) (1, 2, 0) (2, 0, 1) (2, 1, 0)\n"
     ]
    }
   ],
   "source": [
    "from itertools import permutations\n",
    "p = permutations(range(3))\n",
    "print(*p)"
   ]
  },
  {
   "cell_type": "markdown",
   "metadata": {},
   "source": [
    "In ähnlicher Weise iteriert die Funktion ``itertools.combinations`` über alle eindeutigen Kombinationen von ``N`` Werten innerhalb einer Liste:"
   ]
  },
  {
   "cell_type": "code",
   "execution_count": 24,
   "metadata": {
    "collapsed": false
   },
   "outputs": [
    {
     "name": "stdout",
     "output_type": "stream",
     "text": [
      "(0, 1) (0, 2) (0, 3) (1, 2) (1, 3) (2, 3)\n"
     ]
    }
   ],
   "source": [
    "from itertools import combinations\n",
    "c = combinations(range(4), 2)\n",
    "print(*c)"
   ]
  },
  {
   "cell_type": "markdown",
   "metadata": {},
   "source": [
    "Etwas verwandt ist der ``product``-Iterator, der über alle Mengen von Paaren zwischen zwei oder mehr Iterables iteriert:"
   ]
  },
  {
   "cell_type": "code",
   "execution_count": 25,
   "metadata": {
    "collapsed": false
   },
   "outputs": [
    {
     "name": "stdout",
     "output_type": "stream",
     "text": [
      "('a', 0) ('a', 1) ('a', 2) ('b', 0) ('b', 1) ('b', 2)\n"
     ]
    }
   ],
   "source": [
    "from itertools import product\n",
    "p = product('ab', range(3))\n",
    "print(*p)"
   ]
  },
  {
   "cell_type": "markdown",
   "metadata": {},
   "source": [
    "Viele weitere nützliche Iteratoren existieren in ``itertools``: die vollständige Liste kann zusammen mit einigen Beispielen in der [Online-Dokumentation] von Python gefunden werden (https://docs.python.org/3.5/library/itertools.html)."
   ]
  }
 ],
 "metadata": {
  "anaconda-cloud": {},
  "kernelspec": {
   "display_name": "Python 3",
   "language": "python",
   "name": "python3"
  },
  "language_info": {
   "codemirror_mode": {
    "name": "ipython",
    "version": 3
   },
   "file_extension": ".py",
   "mimetype": "text/x-python",
   "name": "python",
   "nbconvert_exporter": "python",
   "pygments_lexer": "ipython3",
   "version": "3.12.0"
  }
 },
 "nbformat": 4,
 "nbformat_minor": 0
}
