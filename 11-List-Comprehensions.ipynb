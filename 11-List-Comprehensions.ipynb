{
 "cells": [
  {
   "cell_type": "markdown",
   "metadata": {},
   "source": [
    "<!--BOOK_INFORMATION-->\n",
    "<img align=\"left\" style=\"padding-right:10px;\" src=\"img/cover-small.jpg\" />\n",
    "\n",
    "Dieses Notizbuch enthält einen angepassten Auszug aus der [Whirlwind Tour of Python](http://www.oreilly.com/programming/free/a-whirlwind-tour-of-python.csp) von Jake VanderPlas; Der Inhalt ist auf [GitHub](https://github.com/jakevdp/WhirlwindTourOfPython) verfügbar.\n",
    "\n",
    "Text und Code werden unter der [CC0](https://github.com/jakevdp/WhirlwindTourOfPython/blob/master/LICENSE)- Lizenz veröffentlicht; Das Begleitprojekt, das [Python Data Science Handbook](https://github.com/jakevdp/PythonDataScienceHandbook) wird sehr empfohlen.\n"
   ]
  },
  {
   "cell_type": "markdown",
   "metadata": {},
   "source": [
    "# List Comprehensions"
   ]
  },
  {
   "cell_type": "markdown",
   "metadata": {},
   "source": [
    "Wer genug Python-Code liest, stößt irgendwann auf die knappe und effiziente Konstruktion, die als *List Comprehension* bekannt ist."
   ]
  },
  {
   "cell_type": "code",
   "execution_count": 1,
   "metadata": {
    "collapsed": false
   },
   "outputs": [
    {
     "data": {
      "text/plain": [
       "[1, 2, 4, 5, 7, 8, 10, 11, 13, 14, 16, 17, 19]"
      ]
     },
     "execution_count": 1,
     "metadata": {},
     "output_type": "execute_result"
    }
   ],
   "source": [
    "[i for i in range(20) if i % 3 > 0]"
   ]
  },
  {
   "cell_type": "markdown",
   "metadata": {},
   "source": [
    "Das Ergebnis ist eine Liste von Zahlen, die keine Vielfachen von 3 enthält.\n",
    "Dieses Beispiel mag zunächst etwas verwirrend erscheinen, aber mit zunehmender Vertrautheit mit Python wird das Lesen und Schreiben von *List Comprehensions* zur zweiten Natur."
   ]
  },
  {
   "cell_type": "markdown",
   "metadata": {},
   "source": [
    "## Grundlegende List Comprehensions\n",
    "List Comprehensions sind einfach eine Möglichkeit, eine `for`-Schleife, die eine Liste erstellt, in eine einzige kurze, lesbare Zeile zu komprimieren.\n",
    "Hier ist zum Beispiel eine Schleife, die eine Liste mit den ersten 12 quadratischen Ganzen Zahlen erstellt:"
   ]
  },
  {
   "cell_type": "code",
   "execution_count": 2,
   "metadata": {
    "collapsed": false
   },
   "outputs": [
    {
     "data": {
      "text/plain": [
       "[0, 1, 4, 9, 16, 25, 36, 49, 64, 81, 100, 121]"
      ]
     },
     "execution_count": 2,
     "metadata": {},
     "output_type": "execute_result"
    }
   ],
   "source": [
    "L = []\n",
    "for n in range(12):\n",
    "    L.append(n ** 2)\n",
    "L"
   ]
  },
  {
   "cell_type": "markdown",
   "metadata": {},
   "source": [
    "So sieht dies mit einer List Comprehension aus:"
   ]
  },
  {
   "cell_type": "code",
   "execution_count": 3,
   "metadata": {
    "collapsed": false
   },
   "outputs": [
    {
     "data": {
      "text/plain": [
       "[0, 1, 4, 9, 16, 25, 36, 49, 64, 81, 100, 121]"
      ]
     },
     "execution_count": 3,
     "metadata": {},
     "output_type": "execute_result"
    }
   ],
   "source": [
    "[n ** 2 for n in range(12)]"
   ]
  },
  {
   "cell_type": "markdown",
   "metadata": {},
   "source": [
    "Wie bei vielen Python-Anweisungen kann man die Bedeutung dieser Anweisung fast im Klartext ablesen: „Konstruiere eine Liste, die aus dem Quadrat von ``n`` für jedes ``n`` bis zu 12 besteht“.\n",
    "\n",
    "Die grundlegende Syntax ist also ``[``*``expr``* ``for`` *``var``* ``in`` *``iterable``*``]``, wobei *``expr``* ein beliebiger gültiger Ausdruck, *``var``* ein Variablenname und *``iterable``* ein beliebiges iterierbares Python-Objekt ist."
   ]
  },
  {
   "cell_type": "markdown",
   "metadata": {},
   "source": [
    "## Mehrfache Iteration\n",
    "Manchmal möchte man eine Liste nicht nur aus einem Wert, sondern aus zwei Werten erstellen. Um dies zu tun, fügen wir einfach einen weiteren ``for``-Ausdruck in die List Comprehension ein:"
   ]
  },
  {
   "cell_type": "code",
   "execution_count": 4,
   "metadata": {
    "collapsed": false
   },
   "outputs": [
    {
     "data": {
      "text/plain": [
       "[(0, 0), (0, 1), (0, 2), (1, 0), (1, 1), (1, 2)]"
      ]
     },
     "execution_count": 4,
     "metadata": {},
     "output_type": "execute_result"
    }
   ],
   "source": [
    "[(i, j) for i in range(2) for j in range(3)]"
   ]
  },
  {
   "cell_type": "markdown",
   "metadata": {},
   "source": [
    "Es ist zu beachten, dass der zweite ``for``-Ausdruck als innerer Index fungiert und damit am schnellsten in der resultierenden Liste variiert.\n",
    "Diese Art der Konstruktion kann auf drei, vier oder mehr Iteratoren innerhalb der List Comprehension ausgedehnt werden, allerdings leidet dann die Lesbarkeit des Codes!"
   ]
  },
  {
   "cell_type": "markdown",
   "metadata": {},
   "source": [
    "## Bedingungen für den Iterator\n",
    "Wir können die Iteration weiter steuern, indem wir eine Bedingung an das Ende des Ausdrucks anhängen.\n",
    "Im ersten Beispiel dieses Abschnitts wurde über alle Zahlen von 1 bis 20 iteriert, wobei Vielfache von 3 ausgelassen wurden.\n",
    "Schauen wir uns das Beispiel noch einmal an, und beachten wir den Aufbau:"
   ]
  },
  {
   "cell_type": "code",
   "execution_count": 5,
   "metadata": {
    "collapsed": false
   },
   "outputs": [
    {
     "data": {
      "text/plain": [
       "[1, 2, 4, 5, 7, 8, 10, 11, 13, 14, 16, 17, 19]"
      ]
     },
     "execution_count": 5,
     "metadata": {},
     "output_type": "execute_result"
    }
   ],
   "source": [
    "[val for val in range(20) if val % 3 > 0]"
   ]
  },
  {
   "cell_type": "markdown",
   "metadata": {},
   "source": [
    "Der Ausdruck ``(i % 3 > 0)`` ergibt ``True``, es sei denn ``val`` ist durch 3 teilbar.\n",
    "Auch hier kann die Bedeutung in englischer Sprache sofort abgelesen werden: „Konstruiere eine Liste von Werten für jeden Wert bis zu 20, aber nur, wenn der Wert nicht durch 3 teilbar ist“.\n",
    "Sobald man sich an diese Formulierung gewöhnt hat, ist sie viel einfacher zu schreiben - und auf den ersten Blick zu verstehen - als die entsprechende Schleifensyntax:"
   ]
  },
  {
   "cell_type": "code",
   "execution_count": 6,
   "metadata": {
    "collapsed": false
   },
   "outputs": [
    {
     "data": {
      "text/plain": [
       "[1, 2, 4, 5, 7, 8, 10, 11, 13, 14, 16, 17, 19]"
      ]
     },
     "execution_count": 6,
     "metadata": {},
     "output_type": "execute_result"
    }
   ],
   "source": [
    "L = []\n",
    "for val in range(20):\n",
    "    if val % 3:\n",
    "        L.append(val)\n",
    "L"
   ]
  },
  {
   "cell_type": "markdown",
   "metadata": {},
   "source": [
    "## Bedingungen für den Wert\n",
    "Wer in C oder Java programmiert hat, kennt vielleicht die einzeilige Bedingung, die durch den Operator ``?`` aktiviert wird:\n",
    "``` C\n",
    "int absval = (val < 0) ? -val : val\n",
    "```\n",
    "In Python gibt es etwas sehr ähnliches, das am häufigsten in List Comprehensions, ``Lambda``-Funktionen und an anderen Stellen verwendet wird, an denen ein einfacher Ausdruck gewünscht ist:"
   ]
  },
  {
   "cell_type": "code",
   "execution_count": 7,
   "metadata": {
    "collapsed": false
   },
   "outputs": [
    {
     "data": {
      "text/plain": [
       "10"
      ]
     },
     "execution_count": 7,
     "metadata": {},
     "output_type": "execute_result"
    }
   ],
   "source": [
    "val = -10\n",
    "val if val >= 0 else -val"
   ]
  },
  {
   "cell_type": "markdown",
   "metadata": {},
   "source": [
    "Wir sehen, dass dies einfach die Funktionalität der eingebauten Funktion ``abs()`` dupliziert, aber die Konstruktion erlaubt es uns, einige wirklich interessante Dinge innerhalb von List Comprehensions zu tun.\n",
    "Das wird jetzt ziemlich kompliziert, aber man könnte so etwas machen:"
   ]
  },
  {
   "cell_type": "code",
   "execution_count": 8,
   "metadata": {
    "collapsed": false
   },
   "outputs": [
    {
     "data": {
      "text/plain": [
       "[1, -2, -4, 5, 7, -8, -10, 11, 13, -14, -16, 17, 19]"
      ]
     },
     "execution_count": 8,
     "metadata": {},
     "output_type": "execute_result"
    }
   ],
   "source": [
    "[val if val % 2 else -val\n",
    " for val in range(20) if val % 3]"
   ]
  },
  {
   "cell_type": "markdown",
   "metadata": {},
   "source": [
    "Der Zeilenwechsel innerhalb der Listenverarbeitung vor dem Ausdruck ``for`` ist in Python gültig und ist oft eine gute Möglichkeit, lange Listenverarbeitungen für eine bessere Lesbarkeit aufzulösen.\n",
    "Folgendes geschieht: Wir konstruieren eine Liste, lassen Vielfache von 3 weg und negieren alle Vielfachen von 2."
   ]
  },
  {
   "cell_type": "markdown",
   "metadata": {},
   "source": [
    "Wenn man die Dynamik von Listenverstehenssätzen verstanden hat, ist es einfach, zu anderen Arten von Comprehensions überzugehen. Die Syntax ist weitgehend dieselbe; der einzige Unterschied ist die Art der Klammer, die wir verwenden. Mit geschweiften Klammern können wir zum Beispiel eine Menge (``set``) mit einer *set comprehension* erstellen:"
   ]
  },
  {
   "cell_type": "code",
   "execution_count": 11,
   "metadata": {
    "collapsed": false
   },
   "outputs": [
    {
     "data": {
      "text/plain": [
       "{0, 1, 4, 9, 16, 25, 36, 49, 64, 81, 100, 121}"
      ]
     },
     "execution_count": 11,
     "metadata": {},
     "output_type": "execute_result"
    }
   ],
   "source": [
    "{n**2 for n in range(12)}"
   ]
  },
  {
   "cell_type": "markdown",
   "metadata": {},
   "source": [
    "Wir erinnern uns daran, dass eine ``Menge`` eine Sammlung ist, die keine Duplikate enthält. Die *Set Comprehension* respektiert diese Regel und eliminiert alle doppelten Einträge:"
   ]
  },
  {
   "cell_type": "code",
   "execution_count": 12,
   "metadata": {
    "collapsed": false
   },
   "outputs": [
    {
     "data": {
      "text/plain": [
       "{0, 1, 2}"
      ]
     },
     "execution_count": 12,
     "metadata": {},
     "output_type": "execute_result"
    }
   ],
   "source": [
    "{a % 3 for a in range(1000)}"
   ]
  },
  {
   "cell_type": "markdown",
   "metadata": {},
   "source": [
    "Mit einer kleinen Änderung können wir einen Doppelpunkt (``:``) hinzufügen, um eine *dict comprehension* zu erzeugen:"
   ]
  },
  {
   "cell_type": "code",
   "execution_count": 13,
   "metadata": {
    "collapsed": false
   },
   "outputs": [
    {
     "data": {
      "text/plain": [
       "{0: 0, 1: 1, 2: 4, 3: 9, 4: 16, 5: 25}"
      ]
     },
     "execution_count": 13,
     "metadata": {},
     "output_type": "execute_result"
    }
   ],
   "source": [
    "{n:n**2 for n in range(6)}"
   ]
  },
  {
   "cell_type": "markdown",
   "metadata": {},
   "source": [
    "Wenn wir schließlich Klammern statt eckiger Klammern verwenden, erhalten wir einen so genannten *Generator-Ausdruck*: "
   ]
  },
  {
   "cell_type": "code",
   "execution_count": 15,
   "metadata": {
    "collapsed": false
   },
   "outputs": [
    {
     "data": {
      "text/plain": [
       "<generator object <genexpr> at 0x1027a5a50>"
      ]
     },
     "execution_count": 15,
     "metadata": {},
     "output_type": "execute_result"
    }
   ],
   "source": [
    "(n**2 for n in range(12))"
   ]
  },
  {
   "cell_type": "markdown",
   "metadata": {},
   "source": [
    "Ein Generator-Ausdruck ist im Wesentlichen eine List Comprehension, bei dem die Elemente nach Bedarf und nicht alle auf einmal generiert werden. Die Einfachheit dieses Ausdrucks täuscht über die Leistungsfähigkeit dieses Sprachmerkmals hinweg: Wir werden dies im nächsten Abschnitt näher untersuchen."
   ]
  }
 ],
 "metadata": {
  "anaconda-cloud": {},
  "kernelspec": {
   "display_name": "Python 3",
   "language": "python",
   "name": "python3"
  },
  "language_info": {
   "codemirror_mode": {
    "name": "ipython",
    "version": 3
   },
   "file_extension": ".py",
   "mimetype": "text/x-python",
   "name": "python",
   "nbconvert_exporter": "python",
   "pygments_lexer": "ipython3",
   "version": "3.5.1"
  }
 },
 "nbformat": 4,
 "nbformat_minor": 0
}
