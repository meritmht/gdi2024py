{
 "cells": [
  {
   "cell_type": "markdown",
   "metadata": {},
   "source": [
    "<!--BOOK_INFORMATION-->\n",
    "<img align=\"left\" style=\"padding-right:10px;\" src=\"img/cover-small.jpg\" />\n",
    "\n",
    "Dieses Notizbuch enthält einen angepassten Auszug aus der [Whirlwind Tour of Python](http://www.oreilly.com/programming/free/a-whirlwind-tour-of-python.csp) von Jake VanderPlas; Der Inhalt ist auf [GitHub](https://github.com/jakevdp/WhirlwindTourOfPython) verfügbar.\n",
    "\n",
    "Text und Code werden unter der [CC0](https://github.com/jakevdp/WhirlwindTourOfPython/blob/master/LICENSE)- Lizenz veröffentlicht; Das Begleitprojekt, das [Python Data Science Handbook](https://github.com/jakevdp/PythonDataScienceHandbook) wird sehr empfohlen.\n"
   ]
  },
  {
   "cell_type": "markdown",
   "metadata": {},
   "source": [
    "# Module und Pakete"
   ]
  },
  {
   "cell_type": "markdown",
   "metadata": {},
   "source": [
    "Eine Eigenschaft von Python, die es für eine Vielzahl von Aufgaben nützlich macht, ist die Tatsache, dass die Sprache bereits „Batterien enthält“ - das heißt, die Python-Standardbibliothek enthält nützliche Werkzeuge für eine breite Palette von Aufgaben.\n",
    "Darüber hinaus gibt es ein breites Ökosystem von Tools und Paketen von Drittanbietern, die speziellere Funktionen anbieten.\n",
    "Hier werfen wir einen Blick auf den Import von Modulen der Standardbibliothek, auf Werkzeuge zur Installation von Modulen von Drittanbietern und auf eine Beschreibung, wie Sie Ihre eigenen Module erstellen können."
   ]
  },
  {
   "cell_type": "markdown",
   "metadata": {},
   "source": [
    "## Module laden: die ``import``-Anweisung\n",
    "\n",
    "Um eingebaute Module und Module von Drittanbietern zu laden, bietet Python die ``import``-Anweisung.\n",
    "Es gibt einige Möglichkeiten, diese Anweisung zu verwenden, die wir hier kurz erwähnen werden, und zwar in der Reihenfolge, in der sie am meisten empfohlen wird."
   ]
  },
  {
   "cell_type": "markdown",
   "metadata": {},
   "source": [
    "### Expliziter Modulimport\n",
    "\n",
    "Beim expliziten Import eines Moduls wird der Inhalt des Moduls in einem Namespace gespeichert.\n",
    "Der Namespace wird dann verwendet, um auf den Inhalt mit einem „``.``“ dazwischen zu verweisen.\n",
    "Hier importieren wir zum Beispiel das eingebaute Modul ``math`` und berechnen den Kosinus von Pi:"
   ]
  },
  {
   "cell_type": "code",
   "execution_count": 1,
   "metadata": {
    "collapsed": false
   },
   "outputs": [
    {
     "data": {
      "text/plain": [
       "-1.0"
      ]
     },
     "execution_count": 1,
     "metadata": {},
     "output_type": "execute_result"
    }
   ],
   "source": [
    "import math\n",
    "math.cos(math.pi)"
   ]
  },
  {
   "cell_type": "markdown",
   "metadata": {},
   "source": [
    "### Expliziter Modulimport mit Alias\n",
    "\n",
    "Bei längeren Modulnamen ist es nicht sinnvoll, bei jedem Zugriff auf ein Element den vollen Modulnamen zu verwenden.\n",
    "Aus diesem Grund verwenden wir üblicherweise das Muster „``import ... as ...``“, um einen kürzeren Alias für den Namensraum zu erstellen.\n",
    "Das NumPy-Paket (Numerical Python), ein beliebtes Paket eines Drittanbieters, das für Data Science nützlich ist, wird zum Beispiel unter dem Alias ``np`` importiert:"
   ]
  },
  {
   "cell_type": "code",
   "execution_count": 2,
   "metadata": {
    "collapsed": false
   },
   "outputs": [
    {
     "data": {
      "text/plain": [
       "-1.0"
      ]
     },
     "execution_count": 2,
     "metadata": {},
     "output_type": "execute_result"
    }
   ],
   "source": [
    "import numpy as np\n",
    "np.cos(np.pi)"
   ]
  },
  {
   "cell_type": "markdown",
   "metadata": {},
   "source": [
    "### Expliziter Import von Modulinhalten\n",
    "\n",
    "Manchmal möchte man nicht den gesamten Modul-Namensraum importieren, sondern nur ein paar bestimmte Elemente aus dem Modul importieren.\n",
    "Dies kann mit dem „``von ... importieren ...``“-Muster geschehen.\n",
    "Zum Beispiel können wir nur die Funktion ``cos`` und die Konstante ``pi`` aus dem Modul ``math`` importieren:"
   ]
  },
  {
   "cell_type": "code",
   "execution_count": 3,
   "metadata": {
    "collapsed": false
   },
   "outputs": [
    {
     "data": {
      "text/plain": [
       "-1.0"
      ]
     },
     "execution_count": 3,
     "metadata": {},
     "output_type": "execute_result"
    }
   ],
   "source": [
    "from math import cos, pi\n",
    "cos(pi)"
   ]
  },
  {
   "cell_type": "markdown",
   "metadata": {},
   "source": [
    "### Impliziter Import von Modulinhalten\n",
    "\n",
    "Schließlich ist es manchmal nützlich, den gesamten Inhalt des Moduls in den lokalen Namensraum zu importieren.\n",
    "Dies kann mit dem „``from ... import *``“-Muster geschehen:"
   ]
  },
  {
   "cell_type": "code",
   "execution_count": 4,
   "metadata": {
    "collapsed": false
   },
   "outputs": [
    {
     "data": {
      "text/plain": [
       "1.0"
      ]
     },
     "execution_count": 4,
     "metadata": {},
     "output_type": "execute_result"
    }
   ],
   "source": [
    "from math import *\n",
    "sin(pi) ** 2 + cos(pi) ** 2"
   ]
  },
  {
   "cell_type": "markdown",
   "metadata": {},
   "source": [
    "Dieses Muster sollte, wenn überhaupt, nur sparsam verwendet werden.\n",
    "Das Problem ist, dass solche Importe manchmal Funktionsnamen überschreiben können, die wir nicht überschreiben wollen, und die Form der Anweisung macht es schwierig zu bestimmen, was sich geändert hat.\n",
    "\n",
    "Python hat zum Beispiel eine eingebaute Funktion ``sum``, die für verschiedene Operationen verwendet werden kann:"
   ]
  },
  {
   "cell_type": "code",
   "execution_count": 5,
   "metadata": {
    "collapsed": false
   },
   "outputs": [
    {
     "name": "stdout",
     "output_type": "stream",
     "text": [
      "Help on built-in function sum in module builtins:\n",
      "\n",
      "sum(...)\n",
      "    sum(iterable[, start]) -> value\n",
      "    \n",
      "    Return the sum of an iterable of numbers (NOT strings) plus the value\n",
      "    of parameter 'start' (which defaults to 0).  When the iterable is\n",
      "    empty, return start.\n",
      "\n"
     ]
    }
   ],
   "source": [
    "help(sum)"
   ]
  },
  {
   "cell_type": "markdown",
   "metadata": {},
   "source": [
    "Wir können damit die Summe einer Folge berechnen, die mit einem bestimmten Wert beginnt (hier beginnen wir mit ``-1``):"
   ]
  },
  {
   "cell_type": "code",
   "execution_count": 6,
   "metadata": {
    "collapsed": false
   },
   "outputs": [
    {
     "data": {
      "text/plain": [
       "9"
      ]
     },
     "execution_count": 6,
     "metadata": {},
     "output_type": "execute_result"
    }
   ],
   "source": [
    "sum(range(5), -1)"
   ]
  },
  {
   "cell_type": "markdown",
   "metadata": {},
   "source": [
    "Beobachten wir nun, was passiert, wenn wir den *exakten gleichen Funktionsaufruf* nach dem Import von ``*`` aus ``numpy`` machen:"
   ]
  },
  {
   "cell_type": "code",
   "execution_count": 7,
   "metadata": {
    "collapsed": false
   },
   "outputs": [],
   "source": [
    "from numpy import *"
   ]
  },
  {
   "cell_type": "code",
   "execution_count": 8,
   "metadata": {
    "collapsed": false
   },
   "outputs": [
    {
     "data": {
      "text/plain": [
       "10"
      ]
     },
     "execution_count": 8,
     "metadata": {},
     "output_type": "execute_result"
    }
   ],
   "source": [
    "sum(range(5), -1)"
   ]
  },
  {
   "cell_type": "markdown",
   "metadata": {},
   "source": [
    "Das Ergebnis liegt um eins daneben!\n",
    "Der Grund dafür ist, dass die ``import *``-Anweisung die eingebaute Funktion ``sum`` durch die Funktion ``numpy.sum`` ersetzt, die eine andere Aufrufsignatur hat: in ersterer summieren wir ``range(5)`` beginnend bei ``-1``; in letzterer summieren wir ``range(5)`` entlang der letzten Achse (angezeigt durch ``-1``).\n",
    "Dies ist die Art von Situation, die entstehen kann, wenn man nicht aufpasst, wenn man „``import *``“ benutzt - aus diesem Grund ist es am besten, es zu vermeiden, wenn man nicht genau weiß, was man tut."
   ]
  },
  {
   "cell_type": "markdown",
   "metadata": {},
   "source": [
    "## Importieren aus der Standardbibliothek von Python\n",
    "\n",
    "Die Standardbibliothek von Python enthält viele nützliche eingebaute Module, die wir in [Pythons Dokumentation](https://docs.python.org/3/library/) ausführlich erkunden können.\n",
    "Jedes dieser Module kann mit der Anweisung ``import`` importiert und dann mit der Hilfefunktion aus dem vorherigen Abschnitt erkundet werden.\n",
    "Hier ist eine äußerst unvollständige Liste einiger Module, die Sie vielleicht erforschen und kennenlernen möchten:\n",
    "\n",
    "- ``os`` und ``sys``: Werkzeuge für die Zusammenarbeit mit dem Betriebssystem, einschließlich der Navigation in Dateiverzeichnisstrukturen und der Ausführung von Shell-Befehlen\n",
    "- ``math`` und ``cmath``: Mathematische Funktionen und Operationen mit reellen und komplexen Zahlen\n",
    "- ``itertools``: Werkzeuge zur Konstruktion von und Interaktion mit Iteratoren und Generatoren\n",
    "- ``functools``: Werkzeuge zur Unterstützung der funktionalen Programmierung\n",
    "- ``random``: Werkzeuge zur Erzeugung von Pseudozufallszahlen\n",
    "- ``pickle``: rkzeuge für die Objektpersistenz: Speichern von Objekten auf der Festplatte und Laden von Objekten von der Festplatte\n",
    "- ``json`` und ``csv``: Tools zum Lesen von JSON- und CSV-formatierten Dateien.\n",
    "- ``urllib``: Werkzeuge für die Bearbeitung von HTTP- und anderen Web-Anfragen.\n",
    "\n",
    "Diese und viele weitere Informationen finden wir in der Dokumentation der Python-Standardbibliothek: https://docs.python.org/3/library/."
   ]
  },
  {
   "cell_type": "markdown",
   "metadata": {},
   "source": [
    "## Importieren aus Modulen von Drittanbietern\n",
    "\n",
    "Eines der Dinge, die Python nützlich machen, insbesondere in der Data Science-Welt, ist das Ökosystem von Modulen von Drittanbietern.\n",
    "Diese können genauso wie die eingebauten Module importiert werden, aber zuerst müssen die Module auf dem jeweiligen System installiert werden.\n",
    "\n",
    "Das Standardregister für solche Module ist der Python Package Index (kurz *PyPI*), zu finden im Internet unter http://pypi.python.org/.\n",
    "\n",
    "Zur Vereinfachung wird Python mit einem Programm namens ``pip`` (ein rekursives Akronym, das „pip installiert Pakete“ bedeutet) ausgeliefert, das automatisch Pakete holt, die im PyPI veröffentlicht und aufgelistet sind (in Python Version 2 muss ``pip`` separat installiert werden).\n",
    "\n",
    "Um zum Beispiel das Paket `sympy` für symbolische Mathematik zu installieren, könnten wir auf der Kommandozeile folgendes eingeben:\n",
    "\n",
    "```\n",
    "$ pip install sympy # Bitte nicht in unserer Veranstaltung!\n",
    "```\n",
    "\n",
    "Der Quellcode für das Paket wird automatisch aus dem PyPI-Repository heruntergeladen und das Paket in den Standard-Python-Pfad installiert (vorausgesetzt, Sie haben die Erlaubnis, dies auf dem von Ihnen verwendeten Computer zu tun).\n",
    "\n",
    "Weitere Informationen über PyPI und das ``pip``-Installationsprogramm finden Sie in der Dokumentation unter http://pypi.python.org/.\n",
    "\n",
    "\n",
    "Wir nutzen in unserer Veranstaltung **[Poetry](https://python-poetry.org/)**, ein noch leistungsfähigeres Werkzeug zur Verwaltung von Paketen und Abhängigkeiten. Um ein Paket hinzuzufügen, können wir auf der Kommandozeile folgendes eingeben:\n",
    "\n",
    "```\n",
    "$ poetry add sympy\n",
    "```\n",
    "\n",
    "Poetry verwaltet Abhängigkeiten in der Datei `pyproject.toml`. Dies hat den Vorteil, dass wir (und andere Teammitglieder) mit dem Kommando `poetry install` alle Projektabhängigkeiten im Projekt installieren können."
   ]
  }
 ],
 "metadata": {
  "anaconda-cloud": {},
  "kernelspec": {
   "display_name": "Python 3",
   "language": "python",
   "name": "python3"
  },
  "language_info": {
   "codemirror_mode": {
    "name": "ipython",
    "version": 3
   },
   "file_extension": ".py",
   "mimetype": "text/x-python",
   "name": "python",
   "nbconvert_exporter": "python",
   "pygments_lexer": "ipython3",
   "version": "3.5.1"
  }
 },
 "nbformat": 4,
 "nbformat_minor": 0
}
