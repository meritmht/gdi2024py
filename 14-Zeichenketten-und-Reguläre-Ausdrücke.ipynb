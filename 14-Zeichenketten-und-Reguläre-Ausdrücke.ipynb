{
 "cells": [
  {
   "cell_type": "markdown",
   "metadata": {},
   "source": [
    "<!--BOOK_INFORMATION-->\n",
    "<img align=\"left\" style=\"padding-right:10px;\" src=\"img/cover-small.jpg\" />\n",
    "\n",
    "Dieses Notizbuch enthält einen angepassten Auszug aus der [Whirlwind Tour of Python](http://www.oreilly.com/programming/free/a-whirlwind-tour-of-python.csp) von Jake VanderPlas; Der Inhalt ist auf [GitHub](https://github.com/jakevdp/WhirlwindTourOfPython) verfügbar.\n",
    "\n",
    "Text und Code werden unter der [CC0](https://github.com/jakevdp/WhirlwindTourOfPython/blob/master/LICENSE)- Lizenz veröffentlicht; Das Begleitprojekt, das [Python Data Science Handbook](https://github.com/jakevdp/PythonDataScienceHandbook) wird sehr empfohlen.\n"
   ]
  },
  {
   "cell_type": "markdown",
   "metadata": {},
   "source": [
    "# Zeichenkettenmanipulation und reguläre Ausdrücke"
   ]
  },
  {
   "cell_type": "markdown",
   "metadata": {},
   "source": [
    "Ein Bereich, in dem die Sprache Python wirklich glänzt, ist die Manipulation von Zeichenketten (Strings).\n",
    "In diesem Abschnitt werden einige der in Python integrierten String-Methoden und Formatierungsoperationen behandelt, bevor ein kurzer Leitfaden zu dem äußerst nützlichen Thema *reguläre Ausdrücke* folgt.\n",
    "\n",
    "Zeichenketten in Python können entweder mit einfachen oder doppelten Anführungszeichen definiert werden. Beide Varianten sind funktional gleichwertig:"
   ]
  },
  {
   "cell_type": "code",
   "execution_count": 1,
   "metadata": {
    "collapsed": false
   },
   "outputs": [
    {
     "data": {
      "text/plain": [
       "True"
      ]
     },
     "execution_count": 1,
     "metadata": {},
     "output_type": "execute_result"
    }
   ],
   "source": [
    "x = 'a string'\n",
    "y = \"a string\"\n",
    "x == y"
   ]
  },
  {
   "cell_type": "markdown",
   "metadata": {},
   "source": [
    "Darüber hinaus ist es möglich, mehrzeilige Zeichenfolgen mit einer Syntax mit dreifachen Anführungszeichen zu definieren:"
   ]
  },
  {
   "cell_type": "code",
   "execution_count": 2,
   "metadata": {
    "collapsed": true
   },
   "outputs": [],
   "source": [
    "multiline = \"\"\"\n",
    "one\n",
    "two\n",
    "three\n",
    "\"\"\""
   ]
  },
  {
   "cell_type": "markdown",
   "metadata": {},
   "source": [
    "Nehmen wir also einen kurzen Einblick in einige der Python-Werkzeuge zur String-Manipulation."
   ]
  },
  {
   "cell_type": "markdown",
   "metadata": {},
   "source": [
    "## Einfache String-Manipulation in Python\n",
    "\n",
    "Für die grundlegende Manipulation von Zeichenketten können die in Python eingebauten String-Methoden äußerst praktisch sein.\n",
    "Wer schon einmal mit einer anderen Programmiersprache gearbeitet hat, wird die Einfachheit der Python-Methoden wahrscheinlich als sehr erfrischend empfinden.\n",
    "Wir haben den String-Typ von Python und einige dieser Methoden bereits erkundet; hier werden wir etwas tiefer eintauchen:"
   ]
  },
  {
   "cell_type": "markdown",
   "metadata": {},
   "source": [
    "### Zeichenketten formatieren: Formatting strings: Anpassung der Groß- und Kleinschreibung\n",
    "\n",
    "Python macht es recht einfach, die Groß- und Kleinschreibung einer Zeichenkette anzupassen.\n",
    "Hier werden wir die Methoden ``upper()``, ``lower()``, ``capitalize()``, ``title()`` und ``swapcase()`` am Beispiel der folgenden \"unaufgeräumten\" Zeichenkette betrachten:"
   ]
  },
  {
   "cell_type": "code",
   "execution_count": 3,
   "metadata": {
    "collapsed": true
   },
   "outputs": [],
   "source": [
    "fox = \"tHe qUICk bROWn fOx.\""
   ]
  },
  {
   "cell_type": "markdown",
   "metadata": {},
   "source": [
    "Um die gesamte Zeichenkette in Groß- oder Kleinbuchstaben umzuwandeln, können wir die Methoden ``upper()`` bzw. ``lower()`` verwenden:"
   ]
  },
  {
   "cell_type": "code",
   "execution_count": 4,
   "metadata": {
    "collapsed": false
   },
   "outputs": [
    {
     "data": {
      "text/plain": [
       "'THE QUICK BROWN FOX.'"
      ]
     },
     "execution_count": 4,
     "metadata": {},
     "output_type": "execute_result"
    }
   ],
   "source": [
    "fox.upper()"
   ]
  },
  {
   "cell_type": "code",
   "execution_count": 5,
   "metadata": {
    "collapsed": false
   },
   "outputs": [
    {
     "data": {
      "text/plain": [
       "'the quick brown fox.'"
      ]
     },
     "execution_count": 5,
     "metadata": {},
     "output_type": "execute_result"
    }
   ],
   "source": [
    "fox.lower()"
   ]
  },
  {
   "cell_type": "markdown",
   "metadata": {},
   "source": [
    "Eine häufige Anforderung an die Formatierung ist es, nur den ersten Buchstaben eines jeden Wortes oder vielleicht den ersten Buchstaben eines jeden Satzes groß zu schreiben.\n",
    "Dies kann mit den Methoden ``title()`` und ``capitalize()`` erreicht werden:"
   ]
  },
  {
   "cell_type": "code",
   "execution_count": 6,
   "metadata": {
    "collapsed": false
   },
   "outputs": [
    {
     "data": {
      "text/plain": [
       "'The Quick Brown Fox.'"
      ]
     },
     "execution_count": 6,
     "metadata": {},
     "output_type": "execute_result"
    }
   ],
   "source": [
    "fox.title()"
   ]
  },
  {
   "cell_type": "code",
   "execution_count": 7,
   "metadata": {
    "collapsed": false
   },
   "outputs": [
    {
     "data": {
      "text/plain": [
       "'The quick brown fox.'"
      ]
     },
     "execution_count": 7,
     "metadata": {},
     "output_type": "execute_result"
    }
   ],
   "source": [
    "fox.capitalize()"
   ]
  },
  {
   "cell_type": "markdown",
   "metadata": {},
   "source": [
    "Die Groß- und Kleinschreibung kann mit der Methode ``swapcase()`` umgekehrt werden:"
   ]
  },
  {
   "cell_type": "code",
   "execution_count": 8,
   "metadata": {
    "collapsed": false
   },
   "outputs": [
    {
     "data": {
      "text/plain": [
       "'ThE QuicK BrowN FoX.'"
      ]
     },
     "execution_count": 8,
     "metadata": {},
     "output_type": "execute_result"
    }
   ],
   "source": [
    "fox.swapcase()"
   ]
  },
  {
   "cell_type": "markdown",
   "metadata": {},
   "source": [
    "### Formatierung von Zeichenketten: Hinzufügen und Entfernen von Leerzeichen\n",
    "\n",
    "Ein weiteres häufiges Bedürfnis ist es, Leerzeichen (oder andere Zeichen) am Anfang oder Ende einer Zeichenkette zu entfernen.\n",
    "Die grundlegende Methode zum Entfernen von Zeichen ist die Methode ``strip()``, die Leerzeichen am Anfang und Ende der Zeile entfernt:"
   ]
  },
  {
   "cell_type": "code",
   "execution_count": 9,
   "metadata": {
    "collapsed": false
   },
   "outputs": [
    {
     "data": {
      "text/plain": [
       "'this is the content'"
      ]
     },
     "execution_count": 9,
     "metadata": {},
     "output_type": "execute_result"
    }
   ],
   "source": [
    "line = '         this is the content         '\n",
    "line.strip()"
   ]
  },
  {
   "cell_type": "markdown",
   "metadata": {},
   "source": [
    "Um nur Leerzeichen rechts oder links zu entfernen, verwenden wir ``rstrip()`` bzw. ``lstrip()``:"
   ]
  },
  {
   "cell_type": "code",
   "execution_count": 10,
   "metadata": {
    "collapsed": false
   },
   "outputs": [
    {
     "data": {
      "text/plain": [
       "'         this is the content'"
      ]
     },
     "execution_count": 10,
     "metadata": {},
     "output_type": "execute_result"
    }
   ],
   "source": [
    "line.rstrip()"
   ]
  },
  {
   "cell_type": "code",
   "execution_count": 11,
   "metadata": {
    "collapsed": false
   },
   "outputs": [
    {
     "data": {
      "text/plain": [
       "'this is the content         '"
      ]
     },
     "execution_count": 11,
     "metadata": {},
     "output_type": "execute_result"
    }
   ],
   "source": [
    "line.lstrip()"
   ]
  },
  {
   "cell_type": "markdown",
   "metadata": {},
   "source": [
    "Um andere Zeichen als Leerzeichen zu entfernen, können wir das gewünschte Zeichen an die Methode ``strip()`` übergeben:"
   ]
  },
  {
   "cell_type": "code",
   "execution_count": 12,
   "metadata": {
    "collapsed": false
   },
   "outputs": [
    {
     "data": {
      "text/plain": [
       "'435'"
      ]
     },
     "execution_count": 12,
     "metadata": {},
     "output_type": "execute_result"
    }
   ],
   "source": [
    "num = \"000000000000435\"\n",
    "num.strip('0')"
   ]
  },
  {
   "cell_type": "markdown",
   "metadata": {},
   "source": [
    "Das Gegenteil dieser Operation, das Hinzufügen von Leerzeichen oder anderen Zeichen, kann mit den Methoden ``center()``, ``ljust()`` und ``rjust()`` erreicht werden.\n",
    "\n",
    "Zum Beispiel können wir die Methode ``center()`` verwenden, um eine gegebene Zeichenkette innerhalb einer gegebenen Anzahl von Leerzeichen zu zentrieren:"
   ]
  },
  {
   "cell_type": "code",
   "execution_count": 1,
   "metadata": {
    "collapsed": false
   },
   "outputs": [
    {
     "data": {
      "text/plain": [
       "'     this is the content      '"
      ]
     },
     "execution_count": 1,
     "metadata": {},
     "output_type": "execute_result"
    }
   ],
   "source": [
    "line = \"this is the content\"\n",
    "line.center(30)"
   ]
  },
  {
   "cell_type": "markdown",
   "metadata": {},
   "source": [
    "In ähnlicher Weise richten ``ljust()`` und ``rjust()`` die Zeichenkette innerhalb von Leerzeichen einer bestimmten Länge linksbündig oder rechtsbündig aus:"
   ]
  },
  {
   "cell_type": "code",
   "execution_count": 14,
   "metadata": {
    "collapsed": false
   },
   "outputs": [
    {
     "data": {
      "text/plain": [
       "'this is the content           '"
      ]
     },
     "execution_count": 14,
     "metadata": {},
     "output_type": "execute_result"
    }
   ],
   "source": [
    "line.ljust(30)"
   ]
  },
  {
   "cell_type": "code",
   "execution_count": 15,
   "metadata": {
    "collapsed": false
   },
   "outputs": [
    {
     "data": {
      "text/plain": [
       "'           this is the content'"
      ]
     },
     "execution_count": 15,
     "metadata": {},
     "output_type": "execute_result"
    }
   ],
   "source": [
    "line.rjust(30)"
   ]
  },
  {
   "cell_type": "markdown",
   "metadata": {},
   "source": [
    "Alle diese Methoden akzeptieren zusätzlich ein beliebiges Zeichen, das zum Füllen der Zeichenanzahl verwendet wird.\n",
    "Zum Beispiel:"
   ]
  },
  {
   "cell_type": "code",
   "execution_count": 16,
   "metadata": {
    "collapsed": false
   },
   "outputs": [
    {
     "data": {
      "text/plain": [
       "'0000000435'"
      ]
     },
     "execution_count": 16,
     "metadata": {},
     "output_type": "execute_result"
    }
   ],
   "source": [
    "'435'.rjust(10, '0')"
   ]
  },
  {
   "cell_type": "markdown",
   "metadata": {},
   "source": [
    "Weil das Auffüllen von Nullen ein so häufiges Anliegen ist, bietet Python auch ``zfill()``, eine spezielle Methode, um eine Zeichenkette mit Nullen aufzufüllen:"
   ]
  },
  {
   "cell_type": "code",
   "execution_count": 2,
   "metadata": {
    "collapsed": false
   },
   "outputs": [
    {
     "data": {
      "text/plain": [
       "'0000000435'"
      ]
     },
     "execution_count": 2,
     "metadata": {},
     "output_type": "execute_result"
    }
   ],
   "source": [
    "'435'.zfill(10)"
   ]
  },
  {
   "cell_type": "markdown",
   "metadata": {},
   "source": [
    "### Suchen und Ersetzen von Teilzeichenfolgen\n",
    "\n",
    "Wenn wir Vorkommen eines bestimmten Zeichens in einer Zeichenkette finden wollen, sind die Methoden ``find()``/``rfind()``, ``index()``/`rindex()`` und ``replace()`` die besten eingebauten Methoden.\n",
    "\n",
    "``find()`` und ``index()`` sind sehr ähnlich, da sie nach dem ersten Vorkommen eines Zeichens oder einer Teilzeichenkette innerhalb einer Zeichenkette suchen und den Index der Teilzeichenfolge zurückgeben:"
   ]
  },
  {
   "cell_type": "code",
   "execution_count": 5,
   "metadata": {
    "collapsed": false
   },
   "outputs": [
    {
     "data": {
      "text/plain": [
       "16"
      ]
     },
     "execution_count": 5,
     "metadata": {},
     "output_type": "execute_result"
    }
   ],
   "source": [
    "line = 'the quick brown fox jumped over a lazy dog'\n",
    "line.find('fox')"
   ]
  },
  {
   "cell_type": "code",
   "execution_count": 19,
   "metadata": {
    "collapsed": false
   },
   "outputs": [
    {
     "data": {
      "text/plain": [
       "16"
      ]
     },
     "execution_count": 19,
     "metadata": {},
     "output_type": "execute_result"
    }
   ],
   "source": [
    "line.index('fox')"
   ]
  },
  {
   "cell_type": "markdown",
   "metadata": {},
   "source": [
    "Der einzige Unterschied zwischen ``find()`` und ``index()`` ist ihr Verhalten, wenn der Suchstring nicht gefunden wird; ``find()`` liefert ``-1``, während ``index()`` einen ``ValueError`` auslöst:"
   ]
  },
  {
   "cell_type": "code",
   "execution_count": 20,
   "metadata": {
    "collapsed": false
   },
   "outputs": [
    {
     "data": {
      "text/plain": [
       "-1"
      ]
     },
     "execution_count": 20,
     "metadata": {},
     "output_type": "execute_result"
    }
   ],
   "source": [
    "line.find('bear')"
   ]
  },
  {
   "cell_type": "code",
   "execution_count": 21,
   "metadata": {
    "collapsed": false
   },
   "outputs": [
    {
     "ename": "ValueError",
     "evalue": "substring not found",
     "output_type": "error",
     "traceback": [
      "\u001b[0;31m---------------------------------------------------------------------------\u001b[0m",
      "\u001b[0;31mValueError\u001b[0m                                Traceback (most recent call last)",
      "\u001b[0;32m<ipython-input-21-4cbe6ee9b0eb>\u001b[0m in \u001b[0;36m<module>\u001b[0;34m()\u001b[0m\n\u001b[0;32m----> 1\u001b[0;31m \u001b[0mline\u001b[0m\u001b[0;34m.\u001b[0m\u001b[0mindex\u001b[0m\u001b[0;34m(\u001b[0m\u001b[0;34m'bear'\u001b[0m\u001b[0;34m)\u001b[0m\u001b[0;34m\u001b[0m\u001b[0m\n\u001b[0m",
      "\u001b[0;31mValueError\u001b[0m: substring not found"
     ]
    }
   ],
   "source": [
    "line.index('bear')"
   ]
  },
  {
   "cell_type": "markdown",
   "metadata": {},
   "source": [
    "Die verwandten Funktionen ``rfind()`` und ``rindex()`` arbeiten ähnlich, nur dass sie nach dem ersten Vorkommen vom Ende und nicht vom Anfang der Zeichenkette aus suchen:"
   ]
  },
  {
   "cell_type": "code",
   "execution_count": 22,
   "metadata": {
    "collapsed": false
   },
   "outputs": [
    {
     "data": {
      "text/plain": [
       "35"
      ]
     },
     "execution_count": 22,
     "metadata": {},
     "output_type": "execute_result"
    }
   ],
   "source": [
    "line.rfind('a')"
   ]
  },
  {
   "cell_type": "markdown",
   "metadata": {},
   "source": [
    "Für den speziellen Fall der Prüfung auf eine Teilzeichenkette am Anfang oder Ende einer Zeichenfolge bietet Python die Methoden ``startswith()`` und ``endswith()``:"
   ]
  },
  {
   "cell_type": "code",
   "execution_count": 23,
   "metadata": {
    "collapsed": false
   },
   "outputs": [
    {
     "data": {
      "text/plain": [
       "True"
      ]
     },
     "execution_count": 23,
     "metadata": {},
     "output_type": "execute_result"
    }
   ],
   "source": [
    "line.endswith('dog')"
   ]
  },
  {
   "cell_type": "code",
   "execution_count": 24,
   "metadata": {
    "collapsed": false
   },
   "outputs": [
    {
     "data": {
      "text/plain": [
       "False"
      ]
     },
     "execution_count": 24,
     "metadata": {},
     "output_type": "execute_result"
    }
   ],
   "source": [
    "line.startswith('fox')"
   ]
  },
  {
   "cell_type": "markdown",
   "metadata": {},
   "source": [
    "Um einen Schritt weiter zu gehen und eine gegebene Teilzeichenkette durch eine neue Zeichenkette zu ersetzen, können wir die Methode ``replace()`` verwenden.\n",
    "Hier ersetzen wir ``'brown'`` durch ``'red'``:"
   ]
  },
  {
   "cell_type": "code",
   "execution_count": 25,
   "metadata": {
    "collapsed": false
   },
   "outputs": [
    {
     "data": {
      "text/plain": [
       "'the quick red fox jumped over a lazy dog'"
      ]
     },
     "execution_count": 25,
     "metadata": {},
     "output_type": "execute_result"
    }
   ],
   "source": [
    "line.replace('brown', 'red')"
   ]
  },
  {
   "cell_type": "markdown",
   "metadata": {},
   "source": [
    "Die Funktion ``replace()`` gibt eine neue Zeichenkette zurück, die alle Vorkommen der Eingabe ersetzt:"
   ]
  },
  {
   "cell_type": "code",
   "execution_count": 26,
   "metadata": {
    "collapsed": false
   },
   "outputs": [
    {
     "data": {
      "text/plain": [
       "'the quick br--wn f--x jumped --ver a lazy d--g'"
      ]
     },
     "execution_count": 26,
     "metadata": {},
     "output_type": "execute_result"
    }
   ],
   "source": [
    "line.replace('o', '--')"
   ]
  },
  {
   "cell_type": "markdown",
   "metadata": {},
   "source": [
    "Im Abschnitt [Flexible Mustererkennung mit regulären Ausdrücken](#Flexible-Mustererkennung-mit-regulären-Ausdrücken) werden wir noch flexiblere Ansätze unter Verwendung von regulären Ausdrücken betrachten."
   ]
  },
  {
   "cell_type": "markdown",
   "metadata": {},
   "source": [
    "### Aufteilen und Partitionieren von Zeichenketten\n",
    "\n",
    "Wenn wir eine Teilzeichenkette finden *und dann* die Zeichenkette basierend auf ihrer Position aufteilen möchten, sind die Methoden ``partition()`` und/oder ``split()`` genau das Richtige für Sie.\n",
    "Beide geben eine Folge von Teilstrings zurück.\n",
    "\n",
    "Die Methode ``partition()`` gibt ein Tupel mit drei Elementen zurück: die Teilzeichenkette vor der ersten Instanz des Split-Punktes, den Split-Punkt selbst und die Teilzeichenkette danach:"
   ]
  },
  {
   "cell_type": "code",
   "execution_count": 3,
   "metadata": {
    "collapsed": false
   },
   "outputs": [
    {
     "data": {
      "text/plain": [
       "('this is the content', '', '')"
      ]
     },
     "execution_count": 3,
     "metadata": {},
     "output_type": "execute_result"
    }
   ],
   "source": [
    "line.partition('fox')"
   ]
  },
  {
   "cell_type": "markdown",
   "metadata": {},
   "source": [
    "Die Methode ``rpartition()`` ist ähnlich, sucht aber von der rechten Seite der Zeichenkette aus.\n",
    "\n",
    "Die Methode ``Split()`` ist vielleicht noch nützlicher; sie findet *alle* Instanzen des Split-Punktes und gibt die Teilstrings dazwischen zurück.\n",
    "Die Voreinstellung ist, dass an jedem Leerzeichen aufgespalten und eine Liste der einzelnen Wörter einer Zeichenkette zurückgegeben wird:"
   ]
  },
  {
   "cell_type": "code",
   "execution_count": 6,
   "metadata": {
    "collapsed": false
   },
   "outputs": [
    {
     "data": {
      "text/plain": [
       "['the', 'quick', 'brown', 'fox', 'jumped', 'over', 'a', 'lazy', 'dog']"
      ]
     },
     "execution_count": 6,
     "metadata": {},
     "output_type": "execute_result"
    }
   ],
   "source": [
    "line.split()"
   ]
  },
  {
   "cell_type": "markdown",
   "metadata": {},
   "source": [
    "Eine verwandte Methode ist ``splitlines()``, die bei Zeilenumbrüchen trennt.\n",
    "Wir wollen dies mit einem Haiku tun, das gemeinhin dem Dichter Matsuo Bashō aus dem 17. Jahrhundert zugeschrieben wird:"
   ]
  },
  {
   "cell_type": "code",
   "execution_count": 7,
   "metadata": {
    "collapsed": false
   },
   "outputs": [
    {
     "data": {
      "text/plain": [
       "['matsushima-ya', 'aah matsushima-ya', 'matsushima-ya']"
      ]
     },
     "execution_count": 7,
     "metadata": {},
     "output_type": "execute_result"
    }
   ],
   "source": [
    "haiku = \"\"\"matsushima-ya\n",
    "aah matsushima-ya\n",
    "matsushima-ya\"\"\"\n",
    "\n",
    "haiku.splitlines()"
   ]
  },
  {
   "cell_type": "markdown",
   "metadata": {},
   "source": [
    "Mit einem ``join()`` können wir die ``split()``-Operation umkehren."
   ]
  },
  {
   "cell_type": "code",
   "execution_count": 8,
   "metadata": {
    "collapsed": false
   },
   "outputs": [
    {
     "data": {
      "text/plain": [
       "'1--2--3'"
      ]
     },
     "execution_count": 8,
     "metadata": {},
     "output_type": "execute_result"
    }
   ],
   "source": [
    "'--'.join(['1', '2', '3'])"
   ]
  },
  {
   "cell_type": "markdown",
   "metadata": {},
   "source": [
    "Ein gängiges Muster ist die Verwendung des Sonderzeichens ``„\\n“`` (Zeilenumbruch), um Zeilen, die zuvor geteilt wurden, zusammenzufügen und die Eingabe wiederherzustellen:"
   ]
  },
  {
   "cell_type": "code",
   "execution_count": 9,
   "metadata": {
    "collapsed": false
   },
   "outputs": [
    {
     "name": "stdout",
     "output_type": "stream",
     "text": [
      "matsushima-ya\n",
      "aah matsushima-ya\n",
      "matsushima-ya\n"
     ]
    }
   ],
   "source": [
    "print(\"\\n\".join(['matsushima-ya', 'aah matsushima-ya', 'matsushima-ya']))"
   ]
  },
  {
   "cell_type": "markdown",
   "metadata": {},
   "source": [
    "## Zeichenketten formatieren\n",
    "\n",
    "In den vorangegangenen Methoden-Beispielen haben wir gelernt, wie man Werte aus Strings extrahiert und Strings selbst in die gewünschten Formate umwandelt.\n",
    "Eine weitere Anwendung von String-Methoden ist die Manipulation von String- *Repräsentationen* von Werten anderer Typen.\n",
    "Natürlich können String-Repräsentationen immer mit der Funktion ``str()`` gefunden werden, zum Beispiel:"
   ]
  },
  {
   "cell_type": "code",
   "execution_count": 10,
   "metadata": {
    "collapsed": false
   },
   "outputs": [
    {
     "data": {
      "text/plain": [
       "'3.14159'"
      ]
     },
     "execution_count": 10,
     "metadata": {},
     "output_type": "execute_result"
    }
   ],
   "source": [
    "pi = 3.14159\n",
    "str(pi)"
   ]
  },
  {
   "cell_type": "markdown",
   "metadata": {},
   "source": [
    "Für kompliziertere Formate könnten wir versucht sein, die String-Arithmetik zu verwenden, wie wir sie im Abschnitt [Semantik Operatoren](./04-Semantik-Operatoren.ipynb) kennengelernt haben:"
   ]
  },
  {
   "cell_type": "code",
   "execution_count": 11,
   "metadata": {
    "collapsed": false
   },
   "outputs": [
    {
     "data": {
      "text/plain": [
       "'The value of pi is 3.14159'"
      ]
     },
     "execution_count": 11,
     "metadata": {},
     "output_type": "execute_result"
    }
   ],
   "source": [
    "\"The value of pi is \" + str(pi)"
   ]
  },
  {
   "cell_type": "markdown",
   "metadata": {},
   "source": [
    "Eine flexiblere Möglichkeit ist die Verwendung von *Format-Strings*, d.h. Strings mit speziellen Markierungen (durch geschweifte Klammern gekennzeichnet), in die als Zeichenfolgen formatierte Werte eingefügt werden.\n",
    "Hier ist ein einfaches Beispiel:"
   ]
  },
  {
   "cell_type": "code",
   "execution_count": 34,
   "metadata": {
    "collapsed": false
   },
   "outputs": [
    {
     "data": {
      "text/plain": [
       "'The value of pi is 3.14159'"
      ]
     },
     "execution_count": 34,
     "metadata": {},
     "output_type": "execute_result"
    }
   ],
   "source": [
    "\"The value of pi is {}\".format(pi)"
   ]
  },
  {
   "cell_type": "markdown",
   "metadata": {},
   "source": [
    "Innerhalb der Markierung ``{}`` können wir auch Informationen darüber einfügen, was genau dort erscheinen soll.\n",
    "Wenn wir eine Zahl angeben, bezieht sich diese auf den Index des einzufügenden Arguments:"
   ]
  },
  {
   "cell_type": "code",
   "execution_count": 35,
   "metadata": {
    "collapsed": false
   },
   "outputs": [
    {
     "data": {
      "text/plain": [
       "'First letter: A. Last letter: Z.'"
      ]
     },
     "execution_count": 35,
     "metadata": {},
     "output_type": "execute_result"
    }
   ],
   "source": [
    "\"\"\"First letter: {0}. Last letter: {1}.\"\"\".format('A', 'Z')"
   ]
  },
  {
   "cell_type": "markdown",
   "metadata": {},
   "source": [
    "Wenn wir eine Zeichenkette angeben, bezieht sich diese auf den Schlüssel eines beliebigen Schlüsselwortarguments:"
   ]
  },
  {
   "cell_type": "code",
   "execution_count": 36,
   "metadata": {
    "collapsed": false
   },
   "outputs": [
    {
     "data": {
      "text/plain": [
       "'First letter: A. Last letter: Z.'"
      ]
     },
     "execution_count": 36,
     "metadata": {},
     "output_type": "execute_result"
    }
   ],
   "source": [
    "\"\"\"First letter: {first}. Last letter: {last}.\"\"\".format(last='Z', first='A')"
   ]
  },
  {
   "cell_type": "markdown",
   "metadata": {},
   "source": [
    "Schließlich können wir bei numerischen Eingaben Format-Codes einfügen, die steuern, wie der Wert in eine Zeichenkette umgewandelt wird.\n",
    "Wenn wir beispielsweise eine Zahl als Fließkommazahl mit drei Nachkommastellen ausgeben möchten, können wir den folgenden Code verwenden:"
   ]
  },
  {
   "cell_type": "code",
   "execution_count": 37,
   "metadata": {
    "collapsed": false
   },
   "outputs": [
    {
     "data": {
      "text/plain": [
       "'pi = 3.142'"
      ]
     },
     "execution_count": 37,
     "metadata": {},
     "output_type": "execute_result"
    }
   ],
   "source": [
    "\"pi = {0:.3f}\".format(pi)"
   ]
  },
  {
   "cell_type": "markdown",
   "metadata": {},
   "source": [
    "Wie zuvor bezieht sich auch hier die „``0``“ auf den Index des einzufügenden Wertes.\n",
    "Das „``:``“ kennzeichnet, dass Formatcodes folgen werden.\n",
    "Das „``.3f``“ kodiert die gewünschte Genauigkeit: drei Stellen hinter dem Komma, Fließkommaformat.\n",
    "\n",
    "Diese Art der Formatspezifikation ist sehr flexibel, und die Beispiele hier kratzen nur an der Oberfläche der verfügbaren Formatierungsoptionen.\n",
    "Weitere Informationen über die Syntax dieser Formatstrings sind unter [Format Specification](https://docs.python.org/3/library/string.html#formatspec) in der Python-Onlinedokumentation zu finden."
   ]
  },
  {
   "cell_type": "markdown",
   "metadata": {},
   "source": [
    "## Flexible Mustererkennung mit regulären Ausdrücken\n",
    "\n",
    "Die Methoden des Python-Typs ``str`` geben uns eine Reihe von mächtigen Werkzeugen zur Formatierung, Aufteilung und Manipulation von Zeichenfolgedaten an die Hand.\n",
    "Noch mächtigere Werkzeuge sind jedoch in Pythons eingebautem Modul für reguläre Ausdrücke verfügbar.\n",
    "Reguläre Ausdrücke sind ein riesiges Thema; es gibt ganze Bücher zu diesem Thema (einschließlich Jeffrey E.F. Friedls [*Mastering Regular Expressions, 3rd Edition*](http://shop.oreilly.com/product/9780596528126.do)), so dass es schwer sein wird, diesem Thema in einem einzigen Unterabschnitt gerecht zu werden.\n",
    "\n",
    "Wir wollen eine Vorstellung davon erhalten, welche Arten von Problemen wir mit regulären Ausdrücken in Python angehen können.\n",
    "\n",
    "Grundsätzlich sind reguläre Ausdrücke ein Mittel zum *flexiblen Mustervergleich* in Zeichenfolgen.\n",
    "Wer häufig die Kommandozeile benutzt, kennt diese Art des flexiblen Abgleichs mit dem „``*``“-Zeichen, das als Platzhalter fungiert. Wir können zum Beispiel alle IPython- Notebooks (d.h. Dateien mit der Endung *.ipynb*) mit „Python“ im Dateinamen auflisten, indem wir den Platzhalter „``*``“ verwenden, um alle Zeichen dazwischen zu berücksichtigen:"
   ]
  },
  {
   "cell_type": "code",
   "execution_count": 1,
   "metadata": {
    "collapsed": false
   },
   "outputs": [
    {
     "name": "stdout",
     "output_type": "stream",
     "text": [
      "02_Basic-Python-Syntax.ipynb\n"
     ]
    }
   ],
   "source": [
    "!ls *Python*.ipynb"
   ]
  },
  {
   "cell_type": "markdown",
   "metadata": {},
   "source": [
    "Reguläre Ausdrücke verallgemeinern diese „Wildcard“-Idee auf eine breite Palette von Anwendungen mit flexibler Sytax.\n",
    "Die Python-Schnittstelle zu regulären Ausdrücken ist im eingebauten Modul ``re`` enthalten; als einfaches Beispiel wollen wir es verwenden, um die Funktionalität der String-Methode ``split()`` zu duplizieren:"
   ]
  },
  {
   "cell_type": "code",
   "execution_count": 3,
   "metadata": {
    "collapsed": false
   },
   "outputs": [
    {
     "name": "stderr",
     "output_type": "stream",
     "text": [
      "<>:2: SyntaxWarning: invalid escape sequence '\\s'\n",
      "<>:2: SyntaxWarning: invalid escape sequence '\\s'\n",
      "/tmp/ipykernel_22883/3382758800.py:2: SyntaxWarning: invalid escape sequence '\\s'\n",
      "  regex = re.compile('\\s+')\n",
      "/tmp/ipykernel_22883/3382758800.py:2: SyntaxWarning: invalid escape sequence '\\s'\n",
      "  regex = re.compile('\\s+')\n"
     ]
    },
    {
     "ename": "NameError",
     "evalue": "name 'line' is not defined",
     "output_type": "error",
     "traceback": [
      "\u001b[0;31m---------------------------------------------------------------------------\u001b[0m",
      "\u001b[0;31mNameError\u001b[0m                                 Traceback (most recent call last)",
      "Cell \u001b[0;32mIn[3], line 3\u001b[0m\n\u001b[1;32m      1\u001b[0m \u001b[38;5;28;01mimport\u001b[39;00m \u001b[38;5;21;01mre\u001b[39;00m\n\u001b[1;32m      2\u001b[0m regex \u001b[38;5;241m=\u001b[39m re\u001b[38;5;241m.\u001b[39mcompile(\u001b[38;5;124m'\u001b[39m\u001b[38;5;124m\\\u001b[39m\u001b[38;5;124ms+\u001b[39m\u001b[38;5;124m'\u001b[39m)\n\u001b[0;32m----> 3\u001b[0m regex\u001b[38;5;241m.\u001b[39msplit(\u001b[43mline\u001b[49m)\n",
      "\u001b[0;31mNameError\u001b[0m: name 'line' is not defined"
     ]
    }
   ],
   "source": [
    "import re\n",
    "regex = re.compile('\\s+')\n",
    "regex.split(line)"
   ]
  },
  {
   "cell_type": "markdown",
   "metadata": {},
   "source": [
    "Hier haben wir zuerst einen regulären Ausdruck *kompiliert* und ihn dann benutzt, um eine Zeichenkette *aufzuteilen*.\n",
    "So wie Pythons Methode ``split()`` eine Liste aller Teilzeichenketten zwischen Leerzeichen zurückgibt, gibt die Methode ``split()`` für reguläre Ausdrücke eine Liste aller Teilzeichenketten zwischen den Übereinstimmungen mit dem Eingabemuster zurück.\n",
    "\n",
    "In diesem Fall ist die Eingabe ``„\\s+“``: „``\\s``‚‘ ist ein spezielles Zeichen, das auf alle Whitespace-Zeichen (Leerzeichen, Tabulator, Zeilenumbruch usw.) passt, und ``+``' ist ein Zeichen, das *eine oder mehrere* der vorangehenden Entität angibt.\n",
    "Der reguläre Ausdruck passt also auf jede Teilzeichenkette, die aus einem oder mehreren Whitespace-Zeichen besteht.\n",
    "\n",
    "Die Methode ``split()`` ist im Grunde genommen eine Komfortmethode, die auf diesem Verhalten aufbaut; grundlegender ist die Methode ``match()``, die uns sagt, ob der Anfang einer Zeichenkette dem Muster entspricht:"
   ]
  },
  {
   "cell_type": "code",
   "execution_count": 40,
   "metadata": {
    "collapsed": false
   },
   "outputs": [
    {
     "name": "stdout",
     "output_type": "stream",
     "text": [
      "'     ' matches\n",
      "'abc  ' does not match\n",
      "'  abc' matches\n"
     ]
    }
   ],
   "source": [
    "for s in [\"     \", \"abc  \", \"  abc\"]:\n",
    "    if regex.match(s):\n",
    "        print(repr(s), \"matches\")\n",
    "    else:\n",
    "        print(repr(s), \"does not match\")"
   ]
  },
  {
   "cell_type": "markdown",
   "metadata": {},
   "source": [
    "Wie bei ``split()`` gibt es ähnliche Funktionen, um die erste Übereinstimmung zu finden (wie ``str.index()`` oder ``str.find()``) oder um zu suchen und zu ersetzen (wie ``str.replace()``).\n",
    "Wir werden wieder die Zeile von vorhin verwenden:"
   ]
  },
  {
   "cell_type": "code",
   "execution_count": 15,
   "metadata": {
    "collapsed": true
   },
   "outputs": [],
   "source": [
    "line = 'the quick brown fox jumped over a lazy dog'"
   ]
  },
  {
   "cell_type": "markdown",
   "metadata": {},
   "source": [
    "Daran sehen wir, dass die Methode ``regex.search()`` sehr ähnlich wie ``str.index()`` oder ``str.find()`` funktioniert:"
   ]
  },
  {
   "cell_type": "code",
   "execution_count": 13,
   "metadata": {
    "collapsed": false
   },
   "outputs": [
    {
     "data": {
      "text/plain": [
       "16"
      ]
     },
     "execution_count": 13,
     "metadata": {},
     "output_type": "execute_result"
    }
   ],
   "source": [
    "line.index('fox')"
   ]
  },
  {
   "cell_type": "code",
   "execution_count": 20,
   "metadata": {
    "collapsed": false
   },
   "outputs": [
    {
     "data": {
      "text/plain": [
       "16"
      ]
     },
     "execution_count": 20,
     "metadata": {},
     "output_type": "execute_result"
    }
   ],
   "source": [
    "regex = re.compile('fox')\n",
    "match = regex.search(line)\n",
    "match.start()"
   ]
  },
  {
   "cell_type": "markdown",
   "metadata": {},
   "source": [
    "Die Methode ``regex.sub()`` funktioniert ähnlich wie die Methode ``str.replace()``:"
   ]
  },
  {
   "cell_type": "code",
   "execution_count": 22,
   "metadata": {
    "collapsed": false
   },
   "outputs": [
    {
     "data": {
      "text/plain": [
       "'the quick brown BEAR jumped over a lazy dog'"
      ]
     },
     "execution_count": 22,
     "metadata": {},
     "output_type": "execute_result"
    }
   ],
   "source": [
    "line.replace('fox', 'BEAR')"
   ]
  },
  {
   "cell_type": "code",
   "execution_count": 23,
   "metadata": {
    "collapsed": false
   },
   "outputs": [
    {
     "data": {
      "text/plain": [
       "'the quick brown BEAR jumped over a lazy dog'"
      ]
     },
     "execution_count": 23,
     "metadata": {},
     "output_type": "execute_result"
    }
   ],
   "source": [
    "regex.sub('BEAR', line)"
   ]
  },
  {
   "cell_type": "markdown",
   "metadata": {},
   "source": [
    "Mit etwas Überlegung können auch andere native String-Operationen als reguläre Ausdrücke verwendet werden."
   ]
  },
  {
   "cell_type": "markdown",
   "metadata": {},
   "source": [
    "### Ein anspruchsvolleres Beispiel\n",
    "\n",
    "Sie werden sich vielleicht fragen, warum Sie die kompliziertere und ausführlichere Syntax der regulären Ausdrücke verwenden wollen und nicht die intuitiveren und einfacheren String-Methoden?\n",
    "Der Vorteil ist, dass reguläre Ausdrücke *weit* mehr Flexibilität bieten.\n",
    "\n",
    "Im Folgenden werden wir ein komplizierteres Beispiel betrachten: die häufige Aufgabe, E-Mail-Adressen abzugleichen.\n",
    "Wir beginnen damit, einen (etwas unleserlichen) regulären Ausdruck zu schreiben, und gehen dann Schritt für Schritt durch, was dabei geschieht.\n",
    "Los geht's:"
   ]
  },
  {
   "cell_type": "code",
   "execution_count": 24,
   "metadata": {
    "collapsed": true
   },
   "outputs": [
    {
     "name": "stderr",
     "output_type": "stream",
     "text": [
      "<>:1: SyntaxWarning: invalid escape sequence '\\w'\n",
      "<>:1: SyntaxWarning: invalid escape sequence '\\w'\n",
      "/var/folders/r7/c1b9j3hd3k34470n54jct2vc0000gp/T/ipykernel_62526/1504767038.py:1: SyntaxWarning: invalid escape sequence '\\w'\n",
      "  email = re.compile('\\w+@\\w+\\.[a-z]{3}')\n"
     ]
    }
   ],
   "source": [
    "email = re.compile('\\w+@\\w+\\.[a-z]{3}')"
   ]
  },
  {
   "cell_type": "markdown",
   "metadata": {},
   "source": [
    "Damit können wir, wenn wir eine Zeile aus einem Dokument erhalten, schnell Dinge extrahieren, die wie E-Mail-Adressen aussehen"
   ]
  },
  {
   "cell_type": "code",
   "execution_count": 25,
   "metadata": {
    "collapsed": false
   },
   "outputs": [
    {
     "data": {
      "text/plain": [
       "['guido@python.org', 'guido@google.com']"
      ]
     },
     "execution_count": 25,
     "metadata": {},
     "output_type": "execute_result"
    }
   ],
   "source": [
    "text = \"To email Guido, try guido@python.org or the older address guido@google.com.\"\n",
    "email.findall(text)"
   ]
  },
  {
   "cell_type": "markdown",
   "metadata": {},
   "source": [
    "(Beachten Sie, dass diese Adressen frei erfunden sind; wahrscheinlich gibt es bessere Möglichkeiten, mit [Guido](https://de.wikipedia.org/wiki/Guido_van_Rossum) in Kontakt zu treten).\n",
    "\n",
    "Wir können weitere Operationen durchführen, wie z. B. das Ersetzen dieser E-Mail-Adressen durch eine andere Zeichenkette, um vielleicht Adressen in der Ausgabe zu verbergen:"
   ]
  },
  {
   "cell_type": "code",
   "execution_count": 48,
   "metadata": {
    "collapsed": false
   },
   "outputs": [
    {
     "data": {
      "text/plain": [
       "'To email Guido, try --@--.-- or the older address --@--.--.'"
      ]
     },
     "execution_count": 48,
     "metadata": {},
     "output_type": "execute_result"
    }
   ],
   "source": [
    "email.sub('--@--.--', text)"
   ]
  },
  {
   "cell_type": "markdown",
   "metadata": {},
   "source": [
    "Falls wir wirklich *jede* E-Mail-Adresse abgleichen wollen, ist der vorstehende reguläre Ausdruck viel zu einfach.\n",
    "Er lässt zum Beispiel nur Adressen zu, die aus alphanumerischen Zeichen bestehen und auf eine von mehreren gängigen Domänensuffixen enden.\n",
    "So bedeutet beispielsweise der hier verwendete Punkt, dass nur ein Teil der Adresse gefunden wird:"
   ]
  },
  {
   "cell_type": "code",
   "execution_count": 26,
   "metadata": {
    "collapsed": false
   },
   "outputs": [
    {
     "data": {
      "text/plain": [
       "['obama@whitehouse.gov']"
      ]
     },
     "execution_count": 26,
     "metadata": {},
     "output_type": "execute_result"
    }
   ],
   "source": [
    "email.findall('barack.obama@whitehouse.gov')"
   ]
  },
  {
   "cell_type": "markdown",
   "metadata": {},
   "source": [
    "Das zeigt, wie unerbittlich reguläre Ausdrücke sein können, wenn man nicht sorgfältig ist!\n",
    "Wer sich im Internet umsieht, findet einige Vorschläge für reguläre Ausdrücke, die auf *alle* gültigen E-Mails passen, aber Vorsicht: diese Ausdrücke sind viel komplizierter als der hier verwendete einfache Ausdruck!"
   ]
  },
  {
   "cell_type": "markdown",
   "metadata": {},
   "source": [
    "### Grundlagen der Syntax regulärer Ausdrücke\n",
    "\n",
    "Die Syntax der regulären Ausdrücke ist ein viel zu umfangreiches Thema für diesen kurzen Abschnitt.\n",
    "Dennoch kann ein wenig Vertrautheit sehr hilfreich sein: Wir werden hier einige der grundlegenden Konstrukte durchgehen. Weiter Informationen sind in umfassenderen Ressourcen zu finden, die sich mit dem hier erworbenen Wissen besser erschließen lassen."
   ]
  },
  {
   "cell_type": "markdown",
   "metadata": {},
   "source": [
    "#### Einfache Zeichenfolgen werden direkt erkannt\n",
    "\n",
    "Wenn wir einen regulären Ausdruck auf einer einfachen Zeichen- oder Ziffernfolge aufbauen, wird er genau auf diese Zeichenfolge passen:"
   ]
  },
  {
   "cell_type": "code",
   "execution_count": 50,
   "metadata": {
    "collapsed": false
   },
   "outputs": [
    {
     "data": {
      "text/plain": [
       "['ion']"
      ]
     },
     "execution_count": 50,
     "metadata": {},
     "output_type": "execute_result"
    }
   ],
   "source": [
    "regex = re.compile('ion')\n",
    "regex.findall('Great Expectations')"
   ]
  },
  {
   "cell_type": "markdown",
   "metadata": {},
   "source": [
    "#### Einige Zeichen haben besondere Bedeutungen\n",
    "\n",
    "Während einfache Buchstaben oder Zahlen direkte Entsprechungen sind, gibt es eine Handvoll Zeichen, die in regulären Ausdrücken besondere Bedeutungen haben. Diese sind:\n",
    "```\n",
    ". ^ $ * + ? { } [ ] \\ | ( )\n",
    "```\n",
    "Auf die Bedeutung einiger dieser Zeichen werden wir gleich noch eingehen.\n",
    "In der Zwischenzeit sollten Sie wissen, dass Sie jedes dieser Zeichen mit einem umgekehrten Schrägstrich (back-slash) *markieren* können, wenn wir das Zeichen selbst verwenden wollen:"
   ]
  },
  {
   "cell_type": "code",
   "execution_count": 51,
   "metadata": {
    "collapsed": false
   },
   "outputs": [
    {
     "data": {
      "text/plain": [
       "['$']"
      ]
     },
     "execution_count": 51,
     "metadata": {},
     "output_type": "execute_result"
    }
   ],
   "source": [
    "regex = re.compile(r'\\$')\n",
    "regex.findall(\"the cost is $20\")"
   ]
  },
  {
   "cell_type": "markdown",
   "metadata": {},
   "source": [
    "Das ``r`` in ``r'\\$`` zeigt einen *raw string* an; in Standard-Python-Strings wird der Backslash verwendet, um Sonderzeichen anzuzeigen.\n",
    "Ein Tabulator wird zum Beispiel durch ``„\\t“`` angezeigt:"
   ]
  },
  {
   "cell_type": "code",
   "execution_count": 52,
   "metadata": {
    "collapsed": false
   },
   "outputs": [
    {
     "name": "stdout",
     "output_type": "stream",
     "text": [
      "a\tb\tc\n"
     ]
    }
   ],
   "source": [
    "print('a\\tb\\tc')"
   ]
  },
  {
   "cell_type": "markdown",
   "metadata": {},
   "source": [
    "Solche Ersetzungen werden in einer Rohzeichenfolge (*raw string*) nicht vorgenommen:"
   ]
  },
  {
   "cell_type": "code",
   "execution_count": 53,
   "metadata": {
    "collapsed": false
   },
   "outputs": [
    {
     "name": "stdout",
     "output_type": "stream",
     "text": [
      "a\\tb\\tc\n"
     ]
    }
   ],
   "source": [
    "print(r'a\\tb\\tc')"
   ]
  },
  {
   "cell_type": "markdown",
   "metadata": {},
   "source": [
    "Aus diesem Grund ist es ratsam, bei der Verwendung von Backslashes in einem regulären Ausdruck eine Rohzeichenfolge (*raw string*)  zu verwenden."
   ]
  },
  {
   "cell_type": "markdown",
   "metadata": {},
   "source": [
    "#### Sonderzeichen können Zeichengruppen entsprechen\n",
    "\n",
    "Genauso wie das Zeichen ``„\\“`` in regulären Ausdrücken Sonderzeichen in normale Zeichen umwandeln kann, kann es auch verwendet werden, um normalen Zeichen eine besondere Bedeutung zu geben.\n",
    "Diese Sonderzeichen passen zu bestimmten Gruppen von Zeichen, und wir haben sie schon einmal gesehen.\n",
    "Im regulären Ausdruck für E-Mail-Adressen  vorhin haben wir das Zeichen ``„\\w“`` verwendet, ein Sonderzeichen, das auf *jedes alphanumerische Zeichen* passt. In ähnlicher Weise haben wir in dem einfachen ``split()`` Beispiel auch ``„\\s“`` gesehen, eine spezielle Markierung, die *jedes Leerzeichen* (whitespace) angibt.\n",
    "\n",
    "Mit diesen beiden Ausdrücken können wir einen regulären Ausdruck erstellen, der auf *alle zwei Buchstaben/Ziffern mit Leerzeichen dazwischen* passt:"
   ]
  },
  {
   "cell_type": "code",
   "execution_count": 27,
   "metadata": {
    "collapsed": false
   },
   "outputs": [
    {
     "data": {
      "text/plain": [
       "['e f', 'x i', 's 9', 's o']"
      ]
     },
     "execution_count": 27,
     "metadata": {},
     "output_type": "execute_result"
    }
   ],
   "source": [
    "regex = re.compile(r'\\w\\s\\w')\n",
    "regex.findall('the fox is 9 years old')"
   ]
  },
  {
   "cell_type": "markdown",
   "metadata": {},
   "source": [
    "Dieses Beispiel gibt einen ersten Hinweis auf die Leistungsfähigkeit und Flexibilität der regulären Ausdrücke."
   ]
  },
  {
   "cell_type": "markdown",
   "metadata": {},
   "source": [
    "In der folgenden Tabelle sind einige dieser Zeichen aufgelistet, die oft nützlich sind:\n",
    "\n",
    "| Character | Description                 || Character | Description                     |\n",
    "|-----------|-----------------------------||-----------|---------------------------------|\n",
    "| ``\"\\d\"``  | Match any digit             || ``\"\\D\"``  | Match any non-digit             |\n",
    "| ``\"\\s\"``  | Match any whitespace        || ``\"\\S\"``  | Match any non-whitespace        |\n",
    "| ``\"\\w\"``  | Match any alphanumeric char || ``\"\\W\"``  | Match any non-alphanumeric char |\n",
    "\n",
    "Dies ist *keine* umfassende Liste oder Beschreibung; für weitere Details siehe Pythons [regular expression syntax documentation](https://docs.python.org/3/library/re.html#re-syntax)."
   ]
  },
  {
   "cell_type": "markdown",
   "metadata": {},
   "source": [
    "#### Eckige Klammern entsprechen benutzerdefinierten Zeichengruppen\n",
    "\n",
    "Wenn uns die eingebauten Zeichengruppen nicht spezifisch genug sind, können wir eckige Klammern verwenden, um eine beliebige Gruppe von Zeichen anzugeben, an denen wir interessiert sind.\n",
    "Das folgende Beispiel passt auf alle klein geschriebenen Vokale:"
   ]
  },
  {
   "cell_type": "code",
   "execution_count": 28,
   "metadata": {
    "collapsed": false
   },
   "outputs": [
    {
     "data": {
      "text/plain": [
       "['c', 'ns', 'q', '', 'nt', '', 'l']"
      ]
     },
     "execution_count": 28,
     "metadata": {},
     "output_type": "execute_result"
    }
   ],
   "source": [
    "regex = re.compile('[aeiou]')\n",
    "regex.split('consequential')"
   ]
  },
  {
   "cell_type": "markdown",
   "metadata": {},
   "source": [
    "Ebenso können wir einen Bindestrich verwenden, um einen Bereich zu spezifizieren: z.B. ``„[a-z]“`` passt auf jeden Kleinbuchstaben, und ``„[1-3]“`` passt auf alle ``„1“``, ``„2“`` oder ``„3“``.\n",
    "So kann es beispielsweise erforderlich sein, aus einem Dokument bestimmte numerische Codes zu extrahieren, die aus einem Großbuchstaben gefolgt von einer Ziffer bestehen. Wir könnten dies wie folgt tun:"
   ]
  },
  {
   "cell_type": "code",
   "execution_count": 29,
   "metadata": {
    "collapsed": false
   },
   "outputs": [
    {
     "data": {
      "text/plain": [
       "['G2', 'H6']"
      ]
     },
     "execution_count": 29,
     "metadata": {},
     "output_type": "execute_result"
    }
   ],
   "source": [
    "regex = re.compile('[A-Z][0-9]')\n",
    "regex.findall('1043879, G2, H6')"
   ]
  },
  {
   "cell_type": "markdown",
   "metadata": {},
   "source": [
    "#### Wildcards passen zu wiederholten Zeichen\n",
    "\n",
    "Wenn wir eine Zeichenkette mit, sagen wir, drei alphanumerischen Zeichen in einer Reihe abgleichen möchten, können wir zum Beispiel schreiben: ``„\\w\\w\\w“``.\n",
    "Da dies ein häufiges Anliegen ist, gibt es eine spezielle Syntax für die Übereinstimmung von Wiederholungen - geschweifte Klammern mit einer Zahl:"
   ]
  },
  {
   "cell_type": "code",
   "execution_count": 57,
   "metadata": {
    "collapsed": false
   },
   "outputs": [
    {
     "data": {
      "text/plain": [
       "['The', 'qui', 'bro', 'fox']"
      ]
     },
     "execution_count": 57,
     "metadata": {},
     "output_type": "execute_result"
    }
   ],
   "source": [
    "regex = re.compile(r'\\w{3}')\n",
    "regex.findall('The quick brown fox')"
   ]
  },
  {
   "cell_type": "markdown",
   "metadata": {},
   "source": [
    "Es gibt auch Markierungen, die auf eine beliebige Anzahl von Wiederholungen passen - zum Beispiel passt das Zeichen ``„+“`` auf *eine oder mehrere* Wiederholungen dessen, was ihm im Regulären Ausdruck vorausgeht:"
   ]
  },
  {
   "cell_type": "code",
   "execution_count": 58,
   "metadata": {
    "collapsed": false
   },
   "outputs": [
    {
     "data": {
      "text/plain": [
       "['The', 'quick', 'brown', 'fox']"
      ]
     },
     "execution_count": 58,
     "metadata": {},
     "output_type": "execute_result"
    }
   ],
   "source": [
    "regex = re.compile(r'\\w+')\n",
    "regex.findall('The quick brown fox')"
   ]
  },
  {
   "cell_type": "markdown",
   "metadata": {},
   "source": [
    "Hier ist eine Tabelle mit den Wiederholungsmarkern, die in regulären Ausdrücken verwendet werden können:\n",
    "\n",
    "| Character | Description | Example |\n",
    "|-----------|-------------|---------|\n",
    "| ``?`` | Match zero or one repetitions of preceding  | ``\"ab?\"`` matches ``\"a\"`` or ``\"ab\"`` |\n",
    "| ``*`` | Match zero or more repetitions of preceding | ``\"ab*\"`` matches ``\"a\"``, ``\"ab\"``, ``\"abb\"``, ``\"abbb\"``... |\n",
    "| ``+`` | Match one or more repetitions of preceding  | ``\"ab+\"`` matches ``\"ab\"``, ``\"abb\"``, ``\"abbb\"``... but not ``\"a\"`` |\n",
    "| ``{n}`` | Match ``n`` repetitions of preeeding | ``\"ab{2}\"`` matches ``\"abb\"`` |\n",
    "| ``{m,n}`` | Match between ``m`` and ``n`` repetitions of preceding | ``\"ab{2,3}\"`` matches ``\"abb\"`` or ``\"abbb\"`` |"
   ]
  },
  {
   "cell_type": "markdown",
   "metadata": {},
   "source": [
    "Mit diesen Grundlagen im Hinterkopf kehren wir nun zu unserem E-Mail-Adressabgleich zurück:"
   ]
  },
  {
   "cell_type": "code",
   "execution_count": 59,
   "metadata": {
    "collapsed": true
   },
   "outputs": [],
   "source": [
    "email = re.compile(r'\\w+@\\w+\\.[a-z]{3}')"
   ]
  },
  {
   "cell_type": "markdown",
   "metadata": {},
   "source": [
    "Wir können jetzt verstehen, was das bedeutet: Wir wollen ein oder mehrere alphanumerische Zeichen (``„\\w+“``), gefolgt von dem *at-Zeichen* (``„@“``), gefolgt von einem oder mehreren alphanumerischen Zeichen (``„\\w+“``), gefolgt von einem Punkt (``„\\.“`` - Achtung: wir benötigen eine Backslash-Escape-Sequenz), gefolgt von genau drei Kleinbuchstaben.\n",
    "\n",
    "Wenn wir dies nun so ändern wollen, dass die Obama-E-Mail-Adresse übereinstimmt, können wir die Notation in eckigen Klammern verwenden:"
   ]
  },
  {
   "cell_type": "code",
   "execution_count": 10,
   "metadata": {
    "collapsed": false
   },
   "outputs": [
    {
     "data": {
      "text/plain": [
       "['barack.obama@whitehouse.org']"
      ]
     },
     "execution_count": 10,
     "metadata": {},
     "output_type": "execute_result"
    }
   ],
   "source": [
    "email2 = re.compile(r'[\\w.]+\\w@\\w+\\.[a-z]{3}')\n",
    "email2.findall('barack.obama@whitehouse.org')"
   ]
  },
  {
   "cell_type": "markdown",
   "metadata": {},
   "source": [
    "Wir haben ``„\\w+“`` in ``„[\\w.]+“`` geändert, so dass wir jedes alphanumerische Zeichen *oder* einen Punkt finden.\n",
    "Mit diesem flexibleren Ausdruck können wir eine breitere Palette von E-Mail-Adressen abgleichen (wenn auch immer noch nicht alle - können Sie andere Unzulänglichkeiten dieses Ausdrucks erkennen?)."
   ]
  },
  {
   "cell_type": "markdown",
   "metadata": {},
   "source": [
    "#### Klammern bezeichnen zu extrahierende *Gruppen*.\n",
    "\n",
    "Bei zusammengesetzten regulären Ausdrücken wie unserem E-Mail-Matcher wollen wir oft die Komponenten extrahieren und nicht die vollständige Übereinstimmung. Dies kann mit Hilfe von Klammern geschehen, um die Ergebnisse zu *gruppieren*:"
   ]
  },
  {
   "cell_type": "code",
   "execution_count": 30,
   "metadata": {
    "collapsed": true
   },
   "outputs": [],
   "source": [
    "email3 = re.compile(r'([\\w.]+)@(\\w+)\\.([a-z]{3})')"
   ]
  },
  {
   "cell_type": "code",
   "execution_count": 34,
   "metadata": {
    "collapsed": false
   },
   "outputs": [
    {
     "data": {
      "text/plain": [
       "[('guido', 'python', 'org'), ('guido', 'google', 'com')]"
      ]
     },
     "execution_count": 34,
     "metadata": {},
     "output_type": "execute_result"
    }
   ],
   "source": [
    "text = \"To email Guido, try guido@python.org or the older address guido@google.com.\"\n",
    "email3.findall(text)"
   ]
  },
  {
   "cell_type": "markdown",
   "metadata": {},
   "source": [
    "Wie wir sehen, extrahiert diese Gruppierung tatsächlich eine Liste der Unterkomponenten der E-Mail-Adresse.\n",
    "\n",
    "Wir können noch einen Schritt weiter gehen und die extrahierten Komponenten mit der Syntax ``„(?P<name> )“`` benennen. In diesem Fall können die Gruppen als Python-Wörterbuch extrahiert werden:"
   ]
  },
  {
   "cell_type": "code",
   "execution_count": 35,
   "metadata": {
    "collapsed": false
   },
   "outputs": [
    {
     "data": {
      "text/plain": [
       "{'user': 'guido', 'domain': 'python', 'suffix': 'org'}"
      ]
     },
     "execution_count": 35,
     "metadata": {},
     "output_type": "execute_result"
    }
   ],
   "source": [
    "email4 = re.compile(r'(?P<user>[\\w.]+)@(?P<domain>\\w+)\\.(?P<suffix>[a-z]{3})')\n",
    "match = email4.match('guido@python.org')\n",
    "match.groupdict()"
   ]
  },
  {
   "cell_type": "markdown",
   "metadata": {},
   "source": [
    "Die Kombination dieser Ideen (sowie einige der mächtigen regexp-Syntax, die wir hier nicht behandelt haben) ermöglicht es uns, flexibel und schnell Informationen aus Zeichenketten in Python zu extrahieren."
   ]
  },
  {
   "cell_type": "markdown",
   "metadata": {},
   "source": [
    "### Weitere Ressourcen zu regulären Ausdrücken\n",
    "\n",
    "Die obige Diskussion ist nur eine kurze (und bei weitem nicht vollständige) Behandlung dieses umfangreichen Themas.\n",
    "Wer mehr erfahren möchte, dem seien die folgenden Quellen empfohlen:\n",
    "\n",
    "- [Python's ``re`` package Documentation](https://docs.python.org/3/library/re.html): tolle Übersicht, um sich daran zu erinnern, was die einzelnen Zeichen oder Sequenzen innerhalb eines regulären Ausdrucks bedeuten.\n",
    "- [Python's official regular expression HOWTO](https://docs.python.org/3/howto/regex.html): ein eher erzählerischer Ansatz für reguläre Ausdrücke in Python.\n",
    "- [Mastering Regular Expressions (OReilly, 2006)](http://shop.oreilly.com/product/9780596528126.do) ist ein über 500 Seiten starkes Buch zu diesem Thema. Wer eine wirklich umfassende Behandlung dieses Themas wünscht, ist hier genau richtig."
   ]
  }
 ],
 "metadata": {
  "anaconda-cloud": {},
  "kernelspec": {
   "display_name": "Python 3",
   "language": "python",
   "name": "python3"
  },
  "language_info": {
   "codemirror_mode": {
    "name": "ipython",
    "version": 3
   },
   "file_extension": ".py",
   "mimetype": "text/x-python",
   "name": "python",
   "nbconvert_exporter": "python",
   "pygments_lexer": "ipython3",
   "version": "3.12.3"
  }
 },
 "nbformat": 4,
 "nbformat_minor": 0
}
